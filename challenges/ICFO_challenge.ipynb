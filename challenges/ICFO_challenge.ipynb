{
  "cells": [
    {
      "cell_type": "markdown",
      "metadata": {
        "id": "GWorX0n3gzKz"
      },
      "source": [
        "# ICFO Challenge: QUANTUM SIMULATION WITH QUANTUM COMPUTERS\n",
        "\n",
        "Barcelona, April 1-2, 2023\n",
        "\n",
        "&nbsp;\n",
        "\n",
        "---\n",
        "\n",
        "_Greetings, brave heroes! Welcome to the **Qiskit Hackathon Barcelona**._\n",
        "\n",
        "_Unlike the latest blockbuster on the cinemas right now, the challenges you shall face here are no \"mania\" jokes.\n",
        "The nuclear core in our hidden research facilities is destabilized.\n",
        "Your elite team will venture into the core of our underground advanced lab to deal with this emergency situation (or die trying).\n",
        "We estimate a maximum of 24h before it collapses and the radioactive debris ruin the world's surface.\n",
        "Should you succeed, we'll all be safe and you'll be rewarded with great honour.\n",
        "Should you fail, it'll all be lost!\n",
        "But fear not, as the power of real quantum computers will be at your fingertips, allowing you to run actual lab experiments on remote IBM Q processors.\n",
        "With great teamwork no challenge will remain unbeaten._\n",
        "\n",
        "_The evacuation is nearly complete and most of the big-shots are already heading towards their space shuttles.\n",
        "Yes, this is the dimension of the potential catastrophe. No pressure, though.\n",
        "As you head down the facility, contention gates keep shutting down behind you.\n",
        "At the bottom, you encounter your first challenge: the contention gate leading to the core has already been sealed in what looks like a futile and desperate attempt to contain the disaster._\n",
        "\n",
        "_The breaching expert in the team gets to work.\n",
        "However, bypassing this security gate seems more cumbersome than expected.\n",
        "Just as she seems completely out of options, a wild idea crosses her mind: if you knew the magnetic properties of the security system's board, she would have the perfect tool to alter them and break the gate open._\n",
        "\n",
        "---\n",
        "\n",
        "# CONTENTS <a class=\"anchor\" id=\"0\"></a>\n",
        "\n",
        "* [1. SPINS IN THE GROUND-STATE: THE XXZ HEISENBERG MODEL](#1)\n",
        "* [2. FERMIONS IN EXCITED STATES: THE LITHIUM HYDRATE MOLECULE](#2)\n",
        "* [3. MASTER THE QUANTUM SIMULATION SHENANIGANS](#3)\n",
        "* [REFERENCES](#REF)\n",
        "\n",
        "---\n",
        "\n",
        "# 1. SPINS IN THE GROUND STATE: THE XXZ HEISENBERG MODEL <a class=\"anchor\" id=\"1\"></a> [[↑]](#0)\n",
        "\n",
        "_The quantum physicist in your unit, Seedis, gets to work.\n",
        "He kneels down and opens the heavy backpack he's been carrying.\n",
        "It's an actual quantum computer.\n",
        "\"Let's simulate the hell out of it! What're you lookin' at? Chop chop. There's no time to waste!\"_\n",
        "\n",
        "> In this first task, you will study a spin system, a prototypical problem in condensed matter physics. You will find that spins can manifest different phases and behaviours even when they rest at their ground state.\n",
        "\n",
        "To simulate a quantum system, we need to determine the interactions between the quantum particles that constitute it by defining its Hamiltonian operator.\n",
        "The security system's board contains rings that follow the XXZ Heisenberg model [[Ref.1]](#REF)<a class=\"anchor\" id=\"Ref1\"></a>, given by\n",
        "\n",
        "$$ H_{XXZ} = -\\frac{1}{4}\\sum_{i=1}^N \\sigma_i^x\\sigma_{i+1}^x + \\sigma_i^y\\sigma_{i+1}^y + \\Delta \\, \\sigma_i^z\\sigma_{i+1}^z \\,.$$\n",
        "\n",
        "Here, $N$ is the number of spin-1/2 particles, $\\Delta$ is the anisotropy parameter, and $\\sigma^x_i$, $\\sigma^y_i$, and $\\sigma^z_i$ are Pauli operators, where the subscripts label the qubit they act on.\n",
        "Furthermore, we impose the periodic boundary condition $\\sigma^u_{i+N}=\\sigma^u_{i}$ to make the object rest on a ring shape.\n",
        "Note that only qubits next to each other interact.\n",
        "\n",
        "This model captures a rich range of behaviours throughout its phase diagram.\n",
        "First off, for $\\Delta=1$, the model converges to the isotropic Heisenberg Hamiltonian (XXX), where all the terms have the same coupling strength.\n",
        "As we vary $\\Delta$, the system can be in three phases:\n",
        "\n",
        "- $\\Delta> 1$: the **ferromagnetic** phase, where all spins point in the same direction.\n",
        "- $-1<\\Delta<1$: the **paramagnetic** or critical phase, where the spins are completely disordered.\n",
        "- $\\Delta<-1$: the **anti-ferromagnetic** phase, where neighboring spins are anti-aligned.\n",
        "\n",
        "We consider $N=12$ for all the calculations throughout this task, and vary $\\Delta$ to see different physics.\n",
        "\n",
        "## 1.1 - Ground state energy of the XXZ model\n",
        "\n",
        "Quantum systems can be naturally found in their ground state (GS). \n",
        "Thus, the first step is to learn to prepare GSs with the quantum computer.\n",
        "A prominent approach to do so is through the **Variational Quantum Eigensolver (VQE)** algorithm [[Ref. 2]](#REF)<a class=\"anchor\" id=\"Ref2\"></a>.\n",
        "\n",
        "Interestingly, the energy spectrum of the $H_{XXZ}$ model can be obtained analytically using the _Bethe ansatz_. For $\\Delta>1$, the system is in the _ferromagnetic phase_, in which all the spins in the GS point towards the same direction. This GS energy $\\epsilon_{GS}$ is known to be:\n",
        "\n",
        "$$\\epsilon_{GS}=-N\\frac{\\Delta}{4}\\,.$$"
      ]
    },
    {
      "cell_type": "markdown",
      "metadata": {
        "id": "14OPtZVpp3sR"
      },
      "source": [
        "### Prepare a simple $N$-qubit state to represent a GS wave function in the ferromagnetic phase. Compute its energy taking the expectation value of the Hamiltonian to confirm the theoretical result $\\epsilon_{GS}$ for $\\Delta=4$.\n",
        "\n",
        "> Tip: Qiskit's Heisenberg model implementation already assumes the particles have spin 1/2 and, thus, you do not need to put the 1/4 prefactor in the Hamiltonian definition. Don't forget the sign though!"
      ]
    },
    {
      "cell_type": "code",
      "execution_count": 14,
      "metadata": {
        "id": "lCRlHb4QusQc"
      },
      "outputs": [
        {
          "name": "stdout",
          "output_type": "stream",
          "text": [
            "Spin Operator\n",
            "spin=1/2, number spins=12, number terms=36\n",
            "  1.0 * ( X_0 X_1 )\n",
            "+ 1.0 * ( Y_0 Y_1 )\n",
            "+ 4.0 * ( Z_0 Z_1 )\n",
            "+ 1.0 * ( X_1 X_2 )\n",
            "+ 1.0 * ( Y_1 Y_2 )\n",
            "+ 4.0 * ( Z_1 Z_2 )\n",
            "+ 1.0 * ( X_2 X_3 )\n",
            "+ 1.0 * ( Y_2 Y_3 )\n",
            "+ 4.0 * ( Z_2 Z_3 )\n",
            "+ 1.0 * ( X_3 X_4 )\n",
            "+ 1.0 * ( Y_3 Y_4 )\n",
            "+ 4.0 * ( Z_3 Z_4 )\n",
            "+ 1.0 * ( X_4 X_5 )\n",
            "+ 1.0 * ( Y_4 Y_5 )\n",
            "+ 4.0 * ( Z_4 Z_5 )\n",
            "+ 1.0 * ( X_5 X_6 )\n",
            "+ 1.0 * ( Y_5 Y_6 )\n",
            "+ 4.0 * ( Z_5 Z_6 )\n",
            "+ 1.0 * ( X_6 X_7 )\n",
            "+ 1.0 * ( Y_6 Y_7 )\n",
            "+ 4.0 * ( Z_6 Z_7 )\n",
            "+ 1.0 * ( X_7 X_8 )\n",
            "+ 1.0 * ( Y_7 Y_8 )\n",
            "+ 4.0 * ( Z_7 Z_8 )\n",
            "+ 1.0 * ( X_8 X_9 )\n",
            "+ 1.0 * ( Y_8 Y_9 )\n",
            "+ 4.0 * ( Z_8 Z_9 )\n",
            "+ 1.0 * ( X_9 X_10 )\n",
            "+ 1.0 * ( Y_9 Y_10 )\n",
            "+ 4.0 * ( Z_9 Z_10 )\n",
            "+ 1.0 * ( X_10 X_11 )\n",
            "+ 1.0 * ( Y_10 Y_11 )\n",
            "+ 4.0 * ( Z_10 Z_11 )\n",
            "+ 1.0 * ( X_0 X_11 )\n",
            "+ 1.0 * ( Y_0 Y_11 )\n",
            "+ 4.0 * ( Z_0 Z_11 )\n"
          ]
        }
      ],
      "source": [
        "from qiskit_nature.second_q.hamiltonians.lattices import (\n",
        "    BoundaryCondition,\n",
        "    HyperCubicLattice,\n",
        "    Lattice,\n",
        "    LatticeDrawStyle,\n",
        "    LineLattice,\n",
        "    SquareLattice,\n",
        "    TriangularLattice,\n",
        ")\n",
        "\n",
        "from qiskit_nature.second_q.hamiltonians import (\n",
        "    HeisenbergModel,\n",
        ")\n",
        "\n",
        "line_lattice = LineLattice(num_nodes=12, boundary_condition=BoundaryCondition.PERIODIC)\n",
        "\n",
        "# HEISENBERG model\n",
        "\n",
        "heisenberg = HeisenbergModel(lattice=line_lattice, coupling_constants = (1.0,1.0,4.0))\n",
        "\n",
        "print(heisenberg.second_q_op())\n",
        "\n"
      ]
    },
    {
      "cell_type": "markdown",
      "metadata": {
        "id": "JjnnSrRVunsQ"
      },
      "source": [
        "State preparation is not always that straightforward.\n",
        "In the _anti-ferromagmetic phase_ (for $\\Delta<-1$), the GS wave function is more difficult to prepare, as it consists of a non-trivial superposition of the computational basis states.\n",
        "\n",
        "In the VQE algorithm, we use a parameterized circuit to prepare the GS of our Hamiltonian.\n",
        "We start with an initial guess of the circuit parameters and optimize them to minimize the expectation value of the Hamiltonian.\n",
        "This naturally brings us (close) to the GS of the system, as it is, by definition, the state with the lowest energy.\n",
        "\n",
        "Before diving into state preparation with VQE, create a baseline to evaluate the variational results.\n",
        "\n",
        "### Use an exact numerical solver to obtain the GS energy for $\\Delta=-2$"
      ]
    },
    {
      "cell_type": "code",
      "execution_count": null,
      "metadata": {
        "id": "YC8Yw97eunCD"
      },
      "outputs": [],
      "source": []
    },
    {
      "cell_type": "markdown",
      "metadata": {
        "id": "b6wgAc8ovNF0"
      },
      "source": [
        "Use the VQE algorithm to prepare the GS of the Hamiltonian for the same value of $\\Delta$.\n",
        "You should try to achieve the closest estimate to the actual GS energy using an **ansatz consisting of three layers of single- and two-qubit gates, where two-qubit gates connect only near neighbor qubits**.\n",
        "Furthermore, among the different possibilities for the optimizers that you can choose from, use the **Simultaneous Perturbation Stochastic Approximation ([SPSA](https://qiskit.org/documentation/stubs/qiskit.algorithms.optimizers.SPSA.html)) optimizer**.\n",
        "\n",
        "### Use the VQE algorithm to estimate the GS energy for $\\Delta=-2$"
      ]
    },
    {
      "cell_type": "code",
      "execution_count": null,
      "metadata": {
        "id": "3rn7-iHHoGjw"
      },
      "outputs": [],
      "source": []
    },
    {
      "cell_type": "markdown",
      "metadata": {
        "id": "l4M8kWNCoFOs"
      },
      "source": [
        "## 1.2 - Ansatz expressibility\n",
        "\n",
        "This method has several aspects that can be tuned, such as the shape of the ansatz or the optimization algorithm to find the parameters. These are important factors in more elaborate quantum simulations.\n",
        "To better understand the role of these parameters, re-implement the method to solve the previous problem ($H_{XXZ}$ with $\\Delta=-2$) and compare the results obtained with with different combinations of ansatze and classical optimizers.\n",
        "\n",
        " - **Ansatz**:\n",
        " \n",
        "   - Alternating single- and two-qubit (controlled-Z) gate layers, with interactions between all qubit pairs in the two-qubit layers;\n",
        "   - Alternating single- and two-qubit (controlled-Z) gate layers, in which two-qubit gates are applied only between neighbouring qubits.\n",
        "\n",
        " - **Optimizers**:\n",
        " \n",
        "   - Simultaneous Perturbation Stochastic Approximation ([SPSA](https://qiskit.org/documentation/stubs/qiskit.algorithms.optimizers.SPSA.html));\n",
        "   - Constrained Optimization By Linear Approximation ([COBYLA](https://qiskit.org/documentation/stubs/qiskit.algorithms.optimizers.COBYLA.html));\n",
        "   - Sequential Least SQuares Programming ([SLSQP](https://qiskit.org/documentation/stubs/qiskit.algorithms.optimizers.SLSQP.html)).\n",
        "\n",
        "For both types of ansatze above, fix only 3 layers of each type of gate. Compare the 6 different combinations of ansatz and optimizer to understand which one performs better both in terms of the accuracy error obtained, and the time and number of steps to converge.\n",
        "\n",
        "### Plot the estimate of the GS energy as a function of the optimization steps for all the combinations of optimizer and ansatz listed above."
      ]
    },
    {
      "cell_type": "code",
      "execution_count": null,
      "metadata": {
        "id": "VqK8rLKToHpS"
      },
      "outputs": [],
      "source": []
    },
    {
      "cell_type": "markdown",
      "metadata": {
        "id": "scNuLmbQoIre"
      },
      "source": [
        "## 1.3 - Phase diagram\n",
        "\n",
        "As we have introduced above, the full phase diagram of the $H_{XXZ}$ model encompasses a rich range of behaviours:\n",
        "\n",
        "- For $\\Delta>1$, we have a **ferromagnetic** phase.\n",
        "- For $-1<\\Delta<1$, we have a **paramagnetic** phase.\n",
        "- For $\\Delta\\leq-1$, we have an **anti-ferromagnetic** phase.\n",
        "\n",
        "Use the best combination of optimizer and ansatz that you have found before to prepare the GS of the system for different values of $\\Delta$ to reconstruct the phase diagram.\n",
        "Consider, at least, the values of $\\Delta=\\{-2, -1, 0, 1, 2\\}$.\n",
        "These will allow you to probe the properties of the GS in each phase.\n",
        "If you can afford to use more points within the $\\Delta\\in[-2, 2]$ range, go for it!\n",
        "\n",
        "Taking the exact solution as a reference, try to improve the ansatz, e.g., adding more layers, to obtain a better representation of the GS of the system.\n",
        "\n",
        "Once you find the optimal parameters for your best ansatz, use it to compute the expectation value of the **magnetization** of the system along the $z$-axis\n",
        "$$\n",
        "M \\equiv \\frac{1}{2N} \\sum_{i=1}^{N} \\left\\langle \\sigma_{i}^{z} \\right\\rangle\\,,\n",
        "$$\n",
        "the **staggered magnetization**\n",
        "$$\n",
        "M_{st} \\equiv \\frac{1}{2N}\\sum_{i=1}^N (-1)^i\\left\\langle\\sigma_i^z\\right\\rangle\\,,\n",
        "$$\n",
        "as well as the expectation value of the **nearest neighbour correlator**\n",
        "$$\n",
        "C \\equiv \\frac{1}{4N} \\sum_{i=1}^{N}\\left\\langle \\sigma_{i}^{z} \\sigma_{i+1}^{z}  \\right\\rangle\\,.\n",
        "$$\n",
        "Plot these observables as a function of $\\Delta$.\n",
        "You will need to prepare the GS multiple times to estimate these averages from the measurement statistics.\n",
        "\n",
        "### Plot $M$, $M_{st}$ and $C$ as a function of $\\Delta$ and comment on the GS properties you can infer from these observables.\n",
        "> Tip: If you find degenerate GSs, you can compute the expectation values above with only one of them (manually break the symmetry).\n",
        "Alternatively, you can try to energetically favour one of those by adding an external magnetic field in one direction in the Hamiltonian $H_{XXZ} + \\delta\\sigma_0^z$ with small $\\delta$."
      ]
    },
    {
      "cell_type": "code",
      "execution_count": null,
      "metadata": {
        "id": "0a33gxSpxlzV"
      },
      "outputs": [],
      "source": []
    },
    {
      "cell_type": "markdown",
      "metadata": {
        "id": "sj7EebTFg3HG"
      },
      "source": [
        "_Having characterized the security system's board material, your breaching expert proceeds to hack it by driving it through the different phases at convenience._\n",
        "\n",
        "_Congratulations, you've overcome the first challenge!_\n",
        "\n",
        "----\n",
        "_The main gate opens and you get a first glimpse of the core's control room.\n",
        "Apparently, they were conducting research on cleaner nuclear energy.\n",
        "A novel purpose, although it's now about to wipe us all clean._\n",
        "\n",
        "_The core is shielded with a shell of lithium hydrate (LiH).\n",
        "However, the nuclear reaction is going wild and it's destabilizing the shell.\n",
        "The radiation coming from the core has heated the LiH and excited its electrons, which interferes with the diagnosis system.\n",
        "If you knew the electronic structure of the material, you could bring the excited electrons down to their low-lying states through stimulated emission._\n",
        "\n",
        "# 2. FERMIONS IN EXCITED STATES: THE LITHIUM HYDRATE MOLECULE  <a class=\"anchor\" id=\"2\"></a> [[↑]](#0)\n",
        "\n",
        "_You're packing the quantum computer, when Seedis starts taking it out again.\n",
        "\"Alright mates, we've got plenty of lasers around.\n",
        "Let's figure out the spectrum of the shell and we can surely point at it some of them to hold it together\"._\n",
        "\n",
        "> Molecular compounds are extremely valuable for our society, as they are central in material sciences and medicine.\n",
        "Here, we study the electronic properties of the LiH ionic conductor.\n",
        "Actually, we use different isotopes of LiH to shield and moderate nuclear reactors, but we take this little licence here :)\n",
        "\n",
        "The goal is to study the electronic structure of the lithium hydrate (LiH) molecule.\n",
        "The energies in the reactor are so high that the molecules are being distorted.\n",
        "Therefore, we wish to know the dependence of the low-lying excited states with the interatomic distance. \n",
        "\n",
        "The particles we consider (electrons) are fermions.\n",
        "These are different in nature from the qubits we have access to.\n",
        "Thus, we need to map the fermionic Hamiltonian to qubits.\n",
        "To give an intuition, we can relate our qubit states, $|0\\rangle$ and $|1\\rangle$, with the occupation of the molecule's electronic orbitals, e.g. we can mark occupied orbitals with a $|1\\rangle$.\n",
        "Here, consider the minimal basis set of spin orbitals STO-3G.\n",
        "\n",
        "When we study these physical systems, we need to take into account that our molecules have a fixed number of electrons that move along the orbitals.\n",
        "This means we can only consider states with a fixed amount of qubits in state $|1\\rangle$, as changing orbitals will replace $|0\\rangle$ by $|1\\rangle$ in the destination and $|1\\rangle$ by $|0\\rangle$ at the origin.\n",
        "For example, Li has three electrons and H has one, meaning that our states must always have four qubits in state $|1\\rangle$.\n",
        "Properly encoding this in our variational ansatze will be essential to find good results.\n",
        "\n",
        "> Tip: to ease the calculations, restrict the active space by freezing the core orbitals. \n",
        "Furthermore, you can exploit the symmetries in the resulting Hamiltonian to reduce the number of qubits.\n",
        "This does not look like a lot, but it'll surely help ;)\n",
        "\n",
        "## 2.1 - Molecular spectra\n",
        "\n",
        "To warm up, find the GS energy of the LiH molecule considering a bond distance of $2~\\unicode{x212B}$.\n",
        "Use a parity map to map the fermionic Hamiltonian to qubits.\n",
        "Compute also the energy of the next two excited states.\n",
        "\n",
        "Find the true values with exact diagonalization and compare them with the results obtained through VQE (the closer, the better!).\n",
        "To obtain the excited states, you can use any extension of the VQE you want, e.g., variational quantum deflation [[Ref.3]](#REF)<a class=\"anchor\" id=\"Ref3\"></a>.\n",
        "\n",
        "Use a suitable optimizer and a particle-preserving ansatz.\n",
        "\n",
        "### Compute the energy of the GS and the two first excited states and compare them with the exact results."
      ]
    },
    {
      "cell_type": "code",
      "execution_count": null,
      "metadata": {
        "id": "dXH_uwoHhPBB"
      },
      "outputs": [],
      "source": []
    },
    {
      "cell_type": "markdown",
      "metadata": {
        "id": "qyPWUSto7as0"
      },
      "source": [
        "## 2.2 - Spectrum as function of the bond length\n",
        "\n",
        "Compute the the GS and the first two excited states energies as function of the bond length.\n",
        "Consider bond lengths in a range of $0.5~\\unicode{x212B}$ and $2.5~\\unicode{x212B}$ in intervals of $0.25~\\unicode{x212B}$.\n",
        "\n",
        "Compare the exact energies with those obtained through variational methods.\n",
        "\n",
        "### Compute the energy of the GS and the next two excited states as function of the bond length. Can you (roughly) identify a candidate for the equilibrium bond length of the molecule?"
      ]
    },
    {
      "cell_type": "code",
      "execution_count": null,
      "metadata": {
        "id": "IHIUxzQUhQJj"
      },
      "outputs": [],
      "source": []
    },
    {
      "cell_type": "markdown",
      "metadata": {
        "id": "9A6X1nisD941"
      },
      "source": [
        "## 2.3 - Imperfect devices\n",
        "\n",
        "In the current noisy intermediate-scale quantum (NISQ) devices, the operations are imperfect and the errors accumulate along the execution of the circuit.\n",
        "In particular, two-qubit operations, such as the CNOT, have the highest errors.\n",
        "\n",
        "Here, we consider a more realistic scenario in which we simulate noisy two-qubit gates.\n",
        "Create a noise model considering an error rate of $0.02$ in CNOT operations.\n",
        "See the example code below:\n",
        "\n",
        "```python\n",
        "from qiskit_aer.noise import NoiseModel, depolarizing_error\n",
        "noise_model = NoiseModel()\n",
        "error = depolarizing_error(0.02, 2)\n",
        "noise_model.add_all_qubit_quantum_error(error, ['cx'])\n",
        "```\n",
        "\n",
        "Compute the GS and first excited state energies as function of the bond length with the noisy simulation and compare it with the exact values.\n",
        "\n",
        "Large circuits with many entangling gates will accumulate many errors, damaging the performance.\n",
        "Try different ansatze to find the best trade-off between expressivity and errors (even if they do not preserve the particle number).\n",
        "You can also use other Hamiltonian mappings that may be more convenient for the task.\n",
        "\n",
        "Report the best results you find and briefly describe your findings (what worked best and what did not).\n",
        "\n",
        "### Compute the GS and first excited state energies as function of the bond length in the noisy simulation."
      ]
    },
    {
      "cell_type": "code",
      "execution_count": null,
      "metadata": {
        "id": "BFGnvIHihQMW"
      },
      "outputs": [],
      "source": []
    },
    {
      "cell_type": "markdown",
      "metadata": {
        "id": "9K0gCJHDhQbK"
      },
      "source": [
        "_Knowing the electronic properties of the shell, you've managed to stabilize it and cool it a bit in the process.\n",
        "This has given you some time to work and find a solution._\n",
        "\n",
        "_We're all slightly less likely to die. Great!_\n",
        "\n",
        "----\n",
        "\n",
        "_With the stabilized shell, you can finally run a scanner and obtain a clear diagnosis of the core.\n",
        "It appears that someone must've momentarily slept on the core moderators, producing a high temperature spike that has caused the LiH from the shell to release hydrogen gas (H$_2$)._\n",
        "\n",
        "_This has ignited a side fusion reaction of the hydrogen, that further raises the temperature, releasing more H$_2$ to the mixture.\n",
        "NOT GOOD!\n",
        "This'll get out of control in a moment.\n",
        "You must deploy the H collectors (if they work) before this gets out of control!_\n",
        "\n",
        "_With the apparent mess, the collector memories have been reset.\n",
        "Given the situation, you feel lucky to even find some functional collectors._ \n",
        "\n",
        "# 3. MASTER THE QUANTUM SIMULATION SHENANIGANS  <a class=\"anchor\" id=\"3\"></a> [[↑]](#0)\n",
        "\n",
        "_Seedis is on a rampage: \"Let's go bois and gals, these collectors won't get fixed by themselves! We just need to load the H$_2$ data to stop the retroalimentation loop.\"_\n",
        "\n",
        "> It's time to test the power of a real quantum computer.\n",
        "In this task you will use an actual quantum computer to find the ground state of the H$_2$ molecule. \n",
        "\n",
        "Using one of the quantum computers from [IBM Quantum](https://quantum-computing.ibm.com/), find the GS energy of the hydrogen molecule H$_2$ for a bond distance of $0.735~\\unicode{x212B}$.\n",
        "Use all the tools at your disposal to obtain the best possible result and try to make the most efficient use of resources through [Qiskit runtime](https://quantum-computing.ibm.com/lab/docs/iql/runtime/).\n",
        "\n",
        "We recommend looking carefully at both runtime (the faster, the more you can experiment) and error sources (self-explanatory!).\n",
        "Here, we provide a few ideas to explore. However, you are not bound to implement any of these, you're completely free to do whatever you want to improve the simulation.\n",
        "\n",
        "Consider:\n",
        "- Looking into the hardware architecture to identify the best qubits to use\n",
        "- Calibrate the qubits with [Qiskit Pulse](https://qiskit.org/textbook/ch-quantum-hardware/calibrating-qubits-pulse.html)\n",
        "- Tailor the ansatz to the hardware\n",
        "- Implement an adaptive algorithm to reduce the ansatz size\n",
        "- Implement error mitigation techniques like [measurement error mitigation](https://qiskit.org/textbook/ch-quantum-hardware/measurement-error-mitigation.html), [randomized compiling](https://qiskit.org/documentation/stable/0.32/stubs/qiskit.ignis.verification.QOTP.html), and [others](https://qiskit.org/documentation/partners/qiskit_ibm_runtime/tutorials/Error-Suppression-and-Error-Mitigation.html)\n",
        "- Parallelize operations and measurements\n",
        "- Explore [dynamic circuit](https://quantum-computing.ibm.com/services/programs/docs/runtime/manage/systems/dynamic-circuits/Introduction-To-Dynamic-Circuits) techniques\n",
        "- Explore more advanced optimization schemes (e.g., [Quantum Natural SPSA](https://qiskit.org/documentation/stubs/qiskit.algorithms.optimizers.QNSPSA.html))"
      ]
    },
    {
      "cell_type": "code",
      "execution_count": null,
      "metadata": {
        "id": "U2y8hsqHoU70"
      },
      "outputs": [],
      "source": []
    },
    {
      "cell_type": "markdown",
      "metadata": {
        "id": "0Kn1uRy5fKlC"
      },
      "source": [
        "## Bonus: an extra atom\n",
        "\n",
        "If you consider that you have obtained a competitive result for H$_2$, you can tackle the H$_3^+$ molecule. It has the same number of electrons, but you will have to consider more orbitals (which requires more qubits).\n",
        "\n",
        "The three hydrogen atoms form an equilater triangle with bond length $0.986~\\unicode{x212B}$."
      ]
    },
    {
      "cell_type": "code",
      "execution_count": null,
      "metadata": {
        "id": "d3AZw972fMZ_"
      },
      "outputs": [],
      "source": []
    },
    {
      "cell_type": "markdown",
      "metadata": {
        "id": "8KT-Vk91AzTv"
      },
      "source": [
        "_You upload the simulation results to the few functional collectors.\n",
        "With more faith than expectations, you deploy them to clear the core chamber hoping they will collect enough H$_2$ before they fry._\n",
        "\n",
        "_Alea iacta est._\n",
        "\n",
        "_This gives you a brief moment to think about the possible outcomes.\n",
        "It does not look good, and you look into your teamates eyes.\n",
        "You feel pure respect and joy to be in such an amazing unit._\n",
        "\n",
        "_The last collector is down.\n",
        "Your heart stops for a moment, right before you see the temperature starting to drop.\n",
        "You did it!\n",
        "Well, technically you still need to stabilize the core, but the biggest threat has been neutralized.\n",
        "The rest is just a rutinary protocol._\n",
        "\n",
        "_Congratulations!\n",
        "You should all be proud of your hard work during this intense weekend.\n",
        "It surely was an entertaining crisis to handle!_\n",
        "\n",
        "## REFERENCES <a class=\"anchor\" id=\"REF\"></a> [[↑]](#0)\n",
        "\n",
        "[1] Franchini, Fabio. An introduction to integrable techniques for one-dimensional quantum systems. Vol. 940. Cham: Springer International Publishing, 2017. ([url](https://arxiv.org/abs/1609.02100))\n",
        "\n",
        "[2] Kandala, Abhinav, et al. \"Hardware-efficient variational quantum eigensolver for small molecules and quantum magnets.\" Nature 549.7671 (2017): 242-246. ([url](https://arxiv.org/abs/1704.05018))\n",
        "\n",
        "[3] Higgott, Oscar, Daochen Wang, and Stephen Brierley. \"Variational quantum computation of excited states.\" Quantum 3 (2019): 156. ([url](https://quantum-journal.org/papers/q-2019-07-01-156/))"
      ]
    }
  ],
  "metadata": {
    "colab": {
      "provenance": []
    },
    "kernelspec": {
      "display_name": "Python 3",
      "name": "python3"
    },
    "language_info": {
      "codemirror_mode": {
        "name": "ipython",
        "version": 3
      },
      "file_extension": ".py",
      "mimetype": "text/x-python",
      "name": "python",
      "nbconvert_exporter": "python",
      "pygments_lexer": "ipython3",
      "version": "3.11.2"
    }
  },
  "nbformat": 4,
  "nbformat_minor": 0
}
