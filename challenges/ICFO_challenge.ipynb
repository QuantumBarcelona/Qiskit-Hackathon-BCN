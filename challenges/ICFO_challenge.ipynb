{
 "nbformat": 4,
 "nbformat_minor": 0,
 "metadata": {
  "colab": {
   "provenance": []
  },
  "kernelspec": {
   "name": "python3",
   "display_name": "Python 3"
  },
  "language_info": {
   "name": "python"
  }
 },
 "cells": [
  {
   "cell_type": "markdown",
   "source": [
    "# ICFO Challenge: QUANTUM SIMULATION WITH QUANTUM COMPUTERS\n",
    "\n",
    "Barcelona, April 1-2, 2023\n",
    "\n",
    "&nbsp;\n",
    "\n",
    "---\n",
    "\n",
    "_Greetings, brave heroes! Welcome to the **Qiskit Hackathon Barcelona**._\n",
    "\n",
    "_Unlike the latest blockbuster on the cinemas right now, the challenges you shall face here are no \"mania\" jokes.\n",
    "The nuclear core in our hidden research facilities is destabilized.\n",
    "Your elite team will venture into the core of our underground advanced lab to deal with this emergency situation (or die trying).\n",
    "We estimate a maximum of 24h before it collapses and the radioactive debris ruin the world's surface.\n",
    "Should you succeed, we'll all be safe and you'll be rewarded with great honour.\n",
    "Should you fail, it'll all be lost!\n",
    "But fear not, as the power of real quantum computers will be at your fingertips, allowing you to run actual lab experiments on remote IBM Q processors.\n",
    "With great teamwork no challenge will remain unbeaten._\n",
    "\n",
    "_The evacuation is nearly complete and most of the big-shots are already heading towards their space shuttles.\n",
    "Yes, this is the dimension of the potential catastrophe. No pressure, though.\n",
    "As you head down the facility, contention gates keep shutting down behind you.\n",
    "At the bottom, you encounter your first challenge: the contention gate leading to the core has already been sealed in what looks like a futile and desperate attempt to contain the disaster._\n",
    "\n",
    "_The breaching expert in the team gets to work.\n",
    "However, bypassing this security gate seems more cumbersome than expected.\n",
    "Just as she seems completely out of options, a wild idea crosses her mind: if you knew the magnetic properties of the security system's board, she would have the perfect tool to alter them and break the gate open._\n",
    "\n",
    "---\n",
    "\n",
    "# CONTENTS <a class=\"anchor\" id=\"0\"></a>\n",
    "\n",
    "* [1. SPINS IN THE GROUND-STATE: THE XXZ HEISENBERG MODEL](#1)\n",
    "* [2. FERMIONS IN EXCITED STATES: THE LITHIUM HYDRATE MOLECULE](#2)\n",
    "* [3. MASTER THE QUANTUM SIMULATION SHENANIGANS](#3)\n",
    "* [REFERENCES](#REF)\n",
    "\n",
    "---\n",
    "\n",
    "# 1. SPINS IN THE GROUND STATE: THE XXZ HEISENBERG MODEL <a class=\"anchor\" id=\"1\"></a> [[↑]](#0)\n",
    "\n",
    "_The quantum physicist in your unit, Seedis, gets to work.\n",
    "He kneels down and opens the heavy backpack he's been carrying.\n",
    "It's an actual quantum computer.\n",
    "\"Let's simulate the hell out of it! What're you lookin' at? Chop chop. There's no time to waste!\"_\n",
    "\n",
    "> In this first task, you will study a spin system, a prototypical problem in condensed matter physics. You will find that spins can manifest different phases and behaviours even when they rest at their ground state.\n",
    "\n",
    "To simulate a quantum system, we need to determine the interactions between the quantum particles that constitute it by defining its Hamiltonian operator.\n",
    "The security system's board contains rings that follow the XXZ Heisenberg model [[Ref.1]](#REF)<a class=\"anchor\" id=\"Ref1\"></a>, given by\n",
    "\n",
    "$$ H_{XXZ} = -\\frac{1}{4}\\sum_{i=1}^N \\sigma_i^x\\sigma_{i+1}^x + \\sigma_i^y\\sigma_{i+1}^y + \\Delta \\, \\sigma_i^z\\sigma_{i+1}^z \\,.$$\n",
    "\n",
    "Here, $N$ is the number of spin-1/2 particles, $\\Delta$ is the anisotropy parameter, and $\\sigma^x_i$, $\\sigma^y_i$, and $\\sigma^z_i$ are Pauli operators, where the subscripts label the qubit they act on.\n",
    "Furthermore, we impose the periodic boundary condition $\\sigma^u_{i+N}=\\sigma^u_{i}$ to make the object rest on a ring shape.\n",
    "Note that only qubits next to each other interact.\n",
    "\n",
    "This model captures a rich range of behaviours throughout its phase diagram.\n",
    "First off, for $\\Delta=1$, the model converges to the isotropic Heisenberg Hamiltonian (XXX), where all the terms have the same coupling strength.\n",
    "As we vary $\\Delta$, the system can be in three phases:\n",
    "\n",
    "- $\\Delta> 1$: the **ferromagnetic** phase, where all spins point in the same direction.\n",
    "- $-1<\\Delta<1$: the **paramagnetic** or critical phase, where the spins are completely disordered.\n",
    "- $\\Delta<-1$: the **anti-ferromagnetic** phase, where neighboring spins are anti-aligned.\n",
    "\n",
    "We consider $N=12$ for all the calculations throughout this task, and vary $\\Delta$ to see different physics.\n",
    "\n",
    "## 1.1 - Ground state energy of the XXZ model\n",
    "\n",
    "Quantum systems can be naturally found in their ground state (GS). \n",
    "Thus, the first step is to learn to prepare GSs with the quantum computer.\n",
    "A prominent approach to do so is through the **Variational Quantum Eigensolver (VQE)** algorithm [[Ref. 2]](#REF)<a class=\"anchor\" id=\"Ref2\"></a>.\n",
    "\n",
    "Interestingly, the energy spectrum of the $H_{XXZ}$ model can be obtained analytically using the _Bethe ansatz_. For $\\Delta>1$, the system is in the _ferromagnetic phase_, in which all the spins in the GS point towards the same direction. This GS energy $\\epsilon_{GS}$ is known to be:\n",
    "\n",
    "$$\\epsilon_{GS}=-N\\frac{\\Delta}{4}\\,.$$"
   ],
   "metadata": {
    "id": "GWorX0n3gzKz",
    "pycharm": {
     "name": "#%% md\n"
    }
   }
  },
  {
   "cell_type": "markdown",
   "source": [
    "### Prepare a simple $N$-qubit state to represent a GS wave function in the ferromagnetic phase. Compute its energy taking the expectation value of the Hamiltonian to confirm the theoretical result $\\epsilon_{GS}$ for $\\Delta=4$.\n",
    "\n",
    "> Tip: Qiskit's Heisenberg model implementation already assumes the particles have spin 1/2 and, thus, you do not need to put the 1/4 prefactor in the Hamiltonian definition. Don't forget the sign though!"
   ],
   "metadata": {
    "id": "14OPtZVpp3sR",
    "pycharm": {
     "name": "#%% md\n"
    }
   }
  },
  {
   "cell_type": "markdown",
   "source": [
    "### Our general approach is based on the property that $\\left< YY\\right> = - \\left< XX \\right> \\cdot \\left< ZZ \\right>$, meaning that we will only measure the expecation values of the $ZZ$ and $XX$ coupling terms. To measure the expectation values of the $XX$ terms, we transform to the $Z$-basis by using the Hadamard transform on each qubit."
   ],
   "metadata": {
    "collapsed": false,
    "pycharm": {
     "name": "#%% md\n"
    }
   }
  },
  {
   "cell_type": "code",
   "execution_count": null,
   "outputs": [],
   "source": [
    "from qiskit import QuantumCircuit\n",
    "\n",
    "num_qubits = 12\n",
    "Delta = 1\n",
    "\n",
    "qc_z = QuantumCircuit(12)\n",
    "qc_x = QuantumCircuit(12)\n",
    "\n",
    "# If all spins up, otherwise use block command here --------\n",
    "for qubit in range(num_qubits):\n",
    "    qc_z.x(qubit)\n",
    "    qc_x.x(qubit)\n",
    "\n",
    "# -----------------------------------------------------------\n",
    "\n",
    "for qubit in range(num_qubits):\n",
    "    qc_x.h(qubit)\n",
    "\n",
    "for qc in [qc_z, qc_x]:\n",
    "    qc.measure_all()"
   ],
   "metadata": {
    "collapsed": false,
    "pycharm": {
     "name": "#%%\n"
    }
   }
  },
  {
   "cell_type": "markdown",
   "source": [
    "### Here, we use the sampler to obtain the counts."
   ],
   "metadata": {
    "collapsed": false,
    "pycharm": {
     "name": "#%% md\n"
    }
   }
  },
  {
   "cell_type": "code",
   "execution_count": 58,
   "outputs": [],
   "source": [
    "from qiskit.primitives import Sampler\n",
    "\n",
    "sampler = Sampler()\n",
    "\n",
    "job = sampler.run(circuits=[qc_z, qc_x])\n",
    "results_z = job.result().quasi_dists[0].binary_probabilities()\n",
    "results_x = job.result().quasi_dists[1].binary_probabilities()"
   ],
   "metadata": {
    "collapsed": false,
    "pycharm": {
     "name": "#%%\n"
    }
   }
  },
  {
   "cell_type": "markdown",
   "source": [
    "### Last, we convert the counts back to expectation values. For each pair of coupled qubits, we determine the expectation values of $ZZ$ and $XX$ by adding the probabilities for even parities (00 and 11) and subtracting them for odd parities (01 and 10)."
   ],
   "metadata": {
    "collapsed": false,
    "pycharm": {
     "name": "#%% md\n"
    }
   }
  },
  {
   "cell_type": "code",
   "execution_count": 59,
   "outputs": [],
   "source": [
    "def counts_to_expectation_value(results, i1, i2):\n",
    "    \"\"\"\n",
    "\n",
    "    :param results: Count dictionary\n",
    "    :param i1: index of qubit 1\n",
    "    :param i2: index of qubit 2\n",
    "    :return: expectation value\n",
    "    \"\"\"\n",
    "    ev = 0\n",
    "\n",
    "    for key in results.keys():\n",
    "            local_key = key[i1]+key[i2]\n",
    "            if local_key == \"00\" or local_key == \"11\":\n",
    "                ev += results[key]\n",
    "            else:\n",
    "                ev -= results[key]\n",
    "\n",
    "    return ev\n",
    "\n",
    "ZZs = []\n",
    "XXs = []\n",
    "YYs = []\n",
    "\n",
    "for n in range(num_qubits):\n",
    "\n",
    "    i1 = n\n",
    "    i2 = (n + 1) % num_qubits\n",
    "\n",
    "    ZZs.append(counts_to_expectation_value(results_z, i1, i2))\n",
    "    XXs.append(counts_to_expectation_value(results_x, i1, i2))\n",
    "\n",
    "for ZZ, XX in zip(ZZs, XXs):\n",
    "    YYs.append(XX*ZZ)"
   ],
   "metadata": {
    "collapsed": false,
    "pycharm": {
     "name": "#%%\n"
    }
   }
  },
  {
   "cell_type": "markdown",
   "source": [
    "### In the end, we find perfect agreement with the exact solution (here for $\\Delta=1$)."
   ],
   "metadata": {
    "collapsed": false,
    "pycharm": {
     "name": "#%% md\n"
    }
   }
  },
  {
   "cell_type": "code",
   "execution_count": 61,
   "outputs": [
    {
     "name": "stdout",
     "output_type": "stream",
     "text": [
      "Ground state energy: -3.0\n"
     ]
    }
   ],
   "source": [
    "E_gs = - 1/4 * (sum(XXs) + sum(YYs) + Delta * sum(ZZs))\n",
    "print(f\"Ground state energy: {E_gs}\")"
   ],
   "metadata": {
    "collapsed": false,
    "pycharm": {
     "name": "#%%\n"
    }
   }
  },
  {
   "cell_type": "markdown",
   "source": [
    "### Construct Hamiltonian"
   ],
   "metadata": {
    "collapsed": false,
    "pycharm": {
     "name": "#%% md\n"
    }
   }
  },
  {
   "cell_type": "code",
   "execution_count": 1,
   "outputs": [],
   "source": [
    "from qiskit_nature.second_q.hamiltonians import HeisenbergModel\n",
    "from qiskit_nature.second_q.hamiltonians.lattices import LineLattice, BoundaryCondition\n",
    "from qiskit_nature.second_q.mappers import LogarithmicMapper\n",
    "from qiskit.quantum_info import SparsePauliOp\n",
    "\n",
    "def get_heisenberg_observables(num_qubits=12, delta = 1):\n",
    "\n",
    "    line_lattice = LineLattice(num_nodes=num_qubits, boundary_condition=BoundaryCondition.PERIODIC)\n",
    "\n",
    "    model = HeisenbergModel(lattice=line_lattice, coupling_constants=(-1, -1, -delta))\n",
    "    hamiltonian = model.second_q_op()\n",
    "    mapper = LogarithmicMapper()\n",
    "    observables = mapper.map(hamiltonian).primitive\n",
    "\n",
    "    return observables\n",
    "\n",
    "    #hamiltonian = model.second_q_op()\n",
    "    #mapper = LogarithmicMapper()\n",
    "    #pauli_ops = mapper.map(hamiltonian)\n",
    "\n",
    "    #return model, pauli_ops"
   ],
   "metadata": {
    "collapsed": false,
    "pycharm": {
     "name": "#%%\n"
    }
   }
  },
  {
   "cell_type": "markdown",
   "source": [
    "### Create circuits to initialize the ground states"
   ],
   "metadata": {
    "collapsed": false,
    "pycharm": {
     "name": "#%% md\n"
    }
   }
  },
  {
   "cell_type": "code",
   "execution_count": 3,
   "outputs": [],
   "source": [
    "from qiskit import QuantumCircuit\n",
    "\n",
    "num_qubits = 12\n",
    "\n",
    "qc_spin_down = QuantumCircuit(num_qubits)\n",
    "qc_spin_up = QuantumCircuit(num_qubits)\n",
    "\n",
    "for qubit in range(num_qubits):\n",
    "    qc_spin_up.x(qubit)"
   ],
   "metadata": {
    "collapsed": false,
    "pycharm": {
     "name": "#%%\n"
    }
   }
  },
  {
   "cell_type": "markdown",
   "source": [
    "### Here, we extract the $ZZ$ and $XX$ terms, because we do not need to measure the $YY$ terms."
   ],
   "metadata": {
    "collapsed": false,
    "pycharm": {
     "name": "#%% md\n"
    }
   }
  },
  {
   "cell_type": "code",
   "execution_count": 4,
   "outputs": [
    {
     "name": "stdout",
     "output_type": "stream",
     "text": [
      "XX-terms: [0. 0. 0. 0. 0. 0. 0. 0. 0. 0. 0. 0.]\n"
     ]
    }
   ],
   "source": [
    "from qiskit.primitives import Estimator\n",
    "\n",
    "#model = get_heisenberg_model()\n",
    "#hamiltonian = model.second_q_op()\n",
    "#mapper = LogarithmicMapper()\n",
    "observables = get_heisenberg_observables()\n",
    "\n",
    "paulis, coeffs = observables.paulis.to_labels(), observables.coeffs\n",
    "\n",
    "paulis_z = [pauli for pauli in paulis if \"Z\" in pauli]\n",
    "coeffs_z = [coeffs[paulis.index(pauli)] for pauli in paulis_z]\n",
    "\n",
    "paulis_x = [pauli for pauli in paulis if \"X\" in pauli]\n",
    "coeffs_x = [coeffs[paulis.index(pauli)] for pauli in paulis_z]\n",
    "\n",
    "observable_z = SparsePauliOp(paulis_z, coeffs_z)\n",
    "observables_x = [SparsePauliOp(pauli, coeff) for pauli, coeff in zip(paulis_x, coeffs_x)]\n",
    "\n",
    "estimator = Estimator()\n",
    "\n",
    "# Exchange here for the other ground state\n",
    "qc = qc_spin_up\n",
    "\n",
    "job_z = estimator.run(qc, observable_z)\n",
    "job_x = estimator.run([qc]*num_qubits, observables_x)\n",
    "\n",
    "print(f\"XX-terms: {job_x.result().values}\")"
   ],
   "metadata": {
    "collapsed": false,
    "pycharm": {
     "name": "#%%\n"
    }
   }
  },
  {
   "cell_type": "markdown",
   "source": [
    "### We notice that all $\\left< X_i X_{i+1}\\right>$ terms vanish. Consequently, the same holds for all $\\left< Y_i Y_{i+1}\\right>$, and we only need the $ZZ$ terms for the final result. We find our result to be in agreement with the exact solution."
   ],
   "metadata": {
    "collapsed": false,
    "pycharm": {
     "name": "#%% md\n"
    }
   }
  },
  {
   "cell_type": "code",
   "execution_count": 5,
   "outputs": [
    {
     "name": "stdout",
     "output_type": "stream",
     "text": [
      "Ground state energy: -3.0\n"
     ]
    }
   ],
   "source": [
    "e_gs = job_z.result().values[0]\n",
    "print(f\"Ground state energy: {e_gs}\")"
   ],
   "metadata": {
    "collapsed": false,
    "pycharm": {
     "name": "#%%\n"
    }
   }
  },
  {
   "cell_type": "markdown",
   "source": [
    "State preparation is not always that straightforward.\n",
    "In the _anti-ferromagmetic phase_ (for $\\Delta<-1$), the GS wave function is more difficult to prepare, as it consists of a non-trivial superposition of the computational basis states.\n",
    "\n",
    "In the VQE algorithm, we use a parameterized circuit to prepare the GS of our Hamiltonian.\n",
    "We start with an initial guess of the circuit parameters and optimize them to minimize the expectation value of the Hamiltonian.\n",
    "This naturally brings us (close) to the GS of the system, as it is, by definition, the state with the lowest energy.\n",
    "\n",
    "Before diving into state preparation with VQE, create a baseline to evaluate the variational results.\n",
    "\n",
    "### Use an exact numerical solver to obtain the GS energy for $\\Delta=-2$"
   ],
   "metadata": {
    "id": "JjnnSrRVunsQ",
    "pycharm": {
     "name": "#%% md\n"
    }
   }
  },
  {
   "cell_type": "code",
   "source": [
    "from qiskit_nature.second_q.algorithms import GroundStateEigensolver\n",
    "from qiskit_nature.second_q.algorithms.ground_state_solvers.ground_state_eigensolver import MinimumEigensolver\n",
    "from qiskit_nature.second_q.mappers import QubitConverter\n",
    "from qiskit.algorithms.minimum_eigensolvers import NumPyMinimumEigensolver\n",
    "\n",
    "# qubit_converter = QubitConverter(LogarithmicMapper())\n",
    "numpy_solver = NumPyMinimumEigensolver()\n",
    "\n",
    "# solver = GroundStateEigensolver(qubit_converter, numpy_solver)\n",
    "\n",
    "observables = get_heisenberg_observables(delta=-2)\n",
    "\n",
    "result = numpy_solver.compute_minimum_eigenvalue(operator=observables)\n",
    "\n",
    "e_gs = result._eigenvalue\n",
    "# result.__dict__\n",
    "print(f\"Exact ground state energy: {e_gs}\")\n",
    "# hamiltonian_matrix = observables.to_matrix()"
   ],
   "metadata": {
    "id": "YC8Yw97eunCD",
    "pycharm": {
     "name": "#%%\n"
    }
   },
   "execution_count": 6,
   "outputs": [
    {
     "name": "stdout",
     "output_type": "stream",
     "text": [
      "Exact ground state energy: -7.4601173755108965\n"
     ]
    }
   ]
  },
  {
   "cell_type": "markdown",
   "source": [
    "Use the VQE algorithm to prepare the GS of the Hamiltonian for the same value of $\\Delta$.\n",
    "You should try to achieve the closest estimate to the actual GS energy using an **ansatz consisting of three layers of single- and two-qubit gates, where two-qubit gates connect only near neighbor qubits**.\n",
    "Furthermore, among the different possibilities for the optimizers that you can choose from, use the **Simultaneous Perturbation Stochastic Approximation ([SPSA](https://qiskit.org/documentation/stubs/qiskit.algorithms.optimizers.SPSA.html)) optimizer**.\n",
    "\n",
    "### Use the VQE algorithm to estimate the GS energy for $\\Delta=-2$"
   ],
   "metadata": {
    "id": "b6wgAc8ovNF0",
    "pycharm": {
     "name": "#%% md\n"
    }
   }
  },
  {
   "cell_type": "code",
   "source": [
    "from qiskit.circuit.library import EfficientSU2, TwoLocal\n",
    "\n",
    "entanglement = \"circular\"\n",
    "reps = 3\n",
    "\n",
    "# ansatz = EfficientSU2(num_qubits, entanglement=entanglement, reps=3).decompose()\n",
    "#initial_state = QuantumCircuit(num_qubits)\n",
    "#for n in range(num_qubits):\n",
    "#    #if n % 2 == 0:\n",
    "#    #    initial_state.y(n)\n",
    "#    initial_state.h(n)\n",
    "\n",
    "ansatz = TwoLocal(num_qubits, [\"ry\"], \"cz\", entanglement=entanglement, reps=reps).decompose()\n",
    "# ansatz = initial_state.compose(ansatz)\n",
    "print(ansatz)"
   ],
   "metadata": {
    "id": "3rn7-iHHoGjw",
    "pycharm": {
     "name": "#%%\n"
    }
   },
   "execution_count": 7,
   "outputs": [
    {
     "name": "stdout",
     "output_type": "stream",
     "text": [
      "       ┌──────────┐      ┌───────────┐                                       »\n",
      " q_0: ─┤ Ry(θ[0]) ├─■──■─┤ Ry(θ[12]) ├───────────────────────────────────────»\n",
      "       ├──────────┤ │  │ └───────────┘┌───────────┐                          »\n",
      " q_1: ─┤ Ry(θ[1]) ├─┼──■───────■──────┤ Ry(θ[13]) ├──────────────────────────»\n",
      "       ├──────────┤ │          │      └───────────┘┌───────────┐             »\n",
      " q_2: ─┤ Ry(θ[2]) ├─┼──────────■────────────■──────┤ Ry(θ[14]) ├─────────────»\n",
      "       ├──────────┤ │                       │      └───────────┘┌───────────┐»\n",
      " q_3: ─┤ Ry(θ[3]) ├─┼───────────────────────■────────────■──────┤ Ry(θ[15]) ├»\n",
      "       ├──────────┤ │                                    │      └───────────┘»\n",
      " q_4: ─┤ Ry(θ[4]) ├─┼────────────────────────────────────■────────────■──────»\n",
      "       ├──────────┤ │                                                 │      »\n",
      " q_5: ─┤ Ry(θ[5]) ├─┼─────────────────────────────────────────────────■──────»\n",
      "       ├──────────┤ │                                                        »\n",
      " q_6: ─┤ Ry(θ[6]) ├─┼────────────────────────────────────────────────────────»\n",
      "       ├──────────┤ │                                                        »\n",
      " q_7: ─┤ Ry(θ[7]) ├─┼────────────────────────────────────────────────────────»\n",
      "       ├──────────┤ │                                                        »\n",
      " q_8: ─┤ Ry(θ[8]) ├─┼────────────────────────────────────────────────────────»\n",
      "       ├──────────┤ │                                                        »\n",
      " q_9: ─┤ Ry(θ[9]) ├─┼────────────────────────────────────────────────────────»\n",
      "      ┌┴──────────┤ │                                                        »\n",
      "q_10: ┤ Ry(θ[10]) ├─┼────────────────────────────────────────────────────────»\n",
      "      ├───────────┤ │                                                        »\n",
      "q_11: ┤ Ry(θ[11]) ├─■────────────────────────────────────────────────────────»\n",
      "      └───────────┘                                                          »\n",
      "«                                                                       »\n",
      "« q_0: ─────────────────────────────────────────────────────────────────»\n",
      "«                                                                       »\n",
      "« q_1: ─────────────────────────────────────────────────────────────────»\n",
      "«                                                                       »\n",
      "« q_2: ─────────────────────────────────────────────────────────────────»\n",
      "«                                                                       »\n",
      "« q_3: ─────────────────────────────────────────────────────────────────»\n",
      "«      ┌───────────┐                                                    »\n",
      "« q_4: ┤ Ry(θ[16]) ├────────────────────────────────────────────────────»\n",
      "«      └───────────┘┌───────────┐                                       »\n",
      "« q_5: ──────■──────┤ Ry(θ[17]) ├───────────────────────────────────────»\n",
      "«            │      └───────────┘┌───────────┐                          »\n",
      "« q_6: ──────■────────────■──────┤ Ry(θ[18]) ├──────────────────────────»\n",
      "«                         │      └───────────┘┌───────────┐             »\n",
      "« q_7: ───────────────────■────────────■──────┤ Ry(θ[19]) ├─────────────»\n",
      "«                                      │      └───────────┘┌───────────┐»\n",
      "« q_8: ────────────────────────────────■────────────■──────┤ Ry(θ[20]) ├»\n",
      "«                                                   │      └───────────┘»\n",
      "« q_9: ─────────────────────────────────────────────■────────────■──────»\n",
      "«                                                                │      »\n",
      "«q_10: ──────────────────────────────────────────────────────────■──────»\n",
      "«                                                                       »\n",
      "«q_11: ─────────────────────────────────────────────────────────────────»\n",
      "«                                                                       »\n",
      "«                                      ┌───────────┐                          »\n",
      "« q_0: ───────────────────────────■──■─┤ Ry(θ[24]) ├──────────────────────────»\n",
      "«                                 │  │ └───────────┘┌───────────┐             »\n",
      "« q_1: ───────────────────────────┼──■───────■──────┤ Ry(θ[25]) ├─────────────»\n",
      "«                                 │          │      └───────────┘┌───────────┐»\n",
      "« q_2: ───────────────────────────┼──────────■────────────■──────┤ Ry(θ[26]) ├»\n",
      "«                                 │                       │      └───────────┘»\n",
      "« q_3: ───────────────────────────┼───────────────────────■────────────■──────»\n",
      "«                                 │                                    │      »\n",
      "« q_4: ───────────────────────────┼────────────────────────────────────■──────»\n",
      "«                                 │                                           »\n",
      "« q_5: ───────────────────────────┼───────────────────────────────────────────»\n",
      "«                                 │                                           »\n",
      "« q_6: ───────────────────────────┼───────────────────────────────────────────»\n",
      "«                                 │                                           »\n",
      "« q_7: ───────────────────────────┼───────────────────────────────────────────»\n",
      "«                                 │                                           »\n",
      "« q_8: ───────────────────────────┼───────────────────────────────────────────»\n",
      "«      ┌───────────┐              │                                           »\n",
      "« q_9: ┤ Ry(θ[21]) ├──────────────┼───────────────────────────────────────────»\n",
      "«      └───────────┘┌───────────┐ │                                           »\n",
      "«q_10: ──────■──────┤ Ry(θ[22]) ├─┼───────────────────────────────────────────»\n",
      "«            │      ├───────────┤ │                                           »\n",
      "«q_11: ──────■──────┤ Ry(θ[23]) ├─■───────────────────────────────────────────»\n",
      "«                   └───────────┘                                             »\n",
      "«                                                                       »\n",
      "« q_0: ─────────────────────────────────────────────────────────────────»\n",
      "«                                                                       »\n",
      "« q_1: ─────────────────────────────────────────────────────────────────»\n",
      "«                                                                       »\n",
      "« q_2: ─────────────────────────────────────────────────────────────────»\n",
      "«      ┌───────────┐                                                    »\n",
      "« q_3: ┤ Ry(θ[27]) ├────────────────────────────────────────────────────»\n",
      "«      └───────────┘┌───────────┐                                       »\n",
      "« q_4: ──────■──────┤ Ry(θ[28]) ├───────────────────────────────────────»\n",
      "«            │      └───────────┘┌───────────┐                          »\n",
      "« q_5: ──────■────────────■──────┤ Ry(θ[29]) ├──────────────────────────»\n",
      "«                         │      └───────────┘┌───────────┐             »\n",
      "« q_6: ───────────────────■────────────■──────┤ Ry(θ[30]) ├─────────────»\n",
      "«                                      │      └───────────┘┌───────────┐»\n",
      "« q_7: ────────────────────────────────■────────────■──────┤ Ry(θ[31]) ├»\n",
      "«                                                   │      └───────────┘»\n",
      "« q_8: ─────────────────────────────────────────────■────────────■──────»\n",
      "«                                                                │      »\n",
      "« q_9: ──────────────────────────────────────────────────────────■──────»\n",
      "«                                                                       »\n",
      "«q_10: ─────────────────────────────────────────────────────────────────»\n",
      "«                                                                       »\n",
      "«q_11: ─────────────────────────────────────────────────────────────────»\n",
      "«                                                                       »\n",
      "«                                                   ┌───────────┐             »\n",
      "« q_0: ────────────────────────────────────────■──■─┤ Ry(θ[36]) ├─────────────»\n",
      "«                                              │  │ └───────────┘┌───────────┐»\n",
      "« q_1: ────────────────────────────────────────┼──■───────■──────┤ Ry(θ[37]) ├»\n",
      "«                                              │          │      └───────────┘»\n",
      "« q_2: ────────────────────────────────────────┼──────────■────────────■──────»\n",
      "«                                              │                       │      »\n",
      "« q_3: ────────────────────────────────────────┼───────────────────────■──────»\n",
      "«                                              │                              »\n",
      "« q_4: ────────────────────────────────────────┼──────────────────────────────»\n",
      "«                                              │                              »\n",
      "« q_5: ────────────────────────────────────────┼──────────────────────────────»\n",
      "«                                              │                              »\n",
      "« q_6: ────────────────────────────────────────┼──────────────────────────────»\n",
      "«                                              │                              »\n",
      "« q_7: ────────────────────────────────────────┼──────────────────────────────»\n",
      "«      ┌───────────┐                           │                              »\n",
      "« q_8: ┤ Ry(θ[32]) ├───────────────────────────┼──────────────────────────────»\n",
      "«      └───────────┘┌───────────┐              │                              »\n",
      "« q_9: ──────■──────┤ Ry(θ[33]) ├──────────────┼──────────────────────────────»\n",
      "«            │      └───────────┘┌───────────┐ │                              »\n",
      "«q_10: ──────■────────────■──────┤ Ry(θ[34]) ├─┼──────────────────────────────»\n",
      "«                         │      ├───────────┤ │                              »\n",
      "«q_11: ───────────────────■──────┤ Ry(θ[35]) ├─■──────────────────────────────»\n",
      "«                                └───────────┘                                »\n",
      "«                                                                       »\n",
      "« q_0: ─────────────────────────────────────────────────────────────────»\n",
      "«                                                                       »\n",
      "« q_1: ─────────────────────────────────────────────────────────────────»\n",
      "«      ┌───────────┐                                                    »\n",
      "« q_2: ┤ Ry(θ[38]) ├────────────────────────────────────────────────────»\n",
      "«      └───────────┘┌───────────┐                                       »\n",
      "« q_3: ──────■──────┤ Ry(θ[39]) ├───────────────────────────────────────»\n",
      "«            │      └───────────┘┌───────────┐                          »\n",
      "« q_4: ──────■────────────■──────┤ Ry(θ[40]) ├──────────────────────────»\n",
      "«                         │      └───────────┘┌───────────┐             »\n",
      "« q_5: ───────────────────■────────────■──────┤ Ry(θ[41]) ├─────────────»\n",
      "«                                      │      └───────────┘┌───────────┐»\n",
      "« q_6: ────────────────────────────────■────────────■──────┤ Ry(θ[42]) ├»\n",
      "«                                                   │      └───────────┘»\n",
      "« q_7: ─────────────────────────────────────────────■────────────■──────»\n",
      "«                                                                │      »\n",
      "« q_8: ──────────────────────────────────────────────────────────■──────»\n",
      "«                                                                       »\n",
      "« q_9: ─────────────────────────────────────────────────────────────────»\n",
      "«                                                                       »\n",
      "«q_10: ─────────────────────────────────────────────────────────────────»\n",
      "«                                                                       »\n",
      "«q_11: ─────────────────────────────────────────────────────────────────»\n",
      "«                                                                       »\n",
      "«                                                          \n",
      "« q_0: ────────────────────────────────────────────────────\n",
      "«                                                          \n",
      "« q_1: ────────────────────────────────────────────────────\n",
      "«                                                          \n",
      "« q_2: ────────────────────────────────────────────────────\n",
      "«                                                          \n",
      "« q_3: ────────────────────────────────────────────────────\n",
      "«                                                          \n",
      "« q_4: ────────────────────────────────────────────────────\n",
      "«                                                          \n",
      "« q_5: ────────────────────────────────────────────────────\n",
      "«                                                          \n",
      "« q_6: ────────────────────────────────────────────────────\n",
      "«      ┌───────────┐                                       \n",
      "« q_7: ┤ Ry(θ[43]) ├───────────────────────────────────────\n",
      "«      └───────────┘┌───────────┐                          \n",
      "« q_8: ──────■──────┤ Ry(θ[44]) ├──────────────────────────\n",
      "«            │      └───────────┘┌───────────┐             \n",
      "« q_9: ──────■────────────■──────┤ Ry(θ[45]) ├─────────────\n",
      "«                         │      └───────────┘┌───────────┐\n",
      "«q_10: ───────────────────■────────────■──────┤ Ry(θ[46]) ├\n",
      "«                                      │      ├───────────┤\n",
      "«q_11: ────────────────────────────────■──────┤ Ry(θ[47]) ├\n",
      "«                                             └───────────┘\n"
     ]
    }
   ]
  },
  {
   "cell_type": "code",
   "execution_count": 8,
   "outputs": [],
   "source": [
    "from qiskit.algorithms.minimum_eigensolvers import VQE\n",
    "\n",
    "# Search for better states using SPSA algorithm\n",
    "from qiskit.algorithms.optimizers import SPSA\n",
    "\n",
    "optimizer = SPSA(maxiter=500)\n",
    "\n",
    "# Set a starting point for reproduceability\n",
    "import numpy as np\n",
    "\n",
    "np.random.seed(1)\n",
    "initial_point = np.random.uniform(-np.pi, np.pi, ansatz.num_parameters)\n",
    "# initial_point = np.zeros(ansatz.num_parameters)\n",
    "#initial_point = np.zeros((reps + 1) * num_qubits)\n",
    "#for n in range(num_qubits):\n",
    "#    if n % 2 == 0:\n",
    "#        initial_point[-n] = np.pi\n"
   ],
   "metadata": {
    "collapsed": false,
    "pycharm": {
     "name": "#%%\n"
    }
   }
  },
  {
   "cell_type": "code",
   "execution_count": 9,
   "outputs": [],
   "source": [
    "# Create an object to store intermediate results\n",
    "from dataclasses import dataclass\n",
    "\n",
    "@dataclass\n",
    "class VQELog:\n",
    "    values: list\n",
    "    parameters: list\n",
    "\n",
    "    def update(self, count, parameters, mean, _metadata):\n",
    "        self.values.append(mean)\n",
    "        self.parameters.append(parameters)\n",
    "        print(f\"Running circuit {count} of ~350\", end=\"\\r\", flush=True)"
   ],
   "metadata": {
    "collapsed": false,
    "pycharm": {
     "name": "#%%\n"
    }
   }
  },
  {
   "cell_type": "code",
   "execution_count": 10,
   "outputs": [
    {
     "name": "stdout",
     "output_type": "stream",
     "text": [
      "Experiment complete.          \n",
      "Raw result: -5.604448162374761\n"
     ]
    }
   ],
   "source": [
    "from qiskit.primitives import Estimator\n",
    "\n",
    "log = VQELog([], [])\n",
    "vqe = VQE(\n",
    "        Estimator(),\n",
    "        ansatz,\n",
    "        optimizer,\n",
    "        callback=log.update,\n",
    "        initial_point=initial_point,\n",
    "    )\n",
    "\n",
    "result = vqe.compute_minimum_eigenvalue(observables)\n",
    "print(\"Experiment complete.\".ljust(30))\n",
    "print(f\"Raw result: {result.optimal_value}\")"
   ],
   "metadata": {
    "collapsed": false,
    "pycharm": {
     "name": "#%%\n"
    }
   }
  },
  {
   "cell_type": "code",
   "execution_count": 11,
   "outputs": [
    {
     "data": {
      "text/plain": "<Figure size 1200x600 with 1 Axes>",
      "image/png": "[encoded data removed]"
     },
     "metadata": {},
     "output_type": "display_data"
    }
   ],
   "source": [
    "import matplotlib.pyplot as plt\n",
    "\n",
    "plt.rcParams[\"font.size\"] = 14\n",
    "\n",
    "# Plot energy and reference value\n",
    "plt.figure(figsize=(12, 6))\n",
    "plt.plot(log.values, label=\"Estimator VQE\")\n",
    "plt.axhline(y=e_gs, color=\"tab:red\", ls=\"--\", label=\"Target\")\n",
    "\n",
    "plt.legend(loc=\"best\")\n",
    "plt.xlabel(\"Iteration\")\n",
    "plt.ylabel(\"Energy [H]\")\n",
    "plt.title(\"VQE energy\")\n",
    "plt.show()"
   ],
   "metadata": {
    "collapsed": false,
    "pycharm": {
     "name": "#%%\n"
    }
   }
  },
  {
   "cell_type": "markdown",
   "source": [
    "## 1.2 - Ansatz expressibility\n",
    "\n",
    "This method has several aspects that can be tuned, such as the shape of the ansatz or the optimization algorithm to find the parameters. These are important factors in more elaborate quantum simulations.\n",
    "To better understand the role of these parameters, re-implement the method to solve the previous problem ($H_{XXZ}$ with $\\Delta=-2$) and compare the results obtained with with different combinations of ansatze and classical optimizers.\n",
    "\n",
    " - **Ansatz**:\n",
    " \n",
    "   - Alternating single- and two-qubit (controlled-Z) gate layers, with interactions between all qubit pairs in the two-qubit layers;\n",
    "   - Alternating single- and two-qubit (controlled-Z) gate layers, in which two-qubit gates are applied only between neighbouring qubits.\n",
    "\n",
    " - **Optimizers**:\n",
    " \n",
    "   - Simultaneous Perturbation Stochastic Approximation ([SPSA](https://qiskit.org/documentation/stubs/qiskit.algorithms.optimizers.SPSA.html));\n",
    "   - Constrained Optimization By Linear Approximation ([COBYLA](https://qiskit.org/documentation/stubs/qiskit.algorithms.optimizers.COBYLA.html));\n",
    "   - Sequential Least SQuares Programming ([SLSQP](https://qiskit.org/documentation/stubs/qiskit.algorithms.optimizers.SLSQP.html)).\n",
    "\n",
    "For both types of ansatze above, fix only 3 layers of each type of gate. Compare the 6 different combinations of ansatz and optimizer to understand which one performs better both in terms of the accuracy error obtained, and the time and number of steps to converge.\n",
    "\n",
    "### Plot the estimate of the GS energy as a function of the optimization steps for all the combinations of optimizer and ansatz listed above."
   ],
   "metadata": {
    "id": "l4M8kWNCoFOs",
    "pycharm": {
     "name": "#%% md\n"
    }
   }
  },
  {
   "cell_type": "code",
   "execution_count": 12,
   "outputs": [],
   "source": [
    "reps = 3\n",
    "\n",
    "circular_ansatz = TwoLocal(num_qubits, [\"ry\"], \"cz\", entanglement=\"circular\", reps=reps).decompose()\n",
    "full_ansatz = TwoLocal(num_qubits, [\"ry\"], \"cz\", entanglement=\"full\", reps=reps).decompose()"
   ],
   "metadata": {
    "collapsed": false,
    "pycharm": {
     "name": "#%%\n"
    }
   }
  },
  {
   "cell_type": "code",
   "source": [
    "from qiskit.algorithms.optimizers import SPSA, COBYLA, SLSQP\n",
    "\n",
    "# maxiter = 1000\n",
    "\n",
    "spsa_optimizer = SPSA(500)\n",
    "cobyla_optimizer = COBYLA(1000)\n",
    "slsqp_optimizer = SLSQP(50)"
   ],
   "metadata": {
    "id": "VqK8rLKToHpS",
    "pycharm": {
     "name": "#%%\n"
    }
   },
   "execution_count": 13,
   "outputs": []
  },
  {
   "cell_type": "code",
   "execution_count": 14,
   "outputs": [],
   "source": [
    "np.random.seed(1)\n",
    "initial_point = np.random.uniform(-np.pi, np.pi, circular_ansatz.num_parameters)"
   ],
   "metadata": {
    "collapsed": false,
    "pycharm": {
     "name": "#%%\n"
    }
   }
  },
  {
   "cell_type": "markdown",
   "source": [
    "# Circular + SPSA"
   ],
   "metadata": {
    "collapsed": false,
    "pycharm": {
     "name": "#%% md\n"
    }
   }
  },
  {
   "cell_type": "code",
   "execution_count": 18,
   "outputs": [
    {
     "name": "stdout",
     "output_type": "stream",
     "text": [
      "Experiment complete.          \n",
      "Raw result: -5.7799032625931055\n"
     ]
    }
   ],
   "source": [
    "log_circular_spsa = VQELog([], [])\n",
    "vqe = VQE(\n",
    "        Estimator(),\n",
    "        circular_ansatz,\n",
    "        spsa_optimizer,\n",
    "        callback=log_circular_spsa.update,\n",
    "        initial_point=initial_point,\n",
    "    )\n",
    "\n",
    "result_circular_spsa = vqe.compute_minimum_eigenvalue(observables)\n",
    "print(\"Experiment complete.\".ljust(30))\n",
    "print(f\"Raw result: {result_circular_spsa.optimal_value}\")"
   ],
   "metadata": {
    "collapsed": false,
    "pycharm": {
     "name": "#%%\n"
    }
   }
  },
  {
   "cell_type": "markdown",
   "source": [
    "# Circular + COBYLA"
   ],
   "metadata": {
    "collapsed": false,
    "pycharm": {
     "name": "#%% md\n"
    }
   }
  },
  {
   "cell_type": "code",
   "execution_count": 29,
   "outputs": [
    {
     "name": "stdout",
     "output_type": "stream",
     "text": [
      "Experiment complete.          \n",
      "Raw result: -7.108111801936275\n"
     ]
    }
   ],
   "source": [
    "log_circular_cobyla = VQELog([], [])\n",
    "vqe = VQE(\n",
    "        Estimator(),\n",
    "        circular_ansatz,\n",
    "        cobyla_optimizer,\n",
    "        callback=log_circular_cobyla.update,\n",
    "        initial_point=initial_point,\n",
    "    )\n",
    "\n",
    "result_circular_cobyla = vqe.compute_minimum_eigenvalue(observables)\n",
    "print(\"Experiment complete.\".ljust(30))\n",
    "print(f\"Raw result: {result_circular_cobyla.optimal_value}\")"
   ],
   "metadata": {
    "collapsed": false,
    "pycharm": {
     "name": "#%%\n"
    }
   }
  },
  {
   "cell_type": "markdown",
   "source": [
    "# Circular + SLSQP"
   ],
   "metadata": {
    "collapsed": false,
    "pycharm": {
     "name": "#%% md\n"
    }
   }
  },
  {
   "cell_type": "code",
   "execution_count": 20,
   "outputs": [
    {
     "name": "stdout",
     "output_type": "stream",
     "text": [
      "Experiment complete.          \n",
      "Raw result: -7.143168669175897\n"
     ]
    }
   ],
   "source": [
    "log_circular_slsqp = VQELog([], [])\n",
    "vqe = VQE(\n",
    "        Estimator(),\n",
    "        circular_ansatz,\n",
    "        slsqp_optimizer,\n",
    "        callback=log_circular_slsqp.update,\n",
    "        initial_point=initial_point,\n",
    "    )\n",
    "\n",
    "result_circular_slsqp = vqe.compute_minimum_eigenvalue(observables)\n",
    "print(\"Experiment complete.\".ljust(30))\n",
    "print(f\"Raw result: {result_circular_slsqp.optimal_value}\")"
   ],
   "metadata": {
    "collapsed": false,
    "pycharm": {
     "name": "#%%\n"
    }
   }
  },
  {
   "cell_type": "markdown",
   "source": [
    "# Full + SPSA"
   ],
   "metadata": {
    "collapsed": false,
    "pycharm": {
     "name": "#%% md\n"
    }
   }
  },
  {
   "cell_type": "code",
   "execution_count": 23,
   "outputs": [
    {
     "name": "stdout",
     "output_type": "stream",
     "text": [
      "Experiment complete.          \n",
      "Raw result: -5.931277664729282\n"
     ]
    }
   ],
   "source": [
    "log_full_spsa = VQELog([], [])\n",
    "vqe = VQE(\n",
    "        Estimator(),\n",
    "        full_ansatz,\n",
    "        spsa_optimizer,\n",
    "        callback=log_full_spsa.update,\n",
    "        initial_point=initial_point,\n",
    "    )\n",
    "\n",
    "result_full_spsa = vqe.compute_minimum_eigenvalue(observables)\n",
    "print(\"Experiment complete.\".ljust(30))\n",
    "print(f\"Raw result: {result_full_spsa.optimal_value}\")"
   ],
   "metadata": {
    "collapsed": false,
    "pycharm": {
     "name": "#%%\n"
    }
   }
  },
  {
   "cell_type": "markdown",
   "source": [
    "# Full + COBYLA"
   ],
   "metadata": {
    "collapsed": false,
    "pycharm": {
     "name": "#%% md\n"
    }
   }
  },
  {
   "cell_type": "code",
   "execution_count": 32,
   "outputs": [
    {
     "name": "stdout",
     "output_type": "stream",
     "text": [
      "Experiment complete.          \n",
      "Raw result: -6.143707148437067\n"
     ]
    }
   ],
   "source": [
    "log_full_cobyla = VQELog([], [])\n",
    "vqe = VQE(\n",
    "        Estimator(),\n",
    "        full_ansatz,\n",
    "        cobyla_optimizer,\n",
    "        callback=log_full_cobyla.update,\n",
    "        initial_point=initial_point,\n",
    "    )\n",
    "\n",
    "result_full_cobyla = vqe.compute_minimum_eigenvalue(observables)\n",
    "print(\"Experiment complete.\".ljust(30))\n",
    "print(f\"Raw result: {result_full_cobyla.optimal_value}\")"
   ],
   "metadata": {
    "collapsed": false,
    "pycharm": {
     "name": "#%%\n"
    }
   }
  },
  {
   "cell_type": "code",
   "execution_count": 25,
   "outputs": [
    {
     "name": "stdout",
     "output_type": "stream",
     "text": [
      "Experiment complete.          \n",
      "Raw result: -6.221346806663496\n"
     ]
    }
   ],
   "source": [
    "log_full_slsqp = VQELog([], [])\n",
    "vqe = VQE(\n",
    "        Estimator(),\n",
    "        full_ansatz,\n",
    "        slsqp_optimizer,\n",
    "        callback=log_full_slsqp.update,\n",
    "        initial_point=initial_point,\n",
    "    )\n",
    "\n",
    "result_full_slsqp = vqe.compute_minimum_eigenvalue(observables)\n",
    "print(\"Experiment complete.\".ljust(30))\n",
    "print(f\"Raw result: {result_full_slsqp.optimal_value}\")"
   ],
   "metadata": {
    "collapsed": false,
    "pycharm": {
     "name": "#%%\n"
    }
   }
  },
  {
   "cell_type": "code",
   "execution_count": 37,
   "outputs": [
    {
     "data": {
      "text/plain": "<Figure size 1000x700 with 1 Axes>",
      "image/png": "[encoded data removed]"
     },
     "metadata": {},
     "output_type": "display_data"
    }
   ],
   "source": [
    "import matplotlib.pyplot as plt\n",
    "\n",
    "plt.rcParams[\"font.size\"] = 14\n",
    "\n",
    "# Plot energy and reference value\n",
    "plt.figure(figsize=(10, 7))\n",
    "plt.plot(log_circular_spsa.values, label=\"Circular + SPSA\")\n",
    "plt.plot(log_circular_cobyla.values, label=\"Circular + COBYLA\")\n",
    "plt.plot(log_circular_slsqp.values, label=\"Circular + SLSQP\")\n",
    "\n",
    "plt.plot(log_full_spsa.values, label=\"Full + SPSA\")\n",
    "plt.plot(log_full_cobyla.values, label=\"Full + COBYLA\")\n",
    "plt.plot(log_full_slsqp.values, label=\"Full + SLSQP\")\n",
    "\n",
    "plt.axhline(y=e_gs, color=\"tab:red\", ls=\"--\", label=\"Target\")\n",
    "\n",
    "plt.legend(loc=\"best\")\n",
    "plt.xlabel(\"Number of evaluations\")\n",
    "plt.ylabel(\"Energy [H]\")\n",
    "plt.title(\"VQE energy\")\n",
    "plt.xlim(0, 1000)\n",
    "# plt.xscale(\"log\")\n",
    "plt.show()"
   ],
   "metadata": {
    "collapsed": false,
    "pycharm": {
     "name": "#%%\n"
    }
   }
  },
  {
   "cell_type": "markdown",
   "source": [
    "### It appears that Circular + COBYLA gives the best results."
   ],
   "metadata": {
    "collapsed": false,
    "pycharm": {
     "name": "#%% md\n"
    }
   }
  },
  {
   "cell_type": "markdown",
   "source": [
    "## 1.3 - Phase diagram\n",
    "\n",
    "As we have introduced above, the full phase diagram of the $H_{XXZ}$ model encompasses a rich range of behaviours:\n",
    "\n",
    "- For $\\Delta>1$, we have a **ferromagnetic** phase.\n",
    "- For $-1<\\Delta<1$, we have a **paramagnetic** phase.\n",
    "- For $\\Delta\\leq-1$, we have an **anti-ferromagnetic** phase.\n",
    "\n",
    "Use the best combination of optimizer and ansatz that you have found before to prepare the GS of the system for different values of $\\Delta$ to reconstruct the phase diagram.\n",
    "Consider, at least, the values of $\\Delta=\\{-2, -1, 0, 1, 2\\}$.\n",
    "These will allow you to probe the properties of the GS in each phase.\n",
    "If you can afford to use more points within the $\\Delta\\in[-2, 2]$ range, go for it!\n",
    "\n",
    "Taking the exact solution as a reference, try to improve the ansatz, e.g., adding more layers, to obtain a better representation of the GS of the system.\n",
    "\n",
    "Once you find the optimal parameters for your best ansatz, use it to compute the expectation value of the **magnetization** of the system along the $z$-axis\n",
    "$$\n",
    "M \\equiv \\frac{1}{2N} \\sum_{i=1}^{N} \\left\\langle \\sigma_{i}^{z} \\right\\rangle\\,,\n",
    "$$\n",
    "the **staggered magnetization**\n",
    "$$\n",
    "M_{st} \\equiv \\frac{1}{2N}\\sum_{i=1}^N (-1)^i\\left\\langle\\sigma_i^z\\right\\rangle\\,,\n",
    "$$\n",
    "as well as the expectation value of the **nearest neighbour correlator**\n",
    "$$\n",
    "C \\equiv \\frac{1}{4N} \\sum_{i=1}^{N}\\left\\langle \\sigma_{i}^{z} \\sigma_{i+1}^{z}  \\right\\rangle\\,.\n",
    "$$\n",
    "Plot these observables as a function of $\\Delta$.\n",
    "You will need to prepare the GS multiple times to estimate these averages from the measurement statistics.\n",
    "\n",
    "### Plot $M$, $M_{st}$ and $C$ as a function of $\\Delta$ and comment on the GS properties you can infer from these observables.\n",
    "> Tip: If you find degenerate GSs, you can compute the expectation values above with only one of them (manually break the symmetry).\n",
    "Alternatively, you can try to energetically favour one of those by adding an external magnetic field in one direction in the Hamiltonian $H_{XXZ} + \\delta\\sigma_0^z$ with small $\\delta$."
   ],
   "metadata": {
    "id": "scNuLmbQoIre",
    "pycharm": {
     "name": "#%% md\n"
    }
   }
  },
  {
   "cell_type": "markdown",
   "source": [],
   "metadata": {
    "collapsed": false,
    "pycharm": {
     "name": "#%% md\n"
    }
   }
  },
  {
   "cell_type": "code",
   "source": [
    "deltas = [-2, -1.5, -1, -0.5,  0, 0.5,  1, 1.5, 2]\n",
    "hamiltonians = []\n",
    "\n",
    "for delta in deltas:\n",
    "\n",
    "    hamiltonian = get_heisenberg_observables(delta=delta)\n",
    "    hamiltonians.append(hamiltonian)\n",
    "\n",
    "reps = 3\n",
    "circular_ansatz = TwoLocal(num_qubits, [\"ry\"], \"cz\", entanglement=\"circular\", reps=reps).decompose()\n",
    "cobyla_optimizer = COBYLA(1000)\n",
    "\n",
    "np.random.seed(1)\n",
    "initial_point = np.random.uniform(-np.pi, np.pi, circular_ansatz.num_parameters)\n",
    "\n",
    "all_optimal_parameters = []\n",
    "\n",
    "for hamiltonian in hamiltonians:\n",
    "    log = VQELog([], [])\n",
    "    vqe = VQE(\n",
    "            Estimator(),\n",
    "            circular_ansatz,\n",
    "            cobyla_optimizer,\n",
    "            callback=log.update,\n",
    "            initial_point=initial_point,\n",
    "        )\n",
    "\n",
    "    result = vqe.compute_minimum_eigenvalue(hamiltonian)\n",
    "    all_optimal_parameters.append(result.optimal_parameters)\n",
    "    print(\"Experiment complete.\".ljust(30))\n",
    "    print(f\"Raw result: {result.optimal_value}\")"
   ],
   "metadata": {
    "id": "0a33gxSpxlzV",
    "pycharm": {
     "name": "#%%\n"
    }
   },
   "execution_count": 23,
   "outputs": [
    {
     "name": "stdout",
     "output_type": "stream",
     "text": [
      "Experiment complete.          \n",
      "Raw result: -7.108111801936275\n",
      "Experiment complete.          \n",
      "Raw result: -5.7963819375671095\n",
      "Experiment complete.          \n",
      "Raw result: -4.6297922814384975\n",
      "Experiment complete.          \n",
      "Raw result: -4.008415672479052\n",
      "Experiment complete.          \n",
      "Raw result: -3.4922347204316573\n",
      "Experiment complete.          \n",
      "Raw result: -3.1253006473656253\n",
      "Experiment complete.          \n",
      "Raw result: -2.996771852433517\n",
      "Experiment complete.          \n",
      "Raw result: -4.49791149315819\n",
      "Experiment complete.          \n",
      "Raw result: -5.997336901603484\n"
     ]
    }
   ]
  },
  {
   "cell_type": "code",
   "execution_count": 27,
   "outputs": [],
   "source": [
    "gs_circuits = [circular_ansatz.bind_parameters(parameters) for parameters in all_optimal_parameters]\n",
    "\n",
    "for qc in gs_circuits:\n",
    "    qc.measure_all()"
   ],
   "metadata": {
    "collapsed": false,
    "pycharm": {
     "name": "#%%\n"
    }
   }
  },
  {
   "cell_type": "code",
   "execution_count": 28,
   "outputs": [],
   "source": [
    "from qiskit.primitives import Sampler\n",
    "\n",
    "sampler = Sampler()\n",
    "job = sampler.run(gs_circuits)\n",
    "\n",
    "results = job.result().quasi_dists\n",
    "results = [result.binary_probabilities() for result in results]"
   ],
   "metadata": {
    "collapsed": false,
    "pycharm": {
     "name": "#%%\n"
    }
   }
  },
  {
   "cell_type": "markdown",
   "source": [
    "### Compute magnetization from counts"
   ],
   "metadata": {
    "collapsed": false,
    "pycharm": {
     "name": "#%% md\n"
    }
   }
  },
  {
   "cell_type": "code",
   "execution_count": 29,
   "outputs": [],
   "source": [
    "magnetizations = []\n",
    "staggered_magnetizations = []\n",
    "nn_correlations = []\n",
    "\n",
    "for result in results:\n",
    "\n",
    "    magnetization = 0\n",
    "    staggered_magnetization = 0\n",
    "    nn_correlation = 0\n",
    "\n",
    "    for n1 in range(num_qubits):\n",
    "\n",
    "        n2 = (n1+1) % num_qubits\n",
    "\n",
    "        for key in result.keys():\n",
    "            bit = key[n1]\n",
    "            bits = key[n1]+key[n2]\n",
    "\n",
    "            staggered_sign = (n1 % 2 - 0.5) * 2\n",
    "\n",
    "            if bit == \"0\":\n",
    "                magnetization += result[key]\n",
    "                staggered_magnetization += staggered_sign * result[key]\n",
    "            else:\n",
    "                magnetization -= result[key]\n",
    "                staggered_magnetization -= staggered_sign * result[key]\n",
    "\n",
    "            if bits == \"00\" or bits == \"11\":\n",
    "                nn_correlation += result[key]\n",
    "            else:\n",
    "                nn_correlation -= result[key]\n",
    "\n",
    "    magnetization /= 2*num_qubits\n",
    "    staggered_magnetization /= 2*num_qubits\n",
    "    nn_correlation /= 4*num_qubits\n",
    "\n",
    "    magnetizations.append(magnetization)\n",
    "    staggered_magnetizations.append(staggered_magnetization)\n",
    "    nn_correlations.append(nn_correlation)"
   ],
   "metadata": {
    "collapsed": false,
    "pycharm": {
     "name": "#%%\n"
    }
   }
  },
  {
   "cell_type": "code",
   "execution_count": 31,
   "outputs": [
    {
     "data": {
      "text/plain": "<matplotlib.legend.Legend at 0x1fab1493ca0>"
     },
     "execution_count": 31,
     "metadata": {},
     "output_type": "execute_result"
    },
    {
     "data": {
      "text/plain": "<Figure size 1000x700 with 1 Axes>",
      "image/png": "[encoded data removed]"
     },
     "metadata": {},
     "output_type": "display_data"
    }
   ],
   "source": [
    "plt.rcParams[\"font.size\"] = 14\n",
    "plt.figure(figsize=(10, 7))\n",
    "\n",
    "plt.plot(deltas, magnetizations, label=\"Magnetization\")\n",
    "plt.plot(deltas, staggered_magnetizations, label=\"Staggered Magnetization\")\n",
    "plt.plot(deltas, nn_correlations, label=\"Nearest-neighbor correlations\")\n",
    "\n",
    "plt.xlabel(\"Detuning $\\Delta$\")\n",
    "\n",
    "plt.legend()"
   ],
   "metadata": {
    "collapsed": false,
    "pycharm": {
     "name": "#%%\n"
    }
   }
  },
  {
   "cell_type": "markdown",
   "source": [
    "_Having characterized the security system's board material, your breaching expert proceeds to hack it by driving it through the different phases at convenience._\n",
    "\n",
    "_Congratulations, you've overcome the first challenge!_\n",
    "\n",
    "----\n",
    "_The main gate opens and you get a first glimpse of the core's control room.\n",
    "Apparently, they were conducting research on cleaner nuclear energy.\n",
    "A novel purpose, although it's now about to wipe us all clean._\n",
    "\n",
    "_The core is shielded with a shell of lithium hydrate (LiH).\n",
    "However, the nuclear reaction is going wild and it's destabilizing the shell.\n",
    "The radiation coming from the core has heated the LiH and excited its electrons, which interferes with the diagnosis system.\n",
    "If you knew the electronic structure of the material, you could bring the excited electrons down to their low-lying states through stimulated emission._\n",
    "\n",
    "# 2. FERMIONS IN EXCITED STATES: THE LITHIUM HYDRATE MOLECULE  <a class=\"anchor\" id=\"2\"></a> [[↑]](#0)\n",
    "\n",
    "_You're packing the quantum computer, when Seedis starts taking it out again.\n",
    "\"Alright mates, we've got plenty of lasers around.\n",
    "Let's figure out the spectrum of the shell and we can surely point at it some of them to hold it together\"._\n",
    "\n",
    "> Molecular compounds are extremely valuable for our society, as they are central in material sciences and medicine.\n",
    "Here, we study the electronic properties of the LiH ionic conductor.\n",
    "Actually, we use different isotopes of LiH to shield and moderate nuclear reactors, but we take this little licence here :)\n",
    "\n",
    "The goal is to study the electronic structure of the lithium hydrate (LiH) molecule.\n",
    "The energies in the reactor are so high that the molecules are being distorted.\n",
    "Therefore, we wish to know the dependence of the low-lying excited states with the interatomic distance. \n",
    "\n",
    "The particles we consider (electrons) are fermions.\n",
    "These are different in nature from the qubits we have access to.\n",
    "Thus, we need to map the fermionic Hamiltonian to qubits.\n",
    "To give an intuition, we can relate our qubit states, $|0\\rangle$ and $|1\\rangle$, with the occupation of the molecule's electronic orbitals, e.g. we can mark occupied orbitals with a $|1\\rangle$.\n",
    "Here, consider the minimal basis set of spin orbitals STO-3G.\n",
    "\n",
    "When we study these physical systems, we need to take into account that our molecules have a fixed number of electrons that move along the orbitals.\n",
    "This means we can only consider states with a fixed amount of qubits in state $|1\\rangle$, as changing orbitals will replace $|0\\rangle$ by $|1\\rangle$ in the destination and $|1\\rangle$ by $|0\\rangle$ at the origin.\n",
    "For example, Li has three electrons and H has one, meaning that our states must always have four qubits in state $|1\\rangle$.\n",
    "Properly encoding this in our variational ansatze will be essential to find good results.\n",
    "\n",
    "> Tip: to ease the calculations, restrict the active space by freezing the core orbitals. \n",
    "Furthermore, you can exploit the symmetries in the resulting Hamiltonian to reduce the number of qubits.\n",
    "This does not look like a lot, but it'll surely help ;)\n",
    "\n",
    "## 2.1 - Molecular spectra\n",
    "\n",
    "To warm up, find the GS energy of the LiH molecule considering a bond distance of $2~\\unicode{x212B}$.\n",
    "Use a parity map to map the fermionic Hamiltonian to qubits.\n",
    "Compute also the energy of the next two excited states.\n",
    "\n",
    "Find the true values with exact diagonalization and compare them with the results obtained through VQE (the closer, the better!).\n",
    "To obtain the excited states, you can use any extension of the VQE you want, e.g., variational quantum deflation [[Ref.3]](#REF)<a class=\"anchor\" id=\"Ref3\"></a>.\n",
    "\n",
    "Use a suitable optimizer and a particle-preserving ansatz.\n",
    "\n",
    "### Compute the energy of the GS and the two first excited states and compare them with the exact results."
   ],
   "metadata": {
    "id": "sj7EebTFg3HG",
    "pycharm": {
     "name": "#%% md\n"
    }
   }
  },
  {
   "cell_type": "code",
   "source": [],
   "metadata": {
    "id": "dXH_uwoHhPBB",
    "pycharm": {
     "name": "#%%\n"
    }
   },
   "execution_count": null,
   "outputs": []
  },
  {
   "cell_type": "markdown",
   "source": [
    "## 2.2 - Spectrum as function of the bond length\n",
    "\n",
    "Compute the the GS and the first two excited states energies as function of the bond length.\n",
    "Consider bond lengths in a range of $0.5~\\unicode{x212B}$ and $2.5~\\unicode{x212B}$ in intervals of $0.25~\\unicode{x212B}$.\n",
    "\n",
    "Compare the exact energies with those obtained through variational methods.\n",
    "\n",
    "### Compute the energy of the GS and the next two excited states as function of the bond length. Can you (roughly) identify a candidate for the equilibrium bond length of the molecule?"
   ],
   "metadata": {
    "id": "qyPWUSto7as0",
    "pycharm": {
     "name": "#%% md\n"
    }
   }
  },
  {
   "cell_type": "code",
   "source": [],
   "metadata": {
    "id": "IHIUxzQUhQJj",
    "pycharm": {
     "name": "#%%\n"
    }
   },
   "execution_count": null,
   "outputs": []
  },
  {
   "cell_type": "markdown",
   "source": [
    "## 2.3 - Imperfect devices\n",
    "\n",
    "In the current noisy intermediate-scale quantum (NISQ) devices, the operations are imperfect and the errors accumulate along the execution of the circuit.\n",
    "In particular, two-qubit operations, such as the CNOT, have the highest errors.\n",
    "\n",
    "Here, we consider a more realistic scenario in which we simulate noisy two-qubit gates.\n",
    "Create a noise model considering an error rate of $0.02$ in CNOT operations.\n",
    "See the example code below:\n",
    "\n",
    "```python\n",
    "from qiskit_aer.noise import NoiseModel, depolarizing_error\n",
    "noise_model = NoiseModel()\n",
    "error = depolarizing_error(0.02, 2)\n",
    "noise_model.add_all_qubit_quantum_error(error, ['cx'])\n",
    "```\n",
    "\n",
    "Compute the GS and first excited state energies as function of the bond length with the noisy simulation and compare it with the exact values.\n",
    "\n",
    "Large circuits with many entangling gates will accumulate many errors, damaging the performance.\n",
    "Try different ansatze to find the best trade-off between expressivity and errors (even if they do not preserve the particle number).\n",
    "You can also use other Hamiltonian mappings that may be more convenient for the task.\n",
    "\n",
    "Report the best results you find and briefly describe your findings (what worked best and what did not).\n",
    "\n",
    "### Compute the GS and first excited state energies as function of the bond length in the noisy simulation."
   ],
   "metadata": {
    "id": "9A6X1nisD941",
    "pycharm": {
     "name": "#%% md\n"
    }
   }
  },
  {
   "cell_type": "code",
   "source": [],
   "metadata": {
    "id": "BFGnvIHihQMW",
    "pycharm": {
     "name": "#%%\n"
    }
   },
   "execution_count": null,
   "outputs": []
  },
  {
   "cell_type": "markdown",
   "source": [
    "_Knowing the electronic properties of the shell, you've managed to stabilize it and cool it a bit in the process.\n",
    "This has given you some time to work and find a solution._\n",
    "\n",
    "_We're all slightly less likely to die. Great!_\n",
    "\n",
    "----\n",
    "\n",
    "_With the stabilized shell, you can finally run a scanner and obtain a clear diagnosis of the core.\n",
    "It appears that someone must've momentarily slept on the core moderators, producing a high temperature spike that has caused the LiH from the shell to release hydrogen gas (H$_2$)._\n",
    "\n",
    "_This has ignited a side fusion reaction of the hydrogen, that further raises the temperature, releasing more H$_2$ to the mixture.\n",
    "NOT GOOD!\n",
    "This'll get out of control in a moment.\n",
    "You must deploy the H collectors (if they work) before this gets out of control!_\n",
    "\n",
    "_With the apparent mess, the collector memories have been reset.\n",
    "Given the situation, you feel lucky to even find some functional collectors._ \n",
    "\n",
    "# 3. MASTER THE QUANTUM SIMULATION SHENANIGANS  <a class=\"anchor\" id=\"3\"></a> [[↑]](#0)\n",
    "\n",
    "_Seedis is on a rampage: \"Let's go bois and gals, these collectors won't get fixed by themselves! We just need to load the H$_2$ data to stop the retroalimentation loop.\"_\n",
    "\n",
    "> It's time to test the power of a real quantum computer.\n",
    "In this task you will use an actual quantum computer to find the ground state of the H$_2$ molecule. \n",
    "\n",
    "Using one of the quantum computers from [IBM Quantum](https://quantum-computing.ibm.com/), find the GS energy of the hydrogen molecule H$_2$ for a bond distance of $0.735~\\unicode{x212B}$.\n",
    "Use all the tools at your disposal to obtain the best possible result and try to make the most efficient use of resources through [Qiskit runtime](https://quantum-computing.ibm.com/lab/docs/iql/runtime/).\n",
    "\n",
    "We recommend looking carefully at both runtime (the faster, the more you can experiment) and error sources (self-explanatory!).\n",
    "Here, we provide a few ideas to explore. However, you are not bound to implement any of these, you're completely free to do whatever you want to improve the simulation.\n",
    "\n",
    "Consider:\n",
    "- Looking into the hardware architecture to identify the best qubits to use\n",
    "- Calibrate the qubits with [Qiskit Pulse](https://qiskit.org/textbook/ch-quantum-hardware/calibrating-qubits-pulse.html)\n",
    "- Tailor the ansatz to the hardware\n",
    "- Implement an adaptive algorithm to reduce the ansatz size\n",
    "- Implement error mitigation techniques like [measurement error mitigation](https://qiskit.org/textbook/ch-quantum-hardware/measurement-error-mitigation.html), [randomized compiling](https://qiskit.org/documentation/stable/0.32/stubs/qiskit.ignis.verification.QOTP.html), and [others](https://qiskit.org/documentation/partners/qiskit_ibm_runtime/tutorials/Error-Suppression-and-Error-Mitigation.html)\n",
    "- Parallelize operations and measurements\n",
    "- Explore [dynamic circuit](https://quantum-computing.ibm.com/services/programs/docs/runtime/manage/systems/dynamic-circuits/Introduction-To-Dynamic-Circuits) techniques\n",
    "- Explore more advanced optimization schemes (e.g., [Quantum Natural SPSA](https://qiskit.org/documentation/stubs/qiskit.algorithms.optimizers.QNSPSA.html))"
   ],
   "metadata": {
    "id": "9K0gCJHDhQbK",
    "pycharm": {
     "name": "#%% md\n"
    }
   }
  },
  {
   "cell_type": "code",
   "source": [],
   "metadata": {
    "id": "U2y8hsqHoU70",
    "pycharm": {
     "name": "#%%\n"
    }
   },
   "execution_count": null,
   "outputs": []
  },
  {
   "cell_type": "markdown",
   "source": [
    "## Bonus: an extra atom\n",
    "\n",
    "If you consider that you have obtained a competitive result for H$_2$, you can tackle the H$_3^+$ molecule. It has the same number of electrons, but you will have to consider more orbitals (which requires more qubits).\n",
    "\n",
    "The three hydrogen atoms form an equilater triangle with bond length $0.986~\\unicode{x212B}$."
   ],
   "metadata": {
    "id": "0Kn1uRy5fKlC",
    "pycharm": {
     "name": "#%% md\n"
    }
   }
  },
  {
   "cell_type": "code",
   "source": [],
   "metadata": {
    "id": "d3AZw972fMZ_",
    "pycharm": {
     "name": "#%%\n"
    }
   },
   "execution_count": null,
   "outputs": []
  },
  {
   "cell_type": "markdown",
   "source": [
    "_You upload the simulation results to the few functional collectors.\n",
    "With more faith than expectations, you deploy them to clear the core chamber hoping they will collect enough H$_2$ before they fry._\n",
    "\n",
    "_Alea iacta est._\n",
    "\n",
    "_This gives you a brief moment to think about the possible outcomes.\n",
    "It does not look good, and you look into your teamates eyes.\n",
    "You feel pure respect and joy to be in such an amazing unit._\n",
    "\n",
    "_The last collector is down.\n",
    "Your heart stops for a moment, right before you see the temperature starting to drop.\n",
    "You did it!\n",
    "Well, technically you still need to stabilize the core, but the biggest threat has been neutralized.\n",
    "The rest is just a rutinary protocol._\n",
    "\n",
    "_Congratulations!\n",
    "You should all be proud of your hard work during this intense weekend.\n",
    "It surely was an entertaining crisis to handle!_\n",
    "\n",
    "## REFERENCES <a class=\"anchor\" id=\"REF\"></a> [[↑]](#0)\n",
    "\n",
    "[1] Franchini, Fabio. An introduction to integrable techniques for one-dimensional quantum systems. Vol. 940. Cham: Springer International Publishing, 2017. ([url](https://arxiv.org/abs/1609.02100))\n",
    "\n",
    "[2] Kandala, Abhinav, et al. \"Hardware-efficient variational quantum eigensolver for small molecules and quantum magnets.\" Nature 549.7671 (2017): 242-246. ([url](https://arxiv.org/abs/1704.05018))\n",
    "\n",
    "[3] Higgott, Oscar, Daochen Wang, and Stephen Brierley. \"Variational quantum computation of excited states.\" Quantum 3 (2019): 156. ([url](https://quantum-journal.org/papers/q-2019-07-01-156/))"
   ],
   "metadata": {
    "id": "8KT-Vk91AzTv",
    "pycharm": {
     "name": "#%% md\n"
    }
   }
  },
  {
   "cell_type": "code",
   "execution_count": 387,
   "outputs": [
    {
     "name": "stderr",
     "output_type": "stream",
     "text": [
      "C:\\Users\\thier\\AppData\\Local\\Temp\\ipykernel_11764\\421762560.py:3: NatureDeprecationWarning: The qiskit_nature.algorithms.excited_state_solvers package is deprecated as of version 0.5.0 and will be removed no sooner than 3 months after the release. Instead use the qiskit_nature.second_q.algorithms.excited_state_solvers package.\n",
      "  from qiskit_nature.algorithms import (GroundStateEigensolver,\n",
      "C:\\Users\\thier\\AppData\\Local\\Temp\\ipykernel_11764\\421762560.py:3: NatureDeprecationWarning: The qiskit_nature.algorithms.pes_sampler package is deprecated as of version 0.5.0 and will be removed no sooner than 3 months after the release . Please refer to 'https://github.com/Qiskit/qiskit-nature/issues/750' for additional information regarding 'extrapolators'.\n",
      "  from qiskit_nature.algorithms import (GroundStateEigensolver,\n"
     ]
    }
   ],
   "source": [
    "# pylint: disable=line-too-long\n",
    "from qiskit.algorithms import VQE\n",
    "from qiskit_nature.algorithms import (GroundStateEigensolver,\n",
    "                                      NumPyMinimumEigensolverFactory)\n",
    "from qiskit_nature.drivers import Molecule\n",
    "from qiskit_nature.drivers.second_quantization import (\n",
    "    ElectronicStructureMoleculeDriver, ElectronicStructureDriverType)\n",
    "from qiskit_nature.transformers.second_quantization.electronic import FreezeCoreTransformer\n",
    "from qiskit_nature.problems.second_quantization import ElectronicStructureProblem\n",
    "from qiskit_nature.converters.second_quantization import QubitConverter\n",
    "from qiskit_nature.mappers.second_quantization import ParityMapper\n",
    "# pylint: enable=line-too-long\n",
    "\n",
    "import matplotlib.pyplot as plt\n",
    "import numpy as np\n",
    "from qiskit_nature.circuit.library import UCCSD, HartreeFock\n",
    "from qiskit.circuit.library import EfficientSU2\n",
    "from qiskit.algorithms.optimizers import COBYLA, SPSA, SLSQP\n",
    "from qiskit.opflow import TwoQubitReduction\n",
    "from qiskit import BasicAer, Aer\n",
    "from qiskit.utils import QuantumInstance\n",
    "from qiskit.utils.mitigation import CompleteMeasFitter\n",
    "from qiskit.providers.aer.noise import NoiseModel"
   ],
   "metadata": {
    "collapsed": false,
    "pycharm": {
     "name": "#%%\n"
    }
   }
  },
  {
   "cell_type": "code",
   "execution_count": 392,
   "outputs": [],
   "source": [
    "def get_qubit_op(dist):\n",
    "    # Define Molecule\n",
    "    molecule = Molecule(\n",
    "        # Coordinates in Angstrom\n",
    "        geometry=[\n",
    "            [\"Li\", [0.0, 0.0, 0.0]],\n",
    "            [\"H\", [dist, 0.0, 0.0]]\n",
    "        ],\n",
    "        multiplicity=1,  # = 2*spin + 1\n",
    "        charge=0,\n",
    "    )\n",
    "\n",
    "    driver = ElectronicStructureMoleculeDriver(\n",
    "        molecule=molecule,\n",
    "        basis=\"sto3g\",\n",
    "        driver_type=ElectronicStructureDriverType.PYSCF)\n",
    "\n",
    "    # Get properties\n",
    "    properties = driver.run()\n",
    "    num_particles = (properties\n",
    "                        .get_property(\"ParticleNumber\")\n",
    "                        .num_particles)\n",
    "    num_spin_orbitals = int(properties\n",
    "                            .get_property(\"ParticleNumber\")\n",
    "                            .num_spin_orbitals)\n",
    "\n",
    "    # Define Problem, Use freeze core approximation, remove orbitals.\n",
    "    problem = ElectronicStructureProblem(\n",
    "        driver,\n",
    "        [FreezeCoreTransformer(freeze_core=True,\n",
    "                               remove_orbitals=[-3,-2])])\n",
    "\n",
    "    second_q_ops = problem.second_q_ops()  # Get 2nd Quant OP\n",
    "    num_spin_orbitals = problem.num_spin_orbitals\n",
    "    num_particles = problem.num_particles\n",
    "\n",
    "    mapper = ParityMapper()  # Set Mapper\n",
    "    hamiltonian = second_q_ops[0]  # Set Hamiltonian\n",
    "    # Do two qubit reduction\n",
    "    converter = QubitConverter(mapper,two_qubit_reduction=True)\n",
    "    reducer = TwoQubitReduction(num_particles)\n",
    "    qubit_op = converter.convert(hamiltonian)\n",
    "    qubit_op = reducer.convert(qubit_op)\n",
    "\n",
    "    return qubit_op, num_particles, num_spin_orbitals, problem, converter"
   ],
   "metadata": {
    "collapsed": false,
    "pycharm": {
     "name": "#%%\n"
    }
   }
  },
  {
   "cell_type": "code",
   "execution_count": 393,
   "outputs": [
    {
     "ename": "MissingOptionalLibraryError",
     "evalue": "\"The 'pyscf' library is required to use 'PySCFDriver'.  See https://pyscf.org/install.html.\"",
     "output_type": "error",
     "traceback": [
      "\u001B[1;31m---------------------------------------------------------------------------\u001B[0m",
      "\u001B[1;31mMissingOptionalLibraryError\u001B[0m               Traceback (most recent call last)",
      "Cell \u001B[1;32mIn[393], line 1\u001B[0m\n\u001B[1;32m----> 1\u001B[0m \u001B[43mget_qubit_op\u001B[49m\u001B[43m(\u001B[49m\u001B[38;5;241;43m2\u001B[39;49m\u001B[43m)\u001B[49m\n",
      "Cell \u001B[1;32mIn[392], line 19\u001B[0m, in \u001B[0;36mget_qubit_op\u001B[1;34m(dist)\u001B[0m\n\u001B[0;32m     13\u001B[0m driver \u001B[38;5;241m=\u001B[39m ElectronicStructureMoleculeDriver(\n\u001B[0;32m     14\u001B[0m     molecule\u001B[38;5;241m=\u001B[39mmolecule,\n\u001B[0;32m     15\u001B[0m     basis\u001B[38;5;241m=\u001B[39m\u001B[38;5;124m\"\u001B[39m\u001B[38;5;124msto3g\u001B[39m\u001B[38;5;124m\"\u001B[39m,\n\u001B[0;32m     16\u001B[0m     driver_type\u001B[38;5;241m=\u001B[39mElectronicStructureDriverType\u001B[38;5;241m.\u001B[39mPYSCF)\n\u001B[0;32m     18\u001B[0m \u001B[38;5;66;03m# Get properties\u001B[39;00m\n\u001B[1;32m---> 19\u001B[0m properties \u001B[38;5;241m=\u001B[39m \u001B[43mdriver\u001B[49m\u001B[38;5;241;43m.\u001B[39;49m\u001B[43mrun\u001B[49m\u001B[43m(\u001B[49m\u001B[43m)\u001B[49m\n\u001B[0;32m     20\u001B[0m num_particles \u001B[38;5;241m=\u001B[39m (properties\n\u001B[0;32m     21\u001B[0m                     \u001B[38;5;241m.\u001B[39mget_property(\u001B[38;5;124m\"\u001B[39m\u001B[38;5;124mParticleNumber\u001B[39m\u001B[38;5;124m\"\u001B[39m)\n\u001B[0;32m     22\u001B[0m                     \u001B[38;5;241m.\u001B[39mnum_particles)\n\u001B[0;32m     23\u001B[0m num_spin_orbitals \u001B[38;5;241m=\u001B[39m \u001B[38;5;28mint\u001B[39m(properties\n\u001B[0;32m     24\u001B[0m                         \u001B[38;5;241m.\u001B[39mget_property(\u001B[38;5;124m\"\u001B[39m\u001B[38;5;124mParticleNumber\u001B[39m\u001B[38;5;124m\"\u001B[39m)\n\u001B[0;32m     25\u001B[0m                         \u001B[38;5;241m.\u001B[39mnum_spin_orbitals)\n",
      "File \u001B[1;32m~\\.conda\\envs\\QuantumHackBNC\\lib\\site-packages\\qiskit_nature\\drivers\\second_quantization\\electronic_structure_molecule_driver.py:174\u001B[0m, in \u001B[0;36mElectronicStructureMoleculeDriver.run\u001B[1;34m(self)\u001B[0m\n\u001B[0;32m    173\u001B[0m \u001B[38;5;28;01mdef\u001B[39;00m \u001B[38;5;21mrun\u001B[39m(\u001B[38;5;28mself\u001B[39m) \u001B[38;5;241m-\u001B[39m\u001B[38;5;241m>\u001B[39m ElectronicStructureDriverResult:\n\u001B[1;32m--> 174\u001B[0m     driver_class \u001B[38;5;241m=\u001B[39m \u001B[43mElectronicStructureDriverType\u001B[49m\u001B[38;5;241;43m.\u001B[39;49m\u001B[43mdriver_class_from_type\u001B[49m\u001B[43m(\u001B[49m\n\u001B[0;32m    175\u001B[0m \u001B[43m        \u001B[49m\u001B[38;5;28;43mself\u001B[39;49m\u001B[38;5;241;43m.\u001B[39;49m\u001B[43mdriver_type\u001B[49m\u001B[43m,\u001B[49m\u001B[43m \u001B[49m\u001B[38;5;28;43mself\u001B[39;49m\u001B[38;5;241;43m.\u001B[39;49m\u001B[43mmethod\u001B[49m\n\u001B[0;32m    176\u001B[0m \u001B[43m    \u001B[49m\u001B[43m)\u001B[49m\n\u001B[0;32m    177\u001B[0m     driver \u001B[38;5;241m=\u001B[39m driver_class\u001B[38;5;241m.\u001B[39mfrom_molecule(  \u001B[38;5;66;03m# type: ignore\u001B[39;00m\n\u001B[0;32m    178\u001B[0m         \u001B[38;5;28mself\u001B[39m\u001B[38;5;241m.\u001B[39mmolecule, \u001B[38;5;28mself\u001B[39m\u001B[38;5;241m.\u001B[39mbasis, \u001B[38;5;28mself\u001B[39m\u001B[38;5;241m.\u001B[39mmethod, \u001B[38;5;28mself\u001B[39m\u001B[38;5;241m.\u001B[39mdriver_kwargs\n\u001B[0;32m    179\u001B[0m     )\n\u001B[0;32m    180\u001B[0m     \u001B[38;5;28;01mreturn\u001B[39;00m driver\u001B[38;5;241m.\u001B[39mrun()\n",
      "File \u001B[1;32m~\\.conda\\envs\\QuantumHackBNC\\lib\\site-packages\\qiskit_nature\\drivers\\second_quantization\\electronic_structure_molecule_driver.py:85\u001B[0m, in \u001B[0;36mElectronicStructureDriverType.driver_class_from_type\u001B[1;34m(driver_type, method)\u001B[0m\n\u001B[0;32m     81\u001B[0m     \u001B[38;5;28;01mraise\u001B[39;00m MissingOptionalLibraryError(\n\u001B[0;32m     82\u001B[0m         libname\u001B[38;5;241m=\u001B[39mdriver_type, name\u001B[38;5;241m=\u001B[39m\u001B[38;5;124m\"\u001B[39m\u001B[38;5;124mElectronicStructureDriverType\u001B[39m\u001B[38;5;124m\"\u001B[39m\n\u001B[0;32m     83\u001B[0m     )\n\u001B[0;32m     84\u001B[0m \u001B[38;5;66;03m# instantiating the object will check if the driver is installed\u001B[39;00m\n\u001B[1;32m---> 85\u001B[0m _ \u001B[38;5;241m=\u001B[39m \u001B[43mclass_obj\u001B[49m\u001B[43m(\u001B[49m\u001B[43m)\u001B[49m\n\u001B[0;32m     86\u001B[0m class_obj\u001B[38;5;241m.\u001B[39mcheck_method_supported(method)\n\u001B[0;32m     87\u001B[0m driver_class \u001B[38;5;241m=\u001B[39m class_obj\n",
      "File \u001B[1;32m~\\.conda\\envs\\QuantumHackBNC\\lib\\site-packages\\qiskit\\utils\\classtools.py:111\u001B[0m, in \u001B[0;36m_WrappedMethod.__get__.<locals>.out\u001B[1;34m(*args, **kwargs)\u001B[0m\n\u001B[0;32m    108\u001B[0m \u001B[38;5;129m@functools\u001B[39m\u001B[38;5;241m.\u001B[39mwraps(method)\n\u001B[0;32m    109\u001B[0m \u001B[38;5;28;01mdef\u001B[39;00m \u001B[38;5;21mout\u001B[39m(\u001B[38;5;241m*\u001B[39margs, \u001B[38;5;241m*\u001B[39m\u001B[38;5;241m*\u001B[39mkwargs):\n\u001B[0;32m    110\u001B[0m     \u001B[38;5;28;01mfor\u001B[39;00m callback \u001B[38;5;129;01min\u001B[39;00m \u001B[38;5;28mself\u001B[39m\u001B[38;5;241m.\u001B[39m_before:\n\u001B[1;32m--> 111\u001B[0m         callback\u001B[38;5;241m.\u001B[39m\u001B[38;5;21m__get__\u001B[39m(obj, objtype)(\u001B[38;5;241m*\u001B[39margs, \u001B[38;5;241m*\u001B[39m\u001B[38;5;241m*\u001B[39mkwargs)\n\u001B[0;32m    112\u001B[0m     retval \u001B[38;5;241m=\u001B[39m method(\u001B[38;5;241m*\u001B[39margs, \u001B[38;5;241m*\u001B[39m\u001B[38;5;241m*\u001B[39mkwargs)\n\u001B[0;32m    113\u001B[0m     \u001B[38;5;28;01mfor\u001B[39;00m callback \u001B[38;5;129;01min\u001B[39;00m \u001B[38;5;28mself\u001B[39m\u001B[38;5;241m.\u001B[39m_after:\n",
      "File \u001B[1;32m~\\.conda\\envs\\QuantumHackBNC\\lib\\site-packages\\qiskit\\utils\\lazy_tester.py:39\u001B[0m, in \u001B[0;36m_RequireNow.__call__\u001B[1;34m(self, *_args, **_kwargs)\u001B[0m\n\u001B[0;32m     38\u001B[0m \u001B[38;5;28;01mdef\u001B[39;00m \u001B[38;5;21m__call__\u001B[39m(\u001B[38;5;28mself\u001B[39m, \u001B[38;5;241m*\u001B[39m_args, \u001B[38;5;241m*\u001B[39m\u001B[38;5;241m*\u001B[39m_kwargs):\n\u001B[1;32m---> 39\u001B[0m     \u001B[38;5;28;43mself\u001B[39;49m\u001B[38;5;241;43m.\u001B[39;49m\u001B[43m_tester\u001B[49m\u001B[38;5;241;43m.\u001B[39;49m\u001B[43mrequire_now\u001B[49m\u001B[43m(\u001B[49m\u001B[38;5;28;43mself\u001B[39;49m\u001B[38;5;241;43m.\u001B[39;49m\u001B[43m_feature\u001B[49m\u001B[43m)\u001B[49m\n",
      "File \u001B[1;32m~\\.conda\\envs\\QuantumHackBNC\\lib\\site-packages\\qiskit\\utils\\lazy_tester.py:223\u001B[0m, in \u001B[0;36mLazyDependencyManager.require_now\u001B[1;34m(self, feature)\u001B[0m\n\u001B[0;32m    221\u001B[0m \u001B[38;5;28;01mif\u001B[39;00m \u001B[38;5;28mself\u001B[39m:\n\u001B[0;32m    222\u001B[0m     \u001B[38;5;28;01mreturn\u001B[39;00m\n\u001B[1;32m--> 223\u001B[0m \u001B[38;5;28;01mraise\u001B[39;00m MissingOptionalLibraryError(\n\u001B[0;32m    224\u001B[0m     libname\u001B[38;5;241m=\u001B[39m\u001B[38;5;28mself\u001B[39m\u001B[38;5;241m.\u001B[39m_name, name\u001B[38;5;241m=\u001B[39mfeature, pip_install\u001B[38;5;241m=\u001B[39m\u001B[38;5;28mself\u001B[39m\u001B[38;5;241m.\u001B[39m_install, msg\u001B[38;5;241m=\u001B[39m\u001B[38;5;28mself\u001B[39m\u001B[38;5;241m.\u001B[39m_msg\n\u001B[0;32m    225\u001B[0m )\n",
      "\u001B[1;31mMissingOptionalLibraryError\u001B[0m: \"The 'pyscf' library is required to use 'PySCFDriver'.  See https://pyscf.org/install.html.\""
     ]
    }
   ],
   "source": [
    "get_qubit_op(2)"
   ],
   "metadata": {
    "collapsed": false,
    "pycharm": {
     "name": "#%%\n"
    }
   }
  },
  {
   "cell_type": "code",
   "execution_count": 394,
   "outputs": [
    {
     "ename": "MissingOptionalLibraryError",
     "evalue": "\"The 'pyscf' library is required to use 'PySCFDriver'.  See https://pyscf.org/install.html.\"",
     "output_type": "error",
     "traceback": [
      "\u001B[1;31m---------------------------------------------------------------------------\u001B[0m",
      "\u001B[1;31mMissingOptionalLibraryError\u001B[0m               Traceback (most recent call last)",
      "Cell \u001B[1;32mIn[394], line 16\u001B[0m\n\u001B[0;32m     13\u001B[0m \u001B[38;5;66;03m# pylint: disable=undefined-loop-variable\u001B[39;00m\n\u001B[0;32m     14\u001B[0m \u001B[38;5;28;01mfor\u001B[39;00m dist \u001B[38;5;129;01min\u001B[39;00m distances:\n\u001B[0;32m     15\u001B[0m     (qubit_op, num_particles, num_spin_orbitals,\n\u001B[1;32m---> 16\u001B[0m                              problem, converter) \u001B[38;5;241m=\u001B[39m \u001B[43mget_qubit_op\u001B[49m\u001B[43m(\u001B[49m\u001B[43mdist\u001B[49m\u001B[43m)\u001B[49m\n\u001B[0;32m     17\u001B[0m     result \u001B[38;5;241m=\u001B[39m exact_solver(problem,converter)\n\u001B[0;32m     18\u001B[0m     exact_energies\u001B[38;5;241m.\u001B[39mappend(result\u001B[38;5;241m.\u001B[39mtotal_energies[\u001B[38;5;241m0\u001B[39m]\u001B[38;5;241m.\u001B[39mreal)\n",
      "Cell \u001B[1;32mIn[392], line 19\u001B[0m, in \u001B[0;36mget_qubit_op\u001B[1;34m(dist)\u001B[0m\n\u001B[0;32m     13\u001B[0m driver \u001B[38;5;241m=\u001B[39m ElectronicStructureMoleculeDriver(\n\u001B[0;32m     14\u001B[0m     molecule\u001B[38;5;241m=\u001B[39mmolecule,\n\u001B[0;32m     15\u001B[0m     basis\u001B[38;5;241m=\u001B[39m\u001B[38;5;124m\"\u001B[39m\u001B[38;5;124msto3g\u001B[39m\u001B[38;5;124m\"\u001B[39m,\n\u001B[0;32m     16\u001B[0m     driver_type\u001B[38;5;241m=\u001B[39mElectronicStructureDriverType\u001B[38;5;241m.\u001B[39mPYSCF)\n\u001B[0;32m     18\u001B[0m \u001B[38;5;66;03m# Get properties\u001B[39;00m\n\u001B[1;32m---> 19\u001B[0m properties \u001B[38;5;241m=\u001B[39m \u001B[43mdriver\u001B[49m\u001B[38;5;241;43m.\u001B[39;49m\u001B[43mrun\u001B[49m\u001B[43m(\u001B[49m\u001B[43m)\u001B[49m\n\u001B[0;32m     20\u001B[0m num_particles \u001B[38;5;241m=\u001B[39m (properties\n\u001B[0;32m     21\u001B[0m                     \u001B[38;5;241m.\u001B[39mget_property(\u001B[38;5;124m\"\u001B[39m\u001B[38;5;124mParticleNumber\u001B[39m\u001B[38;5;124m\"\u001B[39m)\n\u001B[0;32m     22\u001B[0m                     \u001B[38;5;241m.\u001B[39mnum_particles)\n\u001B[0;32m     23\u001B[0m num_spin_orbitals \u001B[38;5;241m=\u001B[39m \u001B[38;5;28mint\u001B[39m(properties\n\u001B[0;32m     24\u001B[0m                         \u001B[38;5;241m.\u001B[39mget_property(\u001B[38;5;124m\"\u001B[39m\u001B[38;5;124mParticleNumber\u001B[39m\u001B[38;5;124m\"\u001B[39m)\n\u001B[0;32m     25\u001B[0m                         \u001B[38;5;241m.\u001B[39mnum_spin_orbitals)\n",
      "File \u001B[1;32m~\\.conda\\envs\\QuantumHackBNC\\lib\\site-packages\\qiskit_nature\\drivers\\second_quantization\\electronic_structure_molecule_driver.py:174\u001B[0m, in \u001B[0;36mElectronicStructureMoleculeDriver.run\u001B[1;34m(self)\u001B[0m\n\u001B[0;32m    173\u001B[0m \u001B[38;5;28;01mdef\u001B[39;00m \u001B[38;5;21mrun\u001B[39m(\u001B[38;5;28mself\u001B[39m) \u001B[38;5;241m-\u001B[39m\u001B[38;5;241m>\u001B[39m ElectronicStructureDriverResult:\n\u001B[1;32m--> 174\u001B[0m     driver_class \u001B[38;5;241m=\u001B[39m \u001B[43mElectronicStructureDriverType\u001B[49m\u001B[38;5;241;43m.\u001B[39;49m\u001B[43mdriver_class_from_type\u001B[49m\u001B[43m(\u001B[49m\n\u001B[0;32m    175\u001B[0m \u001B[43m        \u001B[49m\u001B[38;5;28;43mself\u001B[39;49m\u001B[38;5;241;43m.\u001B[39;49m\u001B[43mdriver_type\u001B[49m\u001B[43m,\u001B[49m\u001B[43m \u001B[49m\u001B[38;5;28;43mself\u001B[39;49m\u001B[38;5;241;43m.\u001B[39;49m\u001B[43mmethod\u001B[49m\n\u001B[0;32m    176\u001B[0m \u001B[43m    \u001B[49m\u001B[43m)\u001B[49m\n\u001B[0;32m    177\u001B[0m     driver \u001B[38;5;241m=\u001B[39m driver_class\u001B[38;5;241m.\u001B[39mfrom_molecule(  \u001B[38;5;66;03m# type: ignore\u001B[39;00m\n\u001B[0;32m    178\u001B[0m         \u001B[38;5;28mself\u001B[39m\u001B[38;5;241m.\u001B[39mmolecule, \u001B[38;5;28mself\u001B[39m\u001B[38;5;241m.\u001B[39mbasis, \u001B[38;5;28mself\u001B[39m\u001B[38;5;241m.\u001B[39mmethod, \u001B[38;5;28mself\u001B[39m\u001B[38;5;241m.\u001B[39mdriver_kwargs\n\u001B[0;32m    179\u001B[0m     )\n\u001B[0;32m    180\u001B[0m     \u001B[38;5;28;01mreturn\u001B[39;00m driver\u001B[38;5;241m.\u001B[39mrun()\n",
      "File \u001B[1;32m~\\.conda\\envs\\QuantumHackBNC\\lib\\site-packages\\qiskit_nature\\drivers\\second_quantization\\electronic_structure_molecule_driver.py:85\u001B[0m, in \u001B[0;36mElectronicStructureDriverType.driver_class_from_type\u001B[1;34m(driver_type, method)\u001B[0m\n\u001B[0;32m     81\u001B[0m     \u001B[38;5;28;01mraise\u001B[39;00m MissingOptionalLibraryError(\n\u001B[0;32m     82\u001B[0m         libname\u001B[38;5;241m=\u001B[39mdriver_type, name\u001B[38;5;241m=\u001B[39m\u001B[38;5;124m\"\u001B[39m\u001B[38;5;124mElectronicStructureDriverType\u001B[39m\u001B[38;5;124m\"\u001B[39m\n\u001B[0;32m     83\u001B[0m     )\n\u001B[0;32m     84\u001B[0m \u001B[38;5;66;03m# instantiating the object will check if the driver is installed\u001B[39;00m\n\u001B[1;32m---> 85\u001B[0m _ \u001B[38;5;241m=\u001B[39m \u001B[43mclass_obj\u001B[49m\u001B[43m(\u001B[49m\u001B[43m)\u001B[49m\n\u001B[0;32m     86\u001B[0m class_obj\u001B[38;5;241m.\u001B[39mcheck_method_supported(method)\n\u001B[0;32m     87\u001B[0m driver_class \u001B[38;5;241m=\u001B[39m class_obj\n",
      "File \u001B[1;32m~\\.conda\\envs\\QuantumHackBNC\\lib\\site-packages\\qiskit\\utils\\classtools.py:111\u001B[0m, in \u001B[0;36m_WrappedMethod.__get__.<locals>.out\u001B[1;34m(*args, **kwargs)\u001B[0m\n\u001B[0;32m    108\u001B[0m \u001B[38;5;129m@functools\u001B[39m\u001B[38;5;241m.\u001B[39mwraps(method)\n\u001B[0;32m    109\u001B[0m \u001B[38;5;28;01mdef\u001B[39;00m \u001B[38;5;21mout\u001B[39m(\u001B[38;5;241m*\u001B[39margs, \u001B[38;5;241m*\u001B[39m\u001B[38;5;241m*\u001B[39mkwargs):\n\u001B[0;32m    110\u001B[0m     \u001B[38;5;28;01mfor\u001B[39;00m callback \u001B[38;5;129;01min\u001B[39;00m \u001B[38;5;28mself\u001B[39m\u001B[38;5;241m.\u001B[39m_before:\n\u001B[1;32m--> 111\u001B[0m         callback\u001B[38;5;241m.\u001B[39m\u001B[38;5;21m__get__\u001B[39m(obj, objtype)(\u001B[38;5;241m*\u001B[39margs, \u001B[38;5;241m*\u001B[39m\u001B[38;5;241m*\u001B[39mkwargs)\n\u001B[0;32m    112\u001B[0m     retval \u001B[38;5;241m=\u001B[39m method(\u001B[38;5;241m*\u001B[39margs, \u001B[38;5;241m*\u001B[39m\u001B[38;5;241m*\u001B[39mkwargs)\n\u001B[0;32m    113\u001B[0m     \u001B[38;5;28;01mfor\u001B[39;00m callback \u001B[38;5;129;01min\u001B[39;00m \u001B[38;5;28mself\u001B[39m\u001B[38;5;241m.\u001B[39m_after:\n",
      "File \u001B[1;32m~\\.conda\\envs\\QuantumHackBNC\\lib\\site-packages\\qiskit\\utils\\lazy_tester.py:39\u001B[0m, in \u001B[0;36m_RequireNow.__call__\u001B[1;34m(self, *_args, **_kwargs)\u001B[0m\n\u001B[0;32m     38\u001B[0m \u001B[38;5;28;01mdef\u001B[39;00m \u001B[38;5;21m__call__\u001B[39m(\u001B[38;5;28mself\u001B[39m, \u001B[38;5;241m*\u001B[39m_args, \u001B[38;5;241m*\u001B[39m\u001B[38;5;241m*\u001B[39m_kwargs):\n\u001B[1;32m---> 39\u001B[0m     \u001B[38;5;28;43mself\u001B[39;49m\u001B[38;5;241;43m.\u001B[39;49m\u001B[43m_tester\u001B[49m\u001B[38;5;241;43m.\u001B[39;49m\u001B[43mrequire_now\u001B[49m\u001B[43m(\u001B[49m\u001B[38;5;28;43mself\u001B[39;49m\u001B[38;5;241;43m.\u001B[39;49m\u001B[43m_feature\u001B[49m\u001B[43m)\u001B[49m\n",
      "File \u001B[1;32m~\\.conda\\envs\\QuantumHackBNC\\lib\\site-packages\\qiskit\\utils\\lazy_tester.py:223\u001B[0m, in \u001B[0;36mLazyDependencyManager.require_now\u001B[1;34m(self, feature)\u001B[0m\n\u001B[0;32m    221\u001B[0m \u001B[38;5;28;01mif\u001B[39;00m \u001B[38;5;28mself\u001B[39m:\n\u001B[0;32m    222\u001B[0m     \u001B[38;5;28;01mreturn\u001B[39;00m\n\u001B[1;32m--> 223\u001B[0m \u001B[38;5;28;01mraise\u001B[39;00m MissingOptionalLibraryError(\n\u001B[0;32m    224\u001B[0m     libname\u001B[38;5;241m=\u001B[39m\u001B[38;5;28mself\u001B[39m\u001B[38;5;241m.\u001B[39m_name, name\u001B[38;5;241m=\u001B[39mfeature, pip_install\u001B[38;5;241m=\u001B[39m\u001B[38;5;28mself\u001B[39m\u001B[38;5;241m.\u001B[39m_install, msg\u001B[38;5;241m=\u001B[39m\u001B[38;5;28mself\u001B[39m\u001B[38;5;241m.\u001B[39m_msg\n\u001B[0;32m    225\u001B[0m )\n",
      "\u001B[1;31mMissingOptionalLibraryError\u001B[0m: \"The 'pyscf' library is required to use 'PySCFDriver'.  See https://pyscf.org/install.html.\""
     ]
    }
   ],
   "source": [
    "def exact_solver(problem, converter):\n",
    "    solver = NumPyMinimumEigensolverFactory()\n",
    "    calc = GroundStateEigensolver(converter, solver)\n",
    "    result = calc.solve(problem)\n",
    "    return result\n",
    "\n",
    "backend = BasicAer.get_backend(\"statevector_simulator\")\n",
    "distances = np.arange(0.5, 4.0, 0.2)\n",
    "exact_energies = []\n",
    "vqe_energies = []\n",
    "optimizer = SLSQP(maxiter=5)\n",
    "\n",
    "# pylint: disable=undefined-loop-variable\n",
    "for dist in distances:\n",
    "    (qubit_op, num_particles, num_spin_orbitals,\n",
    "                             problem, converter) = get_qubit_op(dist)\n",
    "    result = exact_solver(problem,converter)\n",
    "    exact_energies.append(result.total_energies[0].real)\n",
    "    init_state = HartreeFock(num_spin_orbitals, num_particles, converter)\n",
    "    var_form = UCCSD(converter,\n",
    "                     num_particles,\n",
    "                     num_spin_orbitals,\n",
    "                     initial_state=init_state)\n",
    "    vqe = VQE(var_form, optimizer, quantum_instance=backend)\n",
    "    vqe_calc = vqe.compute_minimum_eigenvalue(qubit_op)\n",
    "    vqe_result = problem.interpret(vqe_calc).total_energies[0].real\n",
    "    vqe_energies.append(vqe_result)\n",
    "    print(f\"Interatomic Distance: {np.round(dist, 2)}\",\n",
    "          f\"VQE Result: {vqe_result:.5f}\",\n",
    "          f\"Exact Energy: {exact_energies[-1]:.5f}\")\n",
    "\n",
    "print(\"All energies have been calculated\")"
   ],
   "metadata": {
    "collapsed": false,
    "pycharm": {
     "name": "#%%\n"
    }
   }
  },
  {
   "cell_type": "code",
   "execution_count": null,
   "outputs": [],
   "source": [],
   "metadata": {
    "collapsed": false,
    "pycharm": {
     "name": "#%%\n"
    }
   }
  }
 ]
}