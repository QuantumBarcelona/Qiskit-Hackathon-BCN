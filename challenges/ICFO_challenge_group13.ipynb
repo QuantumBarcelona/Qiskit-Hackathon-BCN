{
  "cells": [
    {
      "cell_type": "markdown",
      "metadata": {
        "id": "GWorX0n3gzKz"
      },
      "source": [
        "# ICFO Challenge: QUANTUM SIMULATION WITH QUANTUM COMPUTERS\n",
        "\n",
        "Barcelona, April 1-2, 2023\n",
        "\n",
        "&nbsp;\n",
        "\n",
        "---\n",
        "\n",
        "_Greetings, brave heroes! Welcome to the **Qiskit Hackathon Barcelona**._\n",
        "\n",
        "_Unlike the latest blockbuster on the cinemas right now, the challenges you shall face here are no \"mania\" jokes.\n",
        "The nuclear core in our hidden research facilities is destabilized.\n",
        "Your elite team will venture into the core of our underground advanced lab to deal with this emergency situation (or die trying).\n",
        "We estimate a maximum of 24h before it collapses and the radioactive debris ruin the world's surface.\n",
        "Should you succeed, we'll all be safe and you'll be rewarded with great honour.\n",
        "Should you fail, it'll all be lost!\n",
        "But fear not, as the power of real quantum computers will be at your fingertips, allowing you to run actual lab experiments on remote IBM Q processors.\n",
        "With great teamwork no challenge will remain unbeaten._\n",
        "\n",
        "_The evacuation is nearly complete and most of the big-shots are already heading towards their space shuttles.\n",
        "Yes, this is the dimension of the potential catastrophe. No pressure, though.\n",
        "As you head down the facility, contention gates keep shutting down behind you.\n",
        "At the bottom, you encounter your first challenge: the contention gate leading to the core has already been sealed in what looks like a futile and desperate attempt to contain the disaster._\n",
        "\n",
        "_The breaching expert in the team gets to work.\n",
        "However, bypassing this security gate seems more cumbersome than expected.\n",
        "Just as she seems completely out of options, a wild idea crosses her mind: if you knew the magnetic properties of the security system's board, she would have the perfect tool to alter them and break the gate open._\n",
        "\n",
        "---\n",
        "\n",
        "# CONTENTS <a class=\"anchor\" id=\"0\"></a>\n",
        "\n",
        "* [1. SPINS IN THE GROUND-STATE: THE XXZ HEISENBERG MODEL](#1)\n",
        "* [2. FERMIONS IN EXCITED STATES: THE LITHIUM HYDRATE MOLECULE](#2)\n",
        "* [3. MASTER THE QUANTUM SIMULATION SHENANIGANS](#3)\n",
        "* [REFERENCES](#REF)\n",
        "\n",
        "---\n",
        "\n",
        "# 1. SPINS IN THE GROUND STATE: THE XXZ HEISENBERG MODEL <a class=\"anchor\" id=\"1\"></a> [[↑]](#0)\n",
        "\n",
        "_The quantum physicist in your unit, Seedis, gets to work.\n",
        "He kneels down and opens the heavy backpack he's been carrying.\n",
        "It's an actual quantum computer.\n",
        "\"Let's simulate the hell out of it! What're you lookin' at? Chop chop. There's no time to waste!\"_\n",
        "\n",
        "> In this first task, you will study a spin system, a prototypical problem in condensed matter physics. You will find that spins can manifest different phases and behaviours even when they rest at their ground state.\n",
        "\n",
        "To simulate a quantum system, we need to determine the interactions between the quantum particles that constitute it by defining its Hamiltonian operator.\n",
        "The security system's board contains rings that follow the XXZ Heisenberg model [[Ref.1]](#REF)<a class=\"anchor\" id=\"Ref1\"></a>, given by\n",
        "\n",
        "$$ H_{XXZ} = -\\frac{1}{4}\\sum_{i=1}^N \\sigma_i^x\\sigma_{i+1}^x + \\sigma_i^y\\sigma_{i+1}^y + \\Delta \\, \\sigma_i^z\\sigma_{i+1}^z \\,.$$\n",
        "\n",
        "Here, $N$ is the number of spin-1/2 particles, $\\Delta$ is the anisotropy parameter, and $\\sigma^x_i$, $\\sigma^y_i$, and $\\sigma^z_i$ are Pauli operators, where the subscripts label the qubit they act on.\n",
        "Furthermore, we impose the periodic boundary condition $\\sigma^u_{i+N}=\\sigma^u_{i}$ to make the object rest on a ring shape.\n",
        "Note that only qubits next to each other interact.\n",
        "\n",
        "This model captures a rich range of behaviours throughout its phase diagram.\n",
        "First off, for $\\Delta=1$, the model converges to the isotropic Heisenberg Hamiltonian (XXX), where all the terms have the same coupling strength.\n",
        "As we vary $\\Delta$, the system can be in three phases:\n",
        "\n",
        "- $\\Delta> 1$: the **ferromagnetic** phase, where all spins point in the same direction.\n",
        "- $-1<\\Delta<1$: the **paramagnetic** or critical phase, where the spins are completely disordered.\n",
        "- $\\Delta<-1$: the **anti-ferromagnetic** phase, where neighboring spins are anti-aligned.\n",
        "\n",
        "We consider $N=12$ for all the calculations throughout this task, and vary $\\Delta$ to see different physics.\n",
        "\n",
        "## 1.1 - Ground state energy of the XXZ model\n",
        "\n",
        "Quantum systems can be naturally found in their ground state (GS). \n",
        "Thus, the first step is to learn to prepare GSs with the quantum computer.\n",
        "A prominent approach to do so is through the **Variational Quantum Eigensolver (VQE)** algorithm [[Ref. 2]](#REF)<a class=\"anchor\" id=\"Ref2\"></a>.\n",
        "\n",
        "Interestingly, the energy spectrum of the $H_{XXZ}$ model can be obtained analytically using the _Bethe ansatz_. For $\\Delta>1$, the system is in the _ferromagnetic phase_, in which all the spins in the GS point towards the same direction. This GS energy $\\epsilon_{GS}$ is known to be:\n",
        "\n",
        "$$\\epsilon_{GS}=-N\\frac{\\Delta}{4}\\,.$$"
      ]
    },
    {
      "cell_type": "markdown",
      "metadata": {
        "id": "14OPtZVpp3sR"
      },
      "source": [
        "### Prepare a simple $N$-qubit state to represent a GS wave function in the ferromagnetic phase. Compute its energy taking the expectation value of the Hamiltonian to confirm the theoretical result $\\epsilon_{GS}$ for $\\Delta=4$.\n",
        "\n",
        "> Tip: Qiskit's Heisenberg model implementation already assumes the particles have spin 1/2 and, thus, you do not need to put the 1/4 prefactor in the Hamiltonian definition. Don't forget the sign though!"
      ]
    },
    {
      "cell_type": "code",
      "execution_count": 1,
      "metadata": {
        "id": "lCRlHb4QusQc"
      },
      "outputs": [],
      "source": [
        "from qiskit import *\n",
        "from qiskit_nature.second_q.hamiltonians import HeisenbergModel\n",
        "from qiskit_nature.second_q.hamiltonians.lattices import LineLattice, BoundaryCondition\n",
        "from qiskit_nature.second_q.mappers import QubitConverter\n",
        "from qiskit_nature.second_q.mappers import LogarithmicMapper\n",
        "\n",
        "from qiskit import QuantumCircuit\n",
        "from qiskit.quantum_info import Statevector\n",
        "from qiskit.opflow import CircuitStateFn\n"
      ]
    },
    {
      "cell_type": "code",
      "execution_count": 2,
      "metadata": {},
      "outputs": [
        {
          "data": {
            "text/plain": [
              "qiskit.opflow.primitive_ops.pauli_sum_op.PauliSumOp"
            ]
          },
          "execution_count": 2,
          "metadata": {},
          "output_type": "execute_result"
        }
      ],
      "source": [
        "def build_heisenbergModel(Delta, num_spins):\n",
        "    line_latt = LineLattice(\n",
        "        num_spins, boundary_condition=BoundaryCondition.PERIODIC)\n",
        "    heisenberg = HeisenbergModel(line_latt, (-1, -1, -Delta))\n",
        "\n",
        "    ham = LogarithmicMapper().map(heisenberg.second_q_op().simplify())\n",
        "    return ham\n"
      ]
    },
    {
      "cell_type": "code",
      "execution_count": null,
      "metadata": {},
      "outputs": [],
      "source": [
        "\n",
        "Delta = 4.0\n",
        "num_spins = 12\n",
        "\n",
        "ham = build_heisenbergModel(Delta, num_spins)\n",
        "\n",
        "init_state = Statevector.from_label('000000000000')\n",
        "qc = QuantumCircuit(num_spins)\n",
        "qc.initialize(init_state.data, range(num_spins))\n",
        "\n",
        "# Convert the circuit to a StateFn object\n",
        "state_fn = CircuitStateFn(qc)\n",
        "\n",
        "# Convert the Hamiltonian to an Operator object\n",
        "# ham_op = Operator(pauli_op)\n",
        "\n",
        "# Compute the expectation value\n",
        "state = Statevector.from_instruction(qc)\n",
        "expectation_value = state.expectation_value(ham)\n",
        "print(expectation_value.real)"
      ]
    },
    {
      "cell_type": "markdown",
      "metadata": {
        "id": "JjnnSrRVunsQ"
      },
      "source": [
        "State preparation is not always that straightforward.\n",
        "In the _anti-ferromagmetic phase_ (for $\\Delta<-1$), the GS wave function is more difficult to prepare, as it consists of a non-trivial superposition of the computational basis states.\n",
        "\n",
        "In the VQE algorithm, we use a parameterized circuit to prepare the GS of our Hamiltonian.\n",
        "We start with an initial guess of the circuit parameters and optimize them to minimize the expectation value of the Hamiltonian.\n",
        "This naturally brings us (close) to the GS of the system, as it is, by definition, the state with the lowest energy.\n",
        "\n",
        "Before diving into state preparation with VQE, create a baseline to evaluate the variational results.\n",
        "\n",
        "### Use an exact numerical solver to obtain the GS energy for $\\Delta=-2$"
      ]
    },
    {
      "cell_type": "code",
      "execution_count": null,
      "metadata": {
        "id": "YC8Yw97eunCD"
      },
      "outputs": [],
      "source": [
        "ham = build_heisenbergModel(-2, 12)"
      ]
    },
    {
      "cell_type": "code",
      "execution_count": null,
      "metadata": {},
      "outputs": [],
      "source": [
        "from qiskit.algorithms import NumPyMinimumEigensolver\n",
        "from qiskit.opflow import PauliSumOp\n",
        "\n",
        "\n",
        "numpy_solver = NumPyMinimumEigensolver()\n",
        "result = numpy_solver.compute_minimum_eigenvalue(operator=ham)\n",
        "ref_value = result.eigenvalue.real\n",
        "print(f\"Reference value: {ref_value:.5f}\")"
      ]
    },
    {
      "attachments": {},
      "cell_type": "markdown",
      "metadata": {},
      "source": [
        "Option 2 (manual exact digitalization)"
      ]
    },
    {
      "cell_type": "code",
      "execution_count": null,
      "metadata": {},
      "outputs": [],
      "source": [
        "import numpy as np\n",
        "from scipy.sparse import csc_matrix, kron, csr_matrix, identity\n",
        "from scipy.sparse.linalg import eigsh\n",
        "\n",
        "\n",
        "global N \n",
        "global Delta\n",
        "\n",
        "N =12\n",
        "Delta = -2.\n",
        "\n",
        "def get_pairs_X():\n",
        "    sigma_x = csr_matrix(np.array([[0.,1.],[1.,0.]], dtype=complex))\n",
        "    return kron(sigma_x, sigma_x) \n",
        "\n",
        "def get_pairs_Y():\n",
        "    sigma_y = csr_matrix(np.array([[0.,-1.j],[1.j,0.]], dtype=complex))\n",
        "    return kron(sigma_y, sigma_y)\n",
        "\n",
        "def get_pairs_Z():\n",
        "    sigma_z = csr_matrix(np.array([[1.,0.],[0.,-1.]], dtype = complex))\n",
        "    return kron(sigma_z, sigma_z)\n",
        "\n",
        "def build_hamiltonian():\n",
        "    sigma_x = csr_matrix(np.array([[0.,1.],[1.,0.]], dtype=complex))\n",
        "    sigma_y = csr_matrix(np.array([[0.,-1.j],[1.j,0.]], dtype=complex))\n",
        "    sigma_z = csr_matrix(np.array([[1.,0.],[0.,-1.]], dtype = complex))\n",
        "    Hx,Hy,Hz = csr_matrix((2**N,2**N),dtype=complex),csr_matrix((2**N,2**N),dtype=complex),csr_matrix((2**N,2**N),dtype=complex)\n",
        "\n",
        "    for k in range(N-1):\n",
        "        Hx0 = get_pairs_X()\n",
        "        Hy0 = get_pairs_Y()\n",
        "        Hz0 = get_pairs_Z()\n",
        "        Hx += kron(kron(identity(2**k,format='csr'), Hx0), identity(2**(N-2-k),format='csr'))\n",
        "        Hy += kron(kron(identity(2**k,format='csr'), Hy0), identity(2**(N-2-k),format='csr'))\n",
        "        Hz += kron(kron(identity(2**k,format='csr'), Hz0), identity(2**(N-2-k),format='csr'))\n",
        "    \n",
        "    Hx += kron(kron(sigma_x, identity(2**(N-2),format='csr')), sigma_x)\n",
        "    Hy += kron(kron(sigma_y, identity(2**(N-2),format='csr')), sigma_y)\n",
        "    Hz += kron(kron(sigma_z, identity(2**(N-2),format='csr')), sigma_z)\n",
        "\n",
        "    return (-0.25)*(Delta*Hz + Hx + Hy)\n",
        "\n",
        "h = build_hamiltonian()\n",
        "sparse_h = csc_matrix(h)\n",
        "GE, GS = eigsh(sparse_h, k=1, which='SA')\n",
        "E1, G1 = eigsh(sparse_h, k=2, which='SA')\n",
        "\n",
        "h_teo = -N*Delta/4\n",
        "\n",
        "print(E1[0])#groundstate delta =-2"
      ]
    },
    {
      "cell_type": "markdown",
      "metadata": {
        "id": "b6wgAc8ovNF0"
      },
      "source": [
        "Use the VQE algorithm to prepare the GS of the Hamiltonian for the same value of $\\Delta$.\n",
        "You should try to achieve the closest estimate to the actual GS energy using an **ansatz consisting of three layers of single- and two-qubit gates, where two-qubit gates connect only near neighbor qubits**.\n",
        "Furthermore, among the different possibilities for the optimizers that you can choose from, use the **Simultaneous Perturbation Stochastic Approximation ([SPSA](https://qiskit.org/documentation/stubs/qiskit.algorithms.optimizers.SPSA.html)) optimizer**.\n",
        "\n",
        "### Use the VQE algorithm to estimate the GS energy for $\\Delta=-2$"
      ]
    },
    {
      "cell_type": "code",
      "execution_count": null,
      "metadata": {
        "id": "3rn7-iHHoGjw"
      },
      "outputs": [],
      "source": [
        "# define ansatz and optimizer\n",
        "from qiskit.circuit.library import TwoLocal, PauliTwoDesign\n",
        "from qiskit.algorithms.optimizers import SPSA\n",
        "\n",
        "iterations = 300\n",
        "ansatz = TwoLocal(ham.num_qubits, reps=3, rotation_blocks=[\n",
        "                  \"rx\", \"rz\", \"rx\"], entanglement_blocks=\"cz\", entanglement='circular')\n",
        "# ansatz = PauliTwoDesign(num_spins, reps=1, seed=5, insert_barriers=True)\n",
        "# ansatz.add_layer(TwoLocal(4, rotation_blocks=\"rz\", entanglement_blocks=\"cz\"))\n",
        "spsa = SPSA(maxiter=iterations)\n"
      ]
    },
    {
      "cell_type": "code",
      "execution_count": null,
      "metadata": {},
      "outputs": [],
      "source": [
        "ansatz.decompose().draw('mpl')\n"
      ]
    },
    {
      "cell_type": "code",
      "execution_count": null,
      "metadata": {},
      "outputs": [],
      "source": [
        "from qiskit_aer.primitives import Estimator as AerEstimator\n",
        "\n",
        "\n",
        "noiseless_estimator = AerEstimator()\n"
      ]
    },
    {
      "cell_type": "code",
      "execution_count": null,
      "metadata": {},
      "outputs": [],
      "source": [
        "# instantiate and run VQE\n",
        "from qiskit.algorithms.minimum_eigensolvers import VQE\n",
        "\n",
        "counts = []\n",
        "values = []\n",
        "\n",
        "\n",
        "\n",
        "def store_intermediate_result(eval_count, parameters, mean, std):\n",
        "    counts.append(eval_count)\n",
        "    values.append(mean)\n",
        "\n",
        "vqe = VQE(\n",
        "    noiseless_estimator, ansatz, optimizer=spsa, callback=store_intermediate_result\n",
        ")\n",
        "result = vqe.compute_minimum_eigenvalue(operator=ham)\n",
        "\n",
        "print(f\"Reference value: {ref_value:.5f}\")\n",
        "print(f\"VQE on Aer qasm simulator (no noise): {result.eigenvalue.real:.5f}\")\n",
        "print(\n",
        "    f\"Delta from reference energy value is {(result.eigenvalue.real - ref_value):.5f}\"\n",
        ")\n",
        "print(\"number of iterations: \",len(counts))"
      ]
    },
    {
      "cell_type": "markdown",
      "metadata": {
        "id": "l4M8kWNCoFOs"
      },
      "source": [
        "## 1.2 - Ansatz expressibility\n",
        "\n",
        "This method has several aspects that can be tuned, such as the shape of the ansatz or the optimization algorithm to find the parameters. These are important factors in more elaborate quantum simulations.\n",
        "To better understand the role of these parameters, re-implement the method to solve the previous problem ($H_{XXZ}$ with $\\Delta=-2$) and compare the results obtained with with different combinations of ansatze and classical optimizers.\n",
        "\n",
        " - **Ansatz**:\n",
        " \n",
        "   - Alternating single- and two-qubit (controlled-Z) gate layers, with interactions between all qubit pairs in the two-qubit layers;\n",
        "   - Alternating single- and two-qubit (controlled-Z) gate layers, in which two-qubit gates are applied only between neighbouring qubits.\n",
        "\n",
        " - **Optimizers**:\n",
        " \n",
        "   - Simultaneous Perturbation Stochastic Approximation ([SPSA](https://qiskit.org/documentation/stubs/qiskit.algorithms.optimizers.SPSA.html));\n",
        "   - Constrained Optimization By Linear Approximation ([COBYLA](https://qiskit.org/documentation/stubs/qiskit.algorithms.optimizers.COBYLA.html));\n",
        "   - Sequential Least SQuares Programming ([SLSQP](https://qiskit.org/documentation/stubs/qiskit.algorithms.optimizers.SLSQP.html)).\n",
        "\n",
        "For both types of ansatze above, fix only 3 layers of each type of gate. Compare the 6 different combinations of ansatz and optimizer to understand which one performs better both in terms of the accuracy error obtained, and the time and number of steps to converge.\n",
        "\n",
        "### Plot the estimate of the GS energy as a function of the optimization steps for all the combinations of optimizer and ansatz listed above."
      ]
    },
    {
      "cell_type": "code",
      "execution_count": null,
      "metadata": {
        "id": "VqK8rLKToHpS"
      },
      "outputs": [],
      "source": [
        "# define ansatz and optimizer\n",
        "from qiskit.circuit.library import TwoLocal\n",
        "from qiskit.algorithms.optimizers import SPSA, COBYLA, SLSQP\n",
        "\n",
        "iterations = 2000\n",
        "ansatz = TwoLocal(ham.num_qubits, reps=3, rotation_blocks=[\n",
        "                  \"rx\", \"rz\", \"rx\"], entanglement_blocks=\"cz\", entanglement='circular')\n",
        "ansatz_2 = TwoLocal(ham.num_qubits, reps=3, rotation_blocks=[\n",
        "                    \"rx\", \"rz\", \"rx\"], entanglement_blocks=\"cz\", entanglement='full')\n",
        "ansatz_list = [(ansatz, \"circular\"), (ansatz_2, \"full\")]\n",
        "\n",
        "\n",
        "spsa = SPSA(maxiter=iterations)\n",
        "cobyla = COBYLA(maxiter=iterations)\n",
        "\n",
        "iterations = 30\n",
        "slsqp = SLSQP(maxiter=iterations)\n",
        "optimizer_list = [(spsa, \"spas\"), (cobyla, \"cobyla\"), (slsqp, \"slsqp\")]\n"
      ]
    },
    {
      "cell_type": "code",
      "execution_count": null,
      "metadata": {},
      "outputs": [],
      "source": [
        "ansatz_list[0][0].decompose().draw('mpl')\n"
      ]
    },
    {
      "cell_type": "code",
      "execution_count": null,
      "metadata": {},
      "outputs": [],
      "source": [
        "ansatz_list[1][0].decompose().draw('mpl')\n"
      ]
    },
    {
      "cell_type": "code",
      "execution_count": null,
      "metadata": {},
      "outputs": [],
      "source": [
        "import matplotlib.pyplot as plot\n",
        "print(f\"Reference value: {ref_value:.5f}\")\n",
        "print()\n",
        "\n",
        "# define callback\n",
        "# note: Re-run this cell to restart lists before training\n",
        "counts = []\n",
        "values = []\n",
        "\n",
        "\n",
        "def store_intermediate_result(eval_count, parameters, mean, std):\n",
        "    counts.append(eval_count)\n",
        "    values.append(mean)\n",
        "\n",
        "\n",
        "d = {}\n",
        "for ansatz, ansatz_name in ansatz_list:\n",
        "    for optimizer, optimizer_name in optimizer_list:\n",
        "        counts = []\n",
        "        values = []\n",
        "\n",
        "        # instantiate and run VQE\n",
        "        vqe = VQE(\n",
        "            noiseless_estimator, ansatz, optimizer=optimizer, callback=store_intermediate_result\n",
        "        )\n",
        "        result = vqe.compute_minimum_eigenvalue(operator=ham)\n",
        "\n",
        "        print(ansatz_name, optimizer_name)\n",
        "        err = result.eigenvalue.real - ref_value\n",
        "        num_iter = len(counts)\n",
        "\n",
        "        d[ansatz_name] = {}\n",
        "        d[ansatz_name][optimizer_name] = {}\n",
        "        d[ansatz_name][optimizer_name][\"error\"] = err\n",
        "        d[ansatz_name][optimizer_name][\"num_iter\"] = num_iter\n",
        "\n",
        "        print(\n",
        "            f\"VQE on Aer qasm simulator (no noise): {result.eigenvalue.real:.5f}\")\n",
        "        print(f\"Delta from reference energy value is {err:.5f}\")\n",
        "        print(\"number of iterations: \", num_iter)\n",
        "\n",
        "        plot.rcParams[\"figure.figsize\"] = (12, 4)\n",
        "        plot.plot(counts, values, label=optimizer_name+\" \"+ansatz_name)\n",
        "        plot.xlabel(\"Eval count\")\n",
        "        plot.ylabel(\"Energy\")\n",
        "        plot.title(\"Convergence with no noise\")\n",
        "\n",
        "plot.legend()\n",
        "plot.show()\n"
      ]
    },
    {
      "cell_type": "markdown",
      "metadata": {
        "id": "scNuLmbQoIre"
      },
      "source": [
        "## 1.3 - Phase diagram\n",
        "\n",
        "As we have introduced above, the full phase diagram of the $H_{XXZ}$ model encompasses a rich range of behaviours:\n",
        "\n",
        "- For $\\Delta>1$, we have a **ferromagnetic** phase.\n",
        "- For $-1<\\Delta<1$, we have a **paramagnetic** phase.\n",
        "- For $\\Delta\\leq-1$, we have an **anti-ferromagnetic** phase.\n",
        "\n",
        "Use the best combination of optimizer and ansatz that you have found before to prepare the GS of the system for different values of $\\Delta$ to reconstruct the phase diagram.\n",
        "Consider, at least, the values of $\\Delta=\\{-2, -1, 0, 1, 2\\}$.\n",
        "These will allow you to probe the properties of the GS in each phase.\n",
        "If you can afford to use more points within the $\\Delta\\in[-2, 2]$ range, go for it!\n",
        "\n",
        "Taking the exact solution as a reference, try to improve the ansatz, e.g., adding more layers, to obtain a better representation of the GS of the system.\n",
        "\n",
        "Once you find the optimal parameters for your best ansatz, use it to compute the expectation value of the **magnetization** of the system along the $z$-axis\n",
        "$$\n",
        "M \\equiv \\frac{1}{2N} \\sum_{i=1}^{N} \\left\\langle \\sigma_{i}^{z} \\right\\rangle\\,,\n",
        "$$\n",
        "the **staggered magnetization**\n",
        "$$\n",
        "M_{st} \\equiv \\frac{1}{2N}\\sum_{i=1}^N (-1)^i\\left\\langle\\sigma_i^z\\right\\rangle\\,,\n",
        "$$\n",
        "as well as the expectation value of the **nearest neighbour correlator**\n",
        "$$\n",
        "C \\equiv \\frac{1}{4N} \\sum_{i=1}^{N}\\left\\langle \\sigma_{i}^{z} \\sigma_{i+1}^{z}  \\right\\rangle\\,.\n",
        "$$\n",
        "Plot these observables as a function of $\\Delta$.\n",
        "You will need to prepare the GS multiple times to estimate these averages from the measurement statistics.\n",
        "\n",
        "### Plot $M$, $M_{st}$ and $C$ as a function of $\\Delta$ and comment on the GS properties you can infer from these observables.\n",
        "> Tip: If you find degenerate GSs, you can compute the expectation values above with only one of them (manually break the symmetry).\n",
        "Alternatively, you can try to energetically favour one of those by adding an external magnetic field in one direction in the Hamiltonian $H_{XXZ} + \\delta\\sigma_0^z$ with small $\\delta$."
      ]
    },
    {
      "cell_type": "code",
      "execution_count": null,
      "metadata": {
        "id": "0a33gxSpxlzV"
      },
      "outputs": [],
      "source": [
        "from qiskit_aer.primitives import Estimator as AerEstimator\n",
        "from qiskit.circuit.library import TwoLocal, PauliTwoDesign\n",
        "from qiskit.algorithms.optimizers import SPSA\n",
        "from qiskit.algorithms.minimum_eigensolvers import VQE\n",
        "from qiskit import Aer, transpile\n",
        "from qiskit.visualization import plot_histogram\n",
        "import numpy as np\n"
      ]
    },
    {
      "attachments": {},
      "cell_type": "markdown",
      "metadata": {},
      "source": [
        "Here we defind the hamiltonian with a perturbation to break degeneracy of the groundstate"
      ]
    },
    {
      "cell_type": "code",
      "execution_count": null,
      "metadata": {},
      "outputs": [],
      "source": [
        "def build_heisenbergModel_pert(Delta, num_spins):\n",
        "    eps = 0.1\n",
        "    line_latt = LineLattice(\n",
        "        num_spins, boundary_condition=BoundaryCondition.PERIODIC)\n",
        "    heisenberg = HeisenbergModel(line_latt, (-1, -1, -Delta))\n",
        "    lst = []\n",
        "    pauli_str = 'I' * num_spins\n",
        "    string = 'Z'+pauli_str[1:num_spins]\n",
        "    ham = LogarithmicMapper().map(heisenberg.second_q_op().simplify())\n",
        "    lst.append((string, eps))\n",
        "    ham += PauliSumOp.from_list(lst)\n",
        "    return ham\n",
        "\n",
        "\n",
        "def store_intermediate_result(eval_count, parameters, mean, std):\n",
        "    counts.append(eval_count)\n",
        "    values.append(mean)\n"
      ]
    },
    {
      "attachments": {},
      "cell_type": "markdown",
      "metadata": {},
      "source": [
        "Here we construct the operators to calculate the expectaction value of the magnetisation, staggered magnetisation and the correlation."
      ]
    },
    {
      "cell_type": "code",
      "execution_count": null,
      "metadata": {},
      "outputs": [],
      "source": [
        "def exp_val_from_state(state):\n",
        "    total_value = 0\n",
        "    n = len(state)\n",
        "    for i in state:\n",
        "        total_value += 1 - 2*int(i)\n",
        "    return total_value\n",
        "\n",
        "\n",
        "def magn_exp_val(stats, n_iter, N):\n",
        "    \"\"\"\n",
        "    Calculates the expected value of the magnetization for a given state\"\"\"\n",
        "    exp_val = 0\n",
        "    for state in stats:\n",
        "        exp_val += (stats[state] / n_iter) * exp_val_from_state(state)\n",
        "    return exp_val * 0.5 / N\n",
        "\n",
        "\n",
        "def stag_magn_exp_val(stats, n_iter, N):\n",
        "    \"\"\"\n",
        "    Calculates the expected value of the staggered magnetization for a given state\n",
        "    \"\"\"\n",
        "    exp_val = 0\n",
        "    for state in stats:\n",
        "        state_value = 0\n",
        "        for i in range(0, N, 2):\n",
        "            state_value += (1 - 2*int(state[i]))\n",
        "        for i in range(1, N, 2):\n",
        "            state_value -= (1 - 2*int(state[i]))\n",
        "        exp_val += (stats[state] / n_iter) * state_value\n",
        "    return exp_val * 0.5 / N\n",
        "\n",
        "\n",
        "def corr_val_from_state(state):\n",
        "    spin_val = 0\n",
        "    n_spins = len(state) - 1\n",
        "    for i in range(n_spins):\n",
        "        left_neig = 1 - 2 * int(state[i])\n",
        "        right_neig = 1 - 2 * int(state[i+1])\n",
        "        spin_val += left_neig * right_neig\n",
        "    spin_val += (1 - 2 * int(state[0])) * (1 - 2 * int(state[n_spins]))\n",
        "    return spin_val\n",
        "\n",
        "\n",
        "def correlator_exp_val(stats, n_iter, N):\n",
        "    \"\"\"\n",
        "    Calculates the expected value of the correlator for a given state\n",
        "    \"\"\"\n",
        "    exp_val = 0\n",
        "    for state in stats:\n",
        "        exp_val += corr_val_from_state(state) * (stats[state]/n_iter)\n",
        "    return exp_val * 0.25 / N\n"
      ]
    },
    {
      "attachments": {},
      "cell_type": "markdown",
      "metadata": {},
      "source": [
        "Here i run VEQ for different deltas, and get the statistics from the quantum circuit"
      ]
    },
    {
      "cell_type": "code",
      "execution_count": null,
      "metadata": {},
      "outputs": [],
      "source": [
        "iterations = 1500\n",
        "Deltas = np.linspace(-2, 2, 10)\n",
        "noiseless_estimator = AerEstimator()\n",
        "simulator = Aer.get_backend('qasm_simulator')\n",
        "spsa = SPSA(maxiter=iterations)\n",
        "Ms_list, Mst_list, C_list = [], [], []\n",
        "for delta in Deltas:\n",
        "\n",
        "    ham = build_heisenbergModel_pert(delta, 12)\n",
        "    ansatz = TwoLocal(ham.num_qubits, reps=3, rotation_blocks=[\n",
        "                      \"rx\", \"rz\", \"rx\"], entanglement_blocks=\"cz\", entanglement='circular')\n",
        "\n",
        "    counts = []\n",
        "    values = []\n",
        "\n",
        "    vqe = VQE(\n",
        "        noiseless_estimator, ansatz, optimizer=spsa, callback=store_intermediate_result\n",
        "    )\n",
        "    result = vqe.compute_minimum_eigenvalue(operator=ham)\n",
        "    \"\"\"aaa=ansatz.assign_parameters(result.optimal_parameters, inplace = False)\n",
        "    cfn=CircuitStateFn(aaa)#Create a circuit state\n",
        "    state=cfn.eval().primitive#create the state vector\n",
        "    print(state)\"\"\"\n",
        "    optimal_params = result.optimal_parameters\n",
        "    optimal_circuit = ansatz.bind_parameters(optimal_params)\n",
        "    optimal_circuit.measure_all()\n",
        "\n",
        "    circ = transpile(optimal_circuit, simulator)\n",
        "    meas_result = simulator.run(circ, shots=1000).result()\n",
        "    counts = meas_result.get_counts(circ)\n",
        "    print(counts)\n",
        "\n",
        "    M = magn_exp_val(counts, 1000, 12)  # result = 0.5\n",
        "    Mst = stag_magn_exp_val(counts, 1000, 12)  # result = 0.5\n",
        "    C = correlator_exp_val(counts, 1000, 12)  # result = 0.5\n",
        "    print(\"Delta: \", delta)\n",
        "    print(\"Magnestions: \", M, Mst, C)\n",
        "    Ms_list.append(M)\n",
        "    Mst_list.append(Mst)\n",
        "    C_list.append(C)\n"
      ]
    },
    {
      "cell_type": "code",
      "execution_count": null,
      "metadata": {},
      "outputs": [],
      "source": [
        "Mst_list[0] = np.abs(Mst_list[0])\n",
        "plt.plot(Deltas, Ms_list, label='Magnetisation')\n",
        "plt.plot(Deltas, Mst_list, label='Staggered Magnetisation')\n",
        "plt.plot(Deltas, C_list, label='NN Correlator')\n",
        "plt.xlabel(r'$\\Delta$')\n",
        "plt.title('Circuit Statistics')\n",
        "plt.legend()\n",
        "\n",
        "# show the plot\n",
        "plt.show()\n"
      ]
    },
    {
      "cell_type": "code",
      "execution_count": null,
      "metadata": {},
      "outputs": [],
      "source": [
        "\n",
        "from qiskit.visualization import plot_histogram\n",
        "import matplotlib.pyplot as plt\n",
        "\n",
        "# Sort the dictionary by values and get the top N elements\n",
        "N = 10\n",
        "sorted_counts = dict(\n",
        "    sorted(counts.items(), key=lambda x: x[1], reverse=True)[:N])\n",
        "\n",
        "# Plot the histogram\n",
        "plot_histogram(sorted_counts, title=r\"$\\Delta = 1.55$\")\n"
      ]
    },
    {
      "attachments": {},
      "cell_type": "markdown",
      "metadata": {},
      "source": [
        "Method 2:\n"
      ]
    },
    {
      "cell_type": "code",
      "execution_count": null,
      "metadata": {},
      "outputs": [],
      "source": [
        "from qiskit import QuantumCircuit\n",
        "from qiskit.quantum_info import Statevector, Operator\n",
        "from qiskit.opflow import PauliSumOp, CircuitStateFn\n",
        "from qiskit_aer.primitives import Estimator as AerEstimator\n",
        "from qiskit.algorithms.minimum_eigensolvers import VQE\n",
        "\n",
        "noiseless_estimator = AerEstimator()\n"
      ]
    },
    {
      "cell_type": "code",
      "execution_count": null,
      "metadata": {},
      "outputs": [],
      "source": [
        "counts = []\n",
        "values = []\n",
        "\n",
        "\n",
        "def store_intermediate_result(eval_count, parameters, mean, std):\n",
        "    counts.append(eval_count)\n",
        "    values.append(mean)\n",
        "\n",
        "\n",
        "def build_heisenbergModel_pert(Delta, num_spins):\n",
        "    eps = 1e-3\n",
        "    line_latt = LineLattice(\n",
        "        num_spins, boundary_condition=BoundaryCondition.PERIODIC)\n",
        "    heisenberg = HeisenbergModel(line_latt, (-1, -1, -Delta))\n",
        "    lst = []\n",
        "    pauli_str = 'I' * num_spins\n",
        "    string = 'Z'+pauli_str[1:num_spins]\n",
        "    ham = LogarithmicMapper().map(heisenberg.second_q_op().simplify())\n",
        "    lst.append((string, eps))\n",
        "    ham += PauliSumOp.from_list(lst)\n",
        "    return ham\n"
      ]
    },
    {
      "attachments": {},
      "cell_type": "markdown",
      "metadata": {},
      "source": [
        "Here we construct the operators to calculate the expectation value of the magnetization, staggered magnetization and the correlation."
      ]
    },
    {
      "cell_type": "code",
      "execution_count": null,
      "metadata": {},
      "outputs": [],
      "source": [
        "num_spins = N = 12\n",
        "\n",
        "\n",
        "def create_mag():\n",
        "    ops = []\n",
        "    for i in range(num_spins):\n",
        "        pauli_str = 'I' * num_spins\n",
        "        pauli_str = pauli_str[:i] + 'Z' + pauli_str[i+1:]\n",
        "        coeff = 0.5/num_spins\n",
        "        ops.append((pauli_str, coeff))\n",
        "\n",
        "    pauli_op_mag = PauliSumOp.from_list(ops)\n",
        "    Mag_estimator = Operator(pauli_op_mag)\n",
        "\n",
        "    return Mag_estimator\n",
        "\n",
        "\n",
        "def create_mag_st():\n",
        "    ops = []\n",
        "    for i in range(num_spins):\n",
        "        pauli_str = 'I' * num_spins\n",
        "        pauli_str = pauli_str[:i] + 'Z' + pauli_str[i+1:]\n",
        "        coeff = (-1)**i*0.5/num_spins\n",
        "        ops.append((pauli_str, coeff))\n",
        "\n",
        "    pauli_op_mag_st = PauliSumOp.from_list(ops)\n",
        "    Mag_st_estimator = Operator(pauli_op_mag_st)\n",
        "\n",
        "    return Mag_st_estimator\n",
        "\n",
        "\n",
        "def create_near_correlator():\n",
        "    ops = []\n",
        "    for i in range(N-1):\n",
        "        pauli_str = 'I' * num_spins\n",
        "        pauli_str = pauli_str[:i] + 'ZZ' + pauli_str[i+2:]\n",
        "        coeff = 0.25/num_spins\n",
        "        ops.append((pauli_str, coeff))\n",
        "    ops.append(('ZIIIIIIIIIIZ', coeff))\n",
        "\n",
        "    pauli_near_correlator = PauliSumOp.from_list(ops)\n",
        "    Near_correlator = Operator(pauli_near_correlator)\n",
        "\n",
        "    return Near_correlator\n",
        "\n",
        "\n",
        "Mag_operator = create_mag()\n",
        "Mag_st_operator = create_mag_st()\n",
        "Correlator_operator = create_near_correlator()\n"
      ]
    },
    {
      "attachments": {},
      "cell_type": "markdown",
      "metadata": {},
      "source": [
        "Run the Deltas loop and find the expectation values of the magnetization, staggered magnetization and the correlation."
      ]
    },
    {
      "cell_type": "code",
      "execution_count": null,
      "metadata": {},
      "outputs": [],
      "source": [
        "import numpy as np\n",
        "\n",
        "#Deltas = [-2,-1,0,1,2]\n",
        "Deltas = np.linspace(-2, 2, 10)\n",
        "iterations = 1500\n",
        "noiseless_estimator = AerEstimator()\n",
        "Ms_list, Mst_list, C_list = [], [], []\n",
        "for delta in Deltas:\n",
        "    ham = build_heisenbergModel_pert(delta, 12)\n",
        "    ansatz = TwoLocal(ham.num_qubits, reps=3, rotation_blocks=[\n",
        "                      \"rx\", \"rz\", \"rx\"], entanglement_blocks=\"cz\", entanglement='circular')\n",
        "\n",
        "    spsa = SPSA(maxiter=iterations)\n",
        "    vqe = VQE(\n",
        "        noiseless_estimator, ansatz, optimizer=spsa, callback=store_intermediate_result)\n",
        "    result = vqe.compute_minimum_eigenvalue(operator=ham)\n",
        "\n",
        "    #Generate the circuit ansatz with the optimal parameters\n",
        "    ansatz.assign_parameters(result.optimal_parameters, inplace=True)\n",
        "    cfn = CircuitStateFn(ansatz)  # Create a circuit state\n",
        "    state = cfn.eval().primitive  # create the state vector\n",
        "    M = state.expectation_value(Mag_operator)\n",
        "    Mst = np.abs(state.expectation_value(Mag_st_operator))\n",
        "    C = np.real(state.expectation_value(Correlator_operator))\n",
        "    print(\"Delta: \", delta)\n",
        "    print(\"Magnestions: \", M, Mst, C)\n",
        "    Ms_list.append(M)\n",
        "    Mst_list.append(Mst)\n",
        "    C_list.append(C)\n"
      ]
    },
    {
      "cell_type": "code",
      "execution_count": null,
      "metadata": {},
      "outputs": [],
      "source": [
        "import matplotlib.pyplot as plt\n",
        "import numpy as np\n",
        "\n",
        "# load data from file\n",
        "data = np.loadtxt('magnetisation_data.csv', delimiter=',')\n",
        "\n",
        "# extract delta and magnetisations from data\n",
        "delta = data[:, 0]\n",
        "m1 = data[:, 1]\n",
        "m2 = data[:, 2]\n",
        "m3 = data[:, 3]\n",
        "\n",
        "# create plot\n",
        "plt.plot(delta, m1, label='Magnetisation')\n",
        "plt.plot(delta, m2, label='Staggered Magnetisation')\n",
        "plt.plot(delta, m3, label='NN Correlator')\n",
        "\n",
        "# add axis labels and legend\n",
        "plt.title(\"State vector simulation\")\n",
        "plt.xlabel(r'$\\Delta$')\n",
        "plt.legend()\n",
        "\n",
        "# show the plot\n",
        "plt.show()\n"
      ]
    },
    {
      "attachments": {},
      "cell_type": "markdown",
      "metadata": {
        "id": "sj7EebTFg3HG"
      },
      "source": [
        "_Having characterized the security system's board material, your breaching expert proceeds to hack it by driving it through the different phases at convenience._\n",
        "\n",
        "_Congratulations, you've overcome the first challenge!_\n",
        "\n",
        "----\n",
        "_The main gate opens and you get a first glimpse of the core's control room.\n",
        "Apparently, they were conducting research on cleaner nuclear energy.\n",
        "A novel purpose, although it's now about to wipe us all clean._\n",
        "\n",
        "_The core is shielded with a shell of lithium hydrate (LiH).\n",
        "However, the nuclear reaction is going wild and it's destabilizing the shell.\n",
        "The radiation coming from the core has heated the LiH and excited its electrons, which interferes with the diagnosis system.\n",
        "If you knew the electronic structure of the material, you could bring the excited electrons down to their low-lying states through stimulated emission._\n",
        "\n",
        "# 2. FERMIONS IN EXCITED STATES: THE LITHIUM HYDRATE MOLECULE  <a class=\"anchor\" id=\"2\"></a> [[↑]](#0)\n",
        "\n",
        "_You're packing the quantum computer, when Seedis starts taking it out again.\n",
        "\"Alright mates, we've got plenty of lasers around.\n",
        "Let's figure out the spectrum of the shell and we can surely point at it some of them to hold it together\"._\n",
        "\n",
        "> Molecular compounds are extremely valuable for our society, as they are central in material sciences and medicine.\n",
        "Here, we study the electronic properties of the LiH ionic conductor.\n",
        "Actually, we use different isotopes of LiH to shield and moderate nuclear reactors, but we take this little licence here :)\n",
        "\n",
        "The goal is to study the electronic structure of the lithium hydrate (LiH) molecule.\n",
        "The energies in the reactor are so high that the molecules are being distorted.\n",
        "Therefore, we wish to know the dependence of the low-lying excited states with the interatomic distance. \n",
        "\n",
        "The particles we consider (electrons) are fermions.\n",
        "These are different in nature from the qubits we have access to.\n",
        "Thus, we need to map the fermionic Hamiltonian to qubits.\n",
        "To give an intuition, we can relate our qubit states, $|0\\rangle$ and $|1\\rangle$, with the occupation of the molecule's electronic orbitals, e.g. we can mark occupied orbitals with a $|1\\rangle$.\n",
        "Here, consider the minimal basis set of spin orbitals STO-3G.\n",
        "\n",
        "When we study these physical systems, we need to take into account that our molecules have a fixed number of electrons that move along the orbitals.\n",
        "This means we can only consider states with a fixed amount of qubits in state $|1\\rangle$, as changing orbitals will replace $|0\\rangle$ by $|1\\rangle$ in the destination and $|1\\rangle$ by $|0\\rangle$ at the origin.\n",
        "For example, Li has three electrons and H has one, meaning that our states must always have four qubits in state $|1\\rangle$.\n",
        "Properly encoding this in our variational ansatze will be essential to find good results.\n",
        "\n",
        "> Tip: to ease the calculations, restrict the active space by freezing the core orbitals. \n",
        "Furthermore, you can exploit the symmetries in the resulting Hamiltonian to reduce the number of qubits.\n",
        "This does not look like a lot, but it'll surely help ;)\n",
        "\n",
        "## 2.1 - Molecular spectra (contains all the code for ex2)\n",
        "\n",
        "To warm up, find the GS energy of the LiH molecule considering a bond distance of $2~\\unicode{x212B}$.\n",
        "Use a parity map to map the fermionic Hamiltonian to qubits.\n",
        "Compute also the energy of the next two excited states.\n",
        "\n",
        "Find the true values with exact diagonalization and compare them with the results obtained through VQE (the closer, the better!).\n",
        "To obtain the excited states, you can use any extension of the VQE you want, e.g., variational quantum deflation [[Ref.3]](#REF)<a class=\"anchor\" id=\"Ref3\"></a>.\n",
        "\n",
        "Use a suitable optimizer and a particle-preserving ansatz.\n",
        "\n",
        "### Compute the energy of the GS and the two first excited states and compare them with the exact results."
      ]
    },
    {
      "cell_type": "code",
      "execution_count": 7,
      "metadata": {},
      "outputs": [],
      "source": [
        "# pylint: disable=line-too-long\n",
        "from qiskit.algorithms.minimum_eigensolvers import VQE\n",
        "\n",
        "from qiskit_nature.second_q.algorithms import GroundStateEigensolver\n",
        "from qiskit.algorithms.minimum_eigensolvers import NumPyMinimumEigensolver\n",
        "\n",
        "from qiskit_nature.drivers import Molecule\n",
        "from qiskit_nature.drivers.second_quantization import (\n",
        "    ElectronicStructureMoleculeDriver, ElectronicStructureDriverType)\n",
        "from qiskit_nature.second_q.transformers import FreezeCoreTransformer\n",
        "from qiskit_nature.problems.second_quantization import ElectronicStructureProblem\n",
        "# from qiskit_nature.converters.second_quantization import QubitConverter\n",
        "from qiskit_nature.second_q.mappers import JordanWignerMapper, QubitConverter\n",
        "from qiskit_nature.second_q.mappers import ParityMapper\n",
        "# pylint: enable=line-too-long\n",
        "from qiskit.primitives import Estimator\n",
        "from qiskit_aer.primitives import Estimator as AerEstimator\n",
        "\n",
        "\n",
        "import matplotlib.pyplot as plt\n",
        "import numpy as np\n",
        "from qiskit_nature.second_q.circuit.library import HartreeFock, UCCSD\n",
        "from qiskit.circuit.library import EfficientSU2\n",
        "from qiskit.algorithms.optimizers import COBYLA, SPSA, SLSQP\n",
        "from qiskit.opflow import TwoQubitReduction\n",
        "from qiskit import BasicAer, Aer\n",
        "from qiskit.utils import QuantumInstance\n",
        "from qiskit.utils.mitigation import CompleteMeasFitter\n",
        "from qiskit.providers.aer.noise import NoiseModel\n",
        "from qiskit_nature.second_q.formats.molecule_info import MoleculeInfo\n",
        "from qiskit_nature.second_q.drivers import PySCFDriver\n",
        "\n",
        "\n",
        "from qiskit_nature.second_q.algorithms import ExcitedStatesEigensolver\n",
        "from qiskit.algorithms.eigensolvers import NumPyEigensolver, VQD\n",
        "from qiskit_nature.second_q.mappers import JordanWignerMapper\n",
        "\n",
        "from qiskit_nature.second_q.algorithms import GroundStateEigensolver, QEOM\n",
        "\n",
        "from qiskit.algorithms.state_fidelities import ComputeUncompute\n",
        "from qiskit.primitives import Sampler\n",
        "\n",
        "from qiskit.circuit.library import TwoLocal\n",
        "\n"
      ]
    },
    {
      "cell_type": "code",
      "execution_count": 2,
      "metadata": {},
      "outputs": [],
      "source": [
        "def get_qubit_op(dist):\n",
        "    molecule = MoleculeInfo(\n",
        "            # Coordinates in Angstrom\n",
        "            symbols=[\"Li\", \"H\"],\n",
        "            coords=[\n",
        "                (0.0, 0.0, 0.0),\n",
        "                (dist, 0.0, 0.0)\n",
        "            ],\n",
        "            multiplicity=1,  # = 2*spin + 1\n",
        "            charge=0,\n",
        "        )\n",
        "\n",
        "    driver = PySCFDriver.from_molecule(molecule=molecule, basis=\"sto3g\")\n",
        "\n",
        "    es_problem = driver.run()\n",
        "\n",
        "\n",
        "    transformer = FreezeCoreTransformer(freeze_core=True, remove_orbitals=[-3, -2])\n",
        "\n",
        "    problem = transformer.transform(es_problem)\n",
        "\n",
        "    num_spin_orbitals = problem.num_spin_orbitals\n",
        "    num_particles = problem.num_particles\n",
        "\n",
        "    mapper = ParityMapper()  # Set Parity Mapper\n",
        "    # mapper = JordanWignerMapper()\n",
        "    hamiltonian = problem.hamiltonian.second_q_op()\n",
        "    # Do two qubit reduction\n",
        "    converter = QubitConverter(mapper,two_qubit_reduction=True)\n",
        "    # reducer = TwoQubitReduction(num_particles)\n",
        "    qubit_op = converter.convert(hamiltonian, num_particles= num_particles)\n",
        "    # qubit_op = reducer.convert(qubit_op)\n",
        "\n",
        "    return qubit_op, num_particles, num_spin_orbitals, problem, converter\n",
        "\n",
        "def exact_solver(problem, converter):\n",
        "    solver = NumPyMinimumEigensolver()\n",
        "    calc = GroundStateEigensolver(converter, solver)\n",
        "    result = calc.solve(problem)\n",
        "    return result\n",
        "\n",
        "\n",
        "def excited_solver(problem, converter, k=3):\n",
        "    numpy_solver = NumPyEigensolver(k=k, filter_criterion=problem.get_default_filter_criterion())\n",
        "\n",
        "    cal = ExcitedStatesEigensolver(converter, numpy_solver)\n",
        "    numpy_results = cal.solve(problem)\n",
        "\n",
        "    return numpy_results\n"
      ]
    },
    {
      "cell_type": "code",
      "execution_count": 90,
      "metadata": {},
      "outputs": [
        {
          "name": "stdout",
          "output_type": "stream",
          "text": [
            "Interatomic Distance: 0.5 VQE Result: -7.04692 Exact Energy: -7.04791\n",
            "Interatomic Distance: 0.75 VQE Result: -7.57417 Exact Energy: -7.57458\n",
            "Interatomic Distance: 1.0 VQE Result: -7.78357 Exact Energy: -7.78402\n",
            "Interatomic Distance: 1.25 VQE Result: -7.86114 Exact Energy: -7.86161\n",
            "Interatomic Distance: 1.5 VQE Result: -7.88169 Exact Energy: -7.88214\n",
            "Interatomic Distance: 1.75 VQE Result: -7.87645 Exact Energy: -7.87695\n",
            "Interatomic Distance: 2.0 VQE Result: -7.86009 Exact Energy: -7.86083\n",
            "Interatomic Distance: 2.25 VQE Result: -7.84025 Exact Energy: -7.84154\n",
            "All energies have been calculated\n"
          ]
        }
      ],
      "source": [
        "backend = BasicAer.get_backend(\"statevector_simulator\")\n",
        "distances = np.arange(0.5, 2.5, 0.25)\n",
        "exact_energies = []\n",
        "vqe_energies = []\n",
        "optimizer = SLSQP(maxiter=20)\n",
        "\n",
        "# pylint: disable=undefined-loop-variable\n",
        "for dist in distances:\n",
        "    (qubit_op, num_particles, num_spin_orbitals,\n",
        "                             problem, converter) = get_qubit_op(dist)\n",
        "    result = exact_solver(problem,converter)\n",
        "    \n",
        "    exact_energies.append(result.total_energies[0].real)\n",
        "\n",
        "    var_form = UCCSD(\n",
        "        problem.num_spatial_orbitals,\n",
        "        problem.num_particles,\n",
        "        converter,\n",
        "        initial_state=HartreeFock(\n",
        "            problem.num_spatial_orbitals,\n",
        "            problem.num_particles,\n",
        "            converter,\n",
        "        ),\n",
        "    )\n",
        "    \n",
        "    \n",
        "\n",
        "    vqe_solver = VQE(Estimator(), var_form, SLSQP(maxiter=3))\n",
        "    vqe_solver.initial_point = [0.0] * var_form.num_parameters\n",
        "\n",
        "    calc = GroundStateEigensolver(converter, vqe_solver)\n",
        "    vqe_result = calc.solve(problem) \n",
        "    vqe_result = vqe_result.total_energies[0]\n",
        "    \n",
        "    vqe_energies.append(vqe_result)\n",
        "    print(f\"Interatomic Distance: {np.round(dist, 2)}\",\n",
        "          f\"VQE Result: {vqe_result:.5f}\",\n",
        "          f\"Exact Energy: {exact_energies[-1]:.5f}\")\n",
        "\n",
        "print(\"All energies have been calculated\")"
      ]
    },
    {
      "cell_type": "code",
      "execution_count": 91,
      "metadata": {},
      "outputs": [
        {
          "data": {
            "image/png": "[encoded data removed]",
            "text/plain": [
              "<Figure size 640x480 with 1 Axes>"
            ]
          },
          "metadata": {},
          "output_type": "display_data"
        }
      ],
      "source": [
        "plt.plot(distances, exact_energies, label=\"Exact Energy\", lw=2)\n",
        "plt.plot(distances, vqe_energies, label=\"VQE Energy\", ls='--')\n",
        "plt.xlabel('Atomic distance (Angstrom)')\n",
        "plt.ylabel('Energy')\n",
        "plt.legend()\n",
        "plt.show()"
      ]
    },
    {
      "cell_type": "code",
      "execution_count": null,
      "metadata": {},
      "outputs": [],
      "source": [
        "backend = BasicAer.get_backend(\"statevector_simulator\")\n",
        "distances = np.arange(0.5, 2.5, 0.25)\n",
        "exact_energies = []\n",
        "vqe_energies = []\n",
        "optimizer = SLSQP(maxiter=20)\n",
        "\n",
        "# pylint: disable=undefined-loop-variable\n",
        "for dist in distances:\n",
        "    (qubit_op, num_particles, num_spin_orbitals,\n",
        "                             problem, converter) = get_qubit_op(dist)\n",
        "    result = excited_solver(problem,converter)\n",
        "    \n",
        "    exact_energies.append(result.total_energies)\n",
        "\n",
        "    var_form = UCCSD(\n",
        "        problem.num_spatial_orbitals,\n",
        "        problem.num_particles,\n",
        "        converter,\n",
        "        initial_state=HartreeFock(\n",
        "            problem.num_spatial_orbitals,\n",
        "            problem.num_particles,\n",
        "            converter,\n",
        "        ),\n",
        "    )\n",
        "\n",
        "\n",
        "    estimator = Estimator()\n",
        "    sampler = Sampler()\n",
        "    fidelity = ComputeUncompute(sampler)\n",
        "    betas = [33, 33, 33]\n",
        "\n",
        "    vqe_solver = VQD(Estimator(), fidelity, ansatz=var_form, k=3, optimizer= SLSQP(maxiter=10), betas=betas)\n",
        "    vqe_solver.initial_point = [0.0] * var_form.num_parameters\n",
        "\n",
        "    calc = ExcitedStatesEigensolver(converter, vqe_solver)\n",
        "    vqe_result = calc.solve(problem) \n",
        "        \n",
        "    vqe_energies.append(vqe_result)\n",
        "    print(f\"Interatomic Distance: {np.round(dist, 2)}\",\n",
        "          f\"VQE Result: {vqe_result}\",\n",
        "          f\"Exact Energy: {exact_energies}\")\n",
        "\n",
        "print(\"All energies have been calculated\")"
      ]
    },
    {
      "cell_type": "code",
      "execution_count": 3,
      "metadata": {},
      "outputs": [],
      "source": [
        "from qiskit_aer.noise import NoiseModel, depolarizing_error\n",
        "noise_model = NoiseModel()\n",
        "error = depolarizing_error(0.02, 2)\n",
        "noise_model.add_all_qubit_quantum_error(error, ['cx'])\n",
        "\n",
        "noisy_estimator = AerEstimator(\n",
        "    backend_options={\n",
        "        \"noise_model\": noise_model,\n",
        "    },\n",
        ")"
      ]
    },
    {
      "cell_type": "code",
      "execution_count": null,
      "metadata": {},
      "outputs": [],
      "source": [
        "backend = BasicAer.get_backend(\"statevector_simulator\")\n",
        "distances = np.arange(0.5, 2.5, 0.25)\n",
        "exact_energies = []\n",
        "vqe_energies = []\n",
        "optimizer = SLSQP(maxiter=20)\n",
        "\n",
        "# pylint: disable=undefined-loop-variable\n",
        "for dist in distances:\n",
        "    (qubit_op, num_particles, num_spin_orbitals,\n",
        "     problem, converter) = get_qubit_op(dist)\n",
        "    result = excited_solver(problem, converter)\n",
        "\n",
        "    print(result.total_energies[0],\n",
        "          result.total_energies[1],\n",
        "          result.total_energies[2])\n",
        "\n",
        "    exact_energies.append(result.total_energies)\n",
        "\n",
        "    var_form = UCCSD(\n",
        "        problem.num_spatial_orbitals,\n",
        "        problem.num_particles,\n",
        "        converter,\n",
        "        initial_state=HartreeFock(\n",
        "            problem.num_spatial_orbitals,\n",
        "            problem.num_particles,\n",
        "            converter,\n",
        "        ),\n",
        "    )\n",
        "\n",
        "    estimator = Estimator()\n",
        "    sampler = Sampler()\n",
        "    fidelity = ComputeUncompute(sampler)\n",
        "    betas = [33, 33, 33]\n",
        "\n",
        "    vqe_solver = VQD(Estimator(), fidelity, ansatz=var_form,\n",
        "                     k=3, optimizer=COBYLA(maxiter=100), betas=betas)\n",
        "    vqe_solver.initial_point = [0.0] * var_form.num_parameters\n",
        "\n",
        "    calc = ExcitedStatesEigensolver(converter, vqe_solver)\n",
        "    vqe_result = calc.solve(problem)\n",
        "\n",
        "    print(vqe_result.total_energies[0],\n",
        "          vqe_result.total_energies[1],\n",
        "          vqe_result.total_energies[2])\n",
        "\n",
        "    print()\n",
        "\n",
        "    vqe_energies.append(vqe_result.total_energies)\n",
        "\n",
        "    print(f\"Interatomic Distance: {np.round(dist, 2)}\",\n",
        "          f\"VQE Result: {vqe_result.total_energies}\",\n",
        "          f\"Exact Energy: {result.total_energies}\")\n",
        "\n",
        "print(\"All energies have been calculated\")\n"
      ]
    },
    {
      "cell_type": "code",
      "execution_count": null,
      "metadata": {},
      "outputs": [],
      "source": [
        "plt.figure(figsize=(9, 9))\n",
        "plt.plot(distances, exact_energies, label=[\n",
        "         \"Exact Energy Gs\", \"Exact Energy 1st ES\", \"Exact Energy 2nd ES\"], lw=2)\n",
        "plt.plot(distances, vqe_energies, label=[\n",
        "         \"VQE Energy GS\", \"VQE Energy 1s ES\", \"VQE Energy 2nd ES\"], ls='--')\n",
        "plt.xlabel('Atomic distance (Angstrom)')\n",
        "plt.ylabel('Energy')\n",
        "plt.legend()\n",
        "plt.show()\n"
      ]
    },
    {
      "cell_type": "code",
      "execution_count": null,
      "metadata": {},
      "outputs": [],
      "source": [
        "plt.figure(figsize=(9, 9))\n",
        "plt.plot(distances, np.abs(np.array(exact_energies)-np.array(vqe_energies)), label=[\n",
        "         \"Energy Difference Gs\", \"Energy Difference 1st ES\", \"Energy Difference 2nd ES\"], lw=2)\n",
        "plt.xlabel('Atomic distance (Angstrom)')\n",
        "plt.ylabel('Energy')\n",
        "plt.legend()\n",
        "plt.show()\n"
      ]
    },
    {
      "cell_type": "code",
      "execution_count": null,
      "metadata": {},
      "outputs": [],
      "source": [
        "dist = 1.56\n",
        "(qubit_op, num_particles, num_spin_orbitals,\n",
        "                            problem, converter) = get_qubit_op(dist)\n",
        "result = excited_solver(problem,converter, k=2)"
      ]
    },
    {
      "cell_type": "code",
      "execution_count": 17,
      "metadata": {},
      "outputs": [
        {
          "name": "stdout",
          "output_type": "stream",
          "text": [
            "[-7.8496324  -7.51632562]\n",
            "[-7.39910176 -6.39756446]\n",
            "[-6.95180018 -6.65375505]\n",
            "[-6.27648332 -6.25359786]\n",
            "[-6.36859075 -6.26028786]\n",
            "[-6.22889488 -6.04089753]\n",
            "[-6.35963622 -6.28763931]\n",
            "[-5.95525661 -5.95890253]\n"
          ]
        }
      ],
      "source": [
        "res = []\n",
        "for r in [1, 2, 3, 4]:\n",
        "    aux = []\n",
        "    for ent in ['linear', 'circular']:\n",
        "        var_form = TwoLocal(problem.num_spin_orbitals, rotation_blocks=[\n",
        "                            'rx', 'rz', 'rx'], entanglement_blocks=['cx'], entanglement=ent, reps=r)\n",
        "\n",
        "\n",
        "        sampler = Sampler()\n",
        "        fidelity = ComputeUncompute(sampler)\n",
        "        betas = [33, 33, 33]\n",
        "\n",
        "        vqe_solver = VQD(noisy_estimator, fidelity, ansatz=var_form, k=2, optimizer= COBYLA(maxiter=100), betas=betas)\n",
        "\n",
        "        calc = ExcitedStatesEigensolver(converter, vqe_solver)\n",
        "        vqe_result = calc.solve(problem) \n",
        "        print(vqe_result.total_energies)\n",
        "        aux.append(vqe_result.total_energies)\n",
        "    res.append(aux)\n"
      ]
    },
    {
      "cell_type": "code",
      "execution_count": 37,
      "metadata": {},
      "outputs": [
        {
          "data": {
            "image/png": "[encoded data removed]",
            "text/plain": [
              "<Figure size 648x648 with 1 Axes>"
            ]
          },
          "metadata": {
            "needs_background": "light"
          },
          "output_type": "display_data"
        }
      ],
      "source": [
        "distances = [1, 2, 3, 4]\n",
        "\n",
        "plt.figure(figsize=(9, 9))\n",
        "plt.plot(distances, [result.total_energies[0]] * len(distances), label=\n",
        "         \"Exact Energy Gs\", ls='-')\n",
        "plt.plot(distances, [res[i][0][0] for i in range(len(distances))], label=\n",
        "         \"VQE Energy GS linear ansatz\", ls='-')\n",
        "plt.plot(distances, [res[i][1][0] for i in range(len(distances))], label=\n",
        "         \"VQE Energy GS circular ansatz\", ls='-')\n",
        "\n",
        "\n",
        "plt.plot(distances, [result.total_energies[1]] *\n",
        "         len(distances), label=\"Exact 1st Excited state\", ls='--')\n",
        "plt.plot(distances, [res[i][0][1] for i in range(\n",
        "    len(distances))], label=\"VQE  1st Excited state linear ansatz\", ls='--')\n",
        "plt.plot(distances, [res[i][1][1] for i in range(\n",
        "    len(distances))], label=\"VQE  1st Excited state circular ansatz\", ls='--')\n",
        "\n",
        "plt.xlabel('number of layers')\n",
        "plt.ylabel('Energy')\n",
        "plt.legend()\n",
        "plt.show()\n"
      ]
    },
    {
      "cell_type": "code",
      "execution_count": 15,
      "metadata": {},
      "outputs": [
        {
          "name": "stdout",
          "output_type": "stream",
          "text": [
            "[-6.0384688  -6.00880878]\n",
            "[-7.88251126 -7.74697718]\n"
          ]
        }
      ],
      "source": [
        "print(vqe_result.total_energies)\n",
        "print(result.total_energies)"
      ]
    },
    {
      "cell_type": "markdown",
      "metadata": {
        "id": "qyPWUSto7as0"
      },
      "source": [
        "## 2.2 - Spectrum as function of the bond length\n",
        "\n",
        "Compute the the GS and the first two excited states energies as function of the bond length.\n",
        "Consider bond lengths in a range of $0.5~\\unicode{x212B}$ and $2.5~\\unicode{x212B}$ in intervals of $0.25~\\unicode{x212B}$.\n",
        "\n",
        "Compare the exact energies with those obtained through variational methods.\n",
        "\n",
        "### Compute the energy of the GS and the next two excited states as function of the bond length. Can you (roughly) identify a candidate for the equilibrium bond length of the molecule?"
      ]
    },
    {
      "cell_type": "code",
      "execution_count": null,
      "metadata": {
        "id": "IHIUxzQUhQJj"
      },
      "outputs": [],
      "source": []
    },
    {
      "cell_type": "markdown",
      "metadata": {
        "id": "9A6X1nisD941"
      },
      "source": [
        "## 2.3 - Imperfect devices\n",
        "\n",
        "In the current noisy intermediate-scale quantum (NISQ) devices, the operations are imperfect and the errors accumulate along the execution of the circuit.\n",
        "In particular, two-qubit operations, such as the CNOT, have the highest errors.\n",
        "\n",
        "Here, we consider a more realistic scenario in which we simulate noisy two-qubit gates.\n",
        "Create a noise model considering an error rate of $0.02$ in CNOT operations.\n",
        "See the example code below:\n",
        "\n",
        "```python\n",
        "from qiskit_aer.noise import NoiseModel, depolarizing_error\n",
        "noise_model = NoiseModel()\n",
        "error = depolarizing_error(0.02, 2)\n",
        "noise_model.add_all_qubit_quantum_error(error, ['cx'])\n",
        "```\n",
        "\n",
        "Compute the GS and first excited state energies as function of the bond length with the noisy simulation and compare it with the exact values.\n",
        "\n",
        "Large circuits with many entangling gates will accumulate many errors, damaging the performance.\n",
        "Try different ansatze to find the best trade-off between expressivity and errors (even if they do not preserve the particle number).\n",
        "You can also use other Hamiltonian mappings that may be more convenient for the task.\n",
        "\n",
        "Report the best results you find and briefly describe your findings (what worked best and what did not).\n",
        "\n",
        "### Compute the GS and first excited state energies as function of the bond length in the noisy simulation."
      ]
    },
    {
      "cell_type": "code",
      "execution_count": null,
      "metadata": {
        "id": "BFGnvIHihQMW"
      },
      "outputs": [],
      "source": []
    },
    {
      "cell_type": "markdown",
      "metadata": {
        "id": "9K0gCJHDhQbK"
      },
      "source": [
        "_Knowing the electronic properties of the shell, you've managed to stabilize it and cool it a bit in the process.\n",
        "This has given you some time to work and find a solution._\n",
        "\n",
        "_We're all slightly less likely to die. Great!_\n",
        "\n",
        "----\n",
        "\n",
        "_With the stabilized shell, you can finally run a scanner and obtain a clear diagnosis of the core.\n",
        "It appears that someone must've momentarily slept on the core moderators, producing a high temperature spike that has caused the LiH from the shell to release hydrogen gas (H$_2$)._\n",
        "\n",
        "_This has ignited a side fusion reaction of the hydrogen, that further raises the temperature, releasing more H$_2$ to the mixture.\n",
        "NOT GOOD!\n",
        "This'll get out of control in a moment.\n",
        "You must deploy the H collectors (if they work) before this gets out of control!_\n",
        "\n",
        "_With the apparent mess, the collector memories have been reset.\n",
        "Given the situation, you feel lucky to even find some functional collectors._ \n",
        "\n",
        "# 3. MASTER THE QUANTUM SIMULATION SHENANIGANS  <a class=\"anchor\" id=\"3\"></a> [[↑]](#0)\n",
        "\n",
        "_Seedis is on a rampage: \"Let's go bois and gals, these collectors won't get fixed by themselves! We just need to load the H$_2$ data to stop the retroalimentation loop.\"_\n",
        "\n",
        "> It's time to test the power of a real quantum computer.\n",
        "In this task you will use an actual quantum computer to find the ground state of the H$_2$ molecule. \n",
        "\n",
        "Using one of the quantum computers from [IBM Quantum](https://quantum-computing.ibm.com/), find the GS energy of the hydrogen molecule H$_2$ for a bond distance of $0.735~\\unicode{x212B}$.\n",
        "Use all the tools at your disposal to obtain the best possible result and try to make the most efficient use of resources through [Qiskit runtime](https://quantum-computing.ibm.com/lab/docs/iql/runtime/).\n",
        "\n",
        "We recommend looking carefully at both runtime (the faster, the more you can experiment) and error sources (self-explanatory!).\n",
        "Here, we provide a few ideas to explore. However, you are not bound to implement any of these, you're completely free to do whatever you want to improve the simulation.\n",
        "\n",
        "Consider:\n",
        "- Looking into the hardware architecture to identify the best qubits to use\n",
        "- Calibrate the qubits with [Qiskit Pulse](https://qiskit.org/textbook/ch-quantum-hardware/calibrating-qubits-pulse.html)\n",
        "- Tailor the ansatz to the hardware\n",
        "- Implement an adaptive algorithm to reduce the ansatz size\n",
        "- Implement error mitigation techniques like [measurement error mitigation](https://qiskit.org/textbook/ch-quantum-hardware/measurement-error-mitigation.html), [randomized compiling](https://qiskit.org/documentation/stable/0.32/stubs/qiskit.ignis.verification.QOTP.html), and [others](https://qiskit.org/documentation/partners/qiskit_ibm_runtime/tutorials/Error-Suppression-and-Error-Mitigation.html)\n",
        "- Parallelize operations and measurements\n",
        "- Explore [dynamic circuit](https://quantum-computing.ibm.com/services/programs/docs/runtime/manage/systems/dynamic-circuits/Introduction-To-Dynamic-Circuits) techniques\n",
        "- Explore more advanced optimization schemes (e.g., [Quantum Natural SPSA](https://qiskit.org/documentation/stubs/qiskit.algorithms.optimizers.QNSPSA.html))"
      ]
    },
    {
      "cell_type": "code",
      "execution_count": 134,
      "metadata": {},
      "outputs": [
        {
          "name": "stderr",
          "output_type": "stream",
          "text": [
            "ibmqfactory.load_account:WARNING:1970-01-06 06:54:36,192: Credentials are already in use. The existing account in the session will be replaced.\n"
          ]
        }
      ],
      "source": [
        "from qiskit import IBMQ\n",
        "from qiskit.visualization import plot_histogram\n",
        "from qiskit import transpile\n",
        "from qiskit_ibm_provider import IBMProvider\n",
        "import math\n",
        "from typing import List, Optional\n",
        "\n",
        "from qiskit import transpile, QuantumCircuit, QuantumRegister, ClassicalRegister\n",
        "from qiskit.result import marginal_counts\n",
        "\n",
        "import warnings\n",
        "warnings.filterwarnings(\"ignore\")\n",
        "\n",
        "pi = math.pi\n",
        "\n",
        "\n",
        "IBMProvider.save_account(\n",
        "    overwrite=True, token='f14275a70ac4f1be11f32e1c7785ffbc5743123501970ec0e12d971d689ede650eacb532793ee63952e57f71a6e73fa1b30d2318868fc7ea58d24784e9e2bdcd')\n",
        "\n",
        "\n",
        "#backend = provider.get_backend('ibmq_16_melbourne')\n",
        "#print('Melbourne machine')\n",
        "#backend = provider.get_backend('ibmq_qasm_simulator')\n",
        "\n",
        "# provider = IBMProvider()\n",
        "\n",
        "\n",
        "# IBMQ.save_account(\n",
        "#     'f14275a70ac4f1be11f32e1c7785ffbc5743123501970ec0e12d971d689ede650eacb532793ee63952e57f71a6e73fa1b30d2318868fc7ea58d24784e9e2bdcd')\n",
        "IBMQ.load_account()\n",
        "\n",
        "hub = \"ibm-q-community\" #\"ibm-q\"  # \"ibm-q-community\"\n",
        "group = \"digiq-icfo-hack\" #'open'  # \"digiq-icfo-hack\"\n",
        "project = \"main\"\n",
        "# provider = IBMQ.get_provider(group=group)\n",
        "\n",
        "\n",
        "backend_name = \"ibmq_jakarta\"  # 7 qubits\n",
        "#backend_name = \"ibmq_guadalupe\" # 16 qubits\n",
        "provider = IBMQ.get_provider(hub=hub, group=group, project=project)\n",
        "\n",
        "\n",
        "backend = provider.get_backend(backend_name)\n",
        "# backend = provider.get_backend(backend_name, instance=f\"{hub}/{group}/{project}\")\n",
        "# <IBMQBackend('ibmq_jakarta') from IBMQ(hub='ibm-q', group='open', project='main') >,\n",
        "\n",
        "shots: int = 1024  # Number of shots to run each circuit for\n",
        "\n",
        "\n"
      ]
    },
    {
      "cell_type": "code",
      "execution_count": 135,
      "metadata": {},
      "outputs": [],
      "source": [
        "from qiskit.algorithms import VQD\n",
        "\n",
        "\n",
        "def get_qubit_op(dist):\n",
        "    molecule = MoleculeInfo(\n",
        "        # Coordinates in Angstrom\n",
        "        symbols=[\"H\", \"H\"],\n",
        "        coords=[\n",
        "            (0.0, 0.0, 0.0),\n",
        "            (dist, 0.0, 0.0)\n",
        "        ],\n",
        "        multiplicity=1,  # = 2*spin + 1\n",
        "        charge=0,\n",
        "    )\n",
        "\n",
        "    driver = PySCFDriver.from_molecule(molecule=molecule, basis=\"sto3g\")\n",
        "\n",
        "    es_problem = driver.run()\n",
        "\n",
        "    transformer = FreezeCoreTransformer(\n",
        "        freeze_core=True, remove_orbitals=[-3, -2])\n",
        "\n",
        "    problem = transformer.transform(es_problem)\n",
        "\n",
        "    num_spin_orbitals = problem.num_spin_orbitals\n",
        "    num_particles = problem.num_particles\n",
        "\n",
        "    mapper = ParityMapper()  # Set Parity Mapper\n",
        "    # mapper = JordanWignerMapper()\n",
        "    hamiltonian = problem.hamiltonian.second_q_op()\n",
        "    # Do two qubit reduction\n",
        "    converter = QubitConverter(mapper, two_qubit_reduction=True)\n",
        "    # reducer = TwoQubitReduction(num_particles)\n",
        "    qubit_op = converter.convert(hamiltonian, num_particles=num_particles)\n",
        "    # qubit_op = reducer.convert(qubit_op)\n",
        "\n",
        "    return qubit_op, num_particles, num_spin_orbitals, problem, converter\n",
        "\n",
        "qubit_op, num_particles, num_spin_orbitals, problem, converter = get_qubit_op(\n",
        "    0.735)\n",
        "\n",
        "var_form = TwoLocal(qubit_op.num_qubits, rotation_blocks=[\n",
        "                    'rx', 'rz', 'rx'], entanglement_blocks=['cx'], entanglement='linear', reps=1)"
      ]
    },
    {
      "cell_type": "code",
      "execution_count": 138,
      "metadata": {},
      "outputs": [],
      "source": [
        "from qiskit_nature.runtime import VQEClient\n",
        "\n",
        "# in this first release, the optimizer must be specified as dictionary\n",
        "\n",
        "\n",
        "initial_point = np.random.random(var_form.num_parameters)\n",
        "runtime_vqe = VQEClient(\n",
        "    ansatz=var_form,\n",
        "    optimizer=COBYLA(maxiter=100),\n",
        "    initial_point=initial_point,\n",
        "    provider=provider,\n",
        "    backend=backend,\n",
        "    shots=1024,\n",
        "    measurement_error_mitigation=True,\n",
        ")  # use a complete measurement fitter for error mitigation\n"
      ]
    },
    {
      "cell_type": "code",
      "execution_count": 139,
      "metadata": {},
      "outputs": [],
      "source": [
        "runtime_vqe_groundstate_solver = GroundStateEigensolver(converter, runtime_vqe)\n",
        "runtime_vqe_result = runtime_vqe_groundstate_solver.solve(problem)\n"
      ]
    },
    {
      "cell_type": "code",
      "execution_count": 83,
      "metadata": {
        "id": "U2y8hsqHoU70"
      },
      "outputs": [],
      "source": [
        "from qiskit.providers.ibmq import IBMQ\n",
        "from qiskit.providers.aer import AerSimulator\n",
        "\n",
        "from qiskit.providers.fake_provider import FakeGuadalupe, FakeGuadalupeV2\n",
        "\n",
        "backend = FakeGuadalupeV2()\n"
      ]
    },
    {
      "cell_type": "code",
      "execution_count": 50,
      "metadata": {},
      "outputs": [],
      "source": [
        "def get_qubit_op(dist):\n",
        "    molecule = MoleculeInfo(\n",
        "        # Coordinates in Angstrom\n",
        "        symbols=[\"H\", \"H\"],\n",
        "        coords=[\n",
        "            (0.0, 0.0, 0.0),\n",
        "            (dist, 0.0, 0.0)\n",
        "        ],\n",
        "        multiplicity=1,  # = 2*spin + 1\n",
        "        charge=0,\n",
        "    )\n",
        "\n",
        "    driver = PySCFDriver.from_molecule(molecule=molecule, basis=\"sto3g\")\n",
        "\n",
        "    es_problem = driver.run()\n",
        "\n",
        "    transformer = FreezeCoreTransformer(\n",
        "        freeze_core=True, remove_orbitals=[-3, -2])\n",
        "\n",
        "    problem = transformer.transform(es_problem)\n",
        "\n",
        "    num_spin_orbitals = problem.num_spin_orbitals\n",
        "    num_particles = problem.num_particles\n",
        "\n",
        "    mapper = ParityMapper()  # Set Parity Mapper\n",
        "    # mapper = JordanWignerMapper()\n",
        "    hamiltonian = problem.hamiltonian.second_q_op()\n",
        "    # Do two qubit reduction\n",
        "    converter = QubitConverter(mapper, two_qubit_reduction=True)\n",
        "    # reducer = TwoQubitReduction(num_particles)\n",
        "    qubit_op = converter.convert(hamiltonian, num_particles=num_particles)\n",
        "    # qubit_op = reducer.convert(qubit_op)\n",
        "\n",
        "    return qubit_op, num_particles, num_spin_orbitals, problem, converter\n"
      ]
    },
    {
      "cell_type": "code",
      "execution_count": 84,
      "metadata": {},
      "outputs": [
        {
          "name": "stderr",
          "output_type": "stream",
          "text": [
            "capi_return is NULL\n",
            "Call-back cb_calcfc_in__cobyla__user__routines failed.\n"
          ]
        },
        {
          "ename": "KeyboardInterrupt",
          "evalue": "",
          "output_type": "error",
          "traceback": [
            "\u001b[0;31m---------------------------------------------------------------------------\u001b[0m",
            "\u001b[0;31mKeyboardInterrupt\u001b[0m                         Traceback (most recent call last)",
            "\u001b[0;32m/tmp/ipykernel_16518/2406994317.py\u001b[0m in \u001b[0;36m<module>\u001b[0;34m\u001b[0m\n\u001b[1;32m     13\u001b[0m                     k=2, optimizer=COBYLA(maxiter=100), betas=betas)\n\u001b[1;32m     14\u001b[0m \u001b[0;34m\u001b[0m\u001b[0m\n\u001b[0;32m---> 15\u001b[0;31m \u001b[0mvqe_result\u001b[0m \u001b[0;34m=\u001b[0m  \u001b[0mvqe_solver\u001b[0m\u001b[0;34m.\u001b[0m\u001b[0mcompute_eigenvalues\u001b[0m\u001b[0;34m(\u001b[0m\u001b[0mqubit_op\u001b[0m\u001b[0;34m)\u001b[0m\u001b[0;34m\u001b[0m\u001b[0;34m\u001b[0m\u001b[0m\n\u001b[0m\u001b[1;32m     16\u001b[0m \u001b[0;31m# print(vqe_result.eigenstates)\u001b[0m\u001b[0;34m\u001b[0m\u001b[0;34m\u001b[0m\u001b[0;34m\u001b[0m\u001b[0m\n",
            "\u001b[0;32m~/.local/lib/python3.9/site-packages/qiskit/algorithms/eigen_solvers/vqd.py\u001b[0m in \u001b[0;36mcompute_eigenvalues\u001b[0;34m(self, operator, aux_operators)\u001b[0m\n\u001b[1;32m    595\u001b[0m                 )\n\u001b[1;32m    596\u001b[0m             \u001b[0;32melse\u001b[0m\u001b[0;34m:\u001b[0m\u001b[0;34m\u001b[0m\u001b[0;34m\u001b[0m\u001b[0m\n\u001b[0;32m--> 597\u001b[0;31m                 opt_result = self.optimizer.minimize(\n\u001b[0m\u001b[1;32m    598\u001b[0m                     \u001b[0mfun\u001b[0m\u001b[0;34m=\u001b[0m\u001b[0menergy_evaluation\u001b[0m\u001b[0;34m,\u001b[0m \u001b[0mx0\u001b[0m\u001b[0;34m=\u001b[0m\u001b[0minitial_point\u001b[0m\u001b[0;34m,\u001b[0m \u001b[0mjac\u001b[0m\u001b[0;34m=\u001b[0m\u001b[0mgradient\u001b[0m\u001b[0;34m,\u001b[0m \u001b[0mbounds\u001b[0m\u001b[0;34m=\u001b[0m\u001b[0mbounds\u001b[0m\u001b[0;34m\u001b[0m\u001b[0;34m\u001b[0m\u001b[0m\n\u001b[1;32m    599\u001b[0m                 )\n",
            "\u001b[0;32m~/.local/lib/python3.9/site-packages/qiskit/algorithms/optimizers/scipy_optimizer.py\u001b[0m in \u001b[0;36mminimize\u001b[0;34m(self, fun, x0, jac, bounds)\u001b[0m\n\u001b[1;32m    146\u001b[0m             \u001b[0mself\u001b[0m\u001b[0;34m.\u001b[0m\u001b[0m_options\u001b[0m\u001b[0;34m[\u001b[0m\u001b[0;34m\"maxfun\"\u001b[0m\u001b[0;34m]\u001b[0m \u001b[0;34m=\u001b[0m \u001b[0mself\u001b[0m\u001b[0;34m.\u001b[0m\u001b[0m_options\u001b[0m\u001b[0;34m.\u001b[0m\u001b[0mpop\u001b[0m\u001b[0;34m(\u001b[0m\u001b[0;34m\"maxiter\"\u001b[0m\u001b[0;34m)\u001b[0m\u001b[0;34m\u001b[0m\u001b[0;34m\u001b[0m\u001b[0m\n\u001b[1;32m    147\u001b[0m \u001b[0;34m\u001b[0m\u001b[0m\n\u001b[0;32m--> 148\u001b[0;31m         raw_result = minimize(\n\u001b[0m\u001b[1;32m    149\u001b[0m             \u001b[0mfun\u001b[0m\u001b[0;34m=\u001b[0m\u001b[0mfun\u001b[0m\u001b[0;34m,\u001b[0m\u001b[0;34m\u001b[0m\u001b[0;34m\u001b[0m\u001b[0m\n\u001b[1;32m    150\u001b[0m             \u001b[0mx0\u001b[0m\u001b[0;34m=\u001b[0m\u001b[0mx0\u001b[0m\u001b[0;34m,\u001b[0m\u001b[0;34m\u001b[0m\u001b[0;34m\u001b[0m\u001b[0m\n",
            "\u001b[0;32m~/.local/lib/python3.9/site-packages/scipy/optimize/_minimize.py\u001b[0m in \u001b[0;36mminimize\u001b[0;34m(fun, x0, args, method, jac, hess, hessp, bounds, constraints, tol, callback, options)\u001b[0m\n\u001b[1;32m    627\u001b[0m                              **options)\n\u001b[1;32m    628\u001b[0m     \u001b[0;32melif\u001b[0m \u001b[0mmeth\u001b[0m \u001b[0;34m==\u001b[0m \u001b[0;34m'cobyla'\u001b[0m\u001b[0;34m:\u001b[0m\u001b[0;34m\u001b[0m\u001b[0;34m\u001b[0m\u001b[0m\n\u001b[0;32m--> 629\u001b[0;31m         \u001b[0;32mreturn\u001b[0m \u001b[0m_minimize_cobyla\u001b[0m\u001b[0;34m(\u001b[0m\u001b[0mfun\u001b[0m\u001b[0;34m,\u001b[0m \u001b[0mx0\u001b[0m\u001b[0;34m,\u001b[0m \u001b[0margs\u001b[0m\u001b[0;34m,\u001b[0m \u001b[0mconstraints\u001b[0m\u001b[0;34m,\u001b[0m \u001b[0;34m**\u001b[0m\u001b[0moptions\u001b[0m\u001b[0;34m)\u001b[0m\u001b[0;34m\u001b[0m\u001b[0;34m\u001b[0m\u001b[0m\n\u001b[0m\u001b[1;32m    630\u001b[0m     \u001b[0;32melif\u001b[0m \u001b[0mmeth\u001b[0m \u001b[0;34m==\u001b[0m \u001b[0;34m'slsqp'\u001b[0m\u001b[0;34m:\u001b[0m\u001b[0;34m\u001b[0m\u001b[0;34m\u001b[0m\u001b[0m\n\u001b[1;32m    631\u001b[0m         return _minimize_slsqp(fun, x0, args, jac, bounds,\n",
            "\u001b[0;32m~/.local/lib/python3.9/site-packages/scipy/optimize/cobyla.py\u001b[0m in \u001b[0;36mwrapper\u001b[0;34m(*args, **kwargs)\u001b[0m\n\u001b[1;32m     32\u001b[0m     \u001b[0;32mdef\u001b[0m \u001b[0mwrapper\u001b[0m\u001b[0;34m(\u001b[0m\u001b[0;34m*\u001b[0m\u001b[0margs\u001b[0m\u001b[0;34m,\u001b[0m \u001b[0;34m**\u001b[0m\u001b[0mkwargs\u001b[0m\u001b[0;34m)\u001b[0m\u001b[0;34m:\u001b[0m\u001b[0;34m\u001b[0m\u001b[0;34m\u001b[0m\u001b[0m\n\u001b[1;32m     33\u001b[0m         \u001b[0;32mwith\u001b[0m \u001b[0m_module_lock\u001b[0m\u001b[0;34m:\u001b[0m\u001b[0;34m\u001b[0m\u001b[0;34m\u001b[0m\u001b[0m\n\u001b[0;32m---> 34\u001b[0;31m             \u001b[0;32mreturn\u001b[0m \u001b[0mfunc\u001b[0m\u001b[0;34m(\u001b[0m\u001b[0;34m*\u001b[0m\u001b[0margs\u001b[0m\u001b[0;34m,\u001b[0m \u001b[0;34m**\u001b[0m\u001b[0mkwargs\u001b[0m\u001b[0;34m)\u001b[0m\u001b[0;34m\u001b[0m\u001b[0;34m\u001b[0m\u001b[0m\n\u001b[0m\u001b[1;32m     35\u001b[0m     \u001b[0;32mreturn\u001b[0m \u001b[0mwrapper\u001b[0m\u001b[0;34m\u001b[0m\u001b[0;34m\u001b[0m\u001b[0m\n\u001b[1;32m     36\u001b[0m \u001b[0;34m\u001b[0m\u001b[0m\n",
            "\u001b[0;32m~/.local/lib/python3.9/site-packages/scipy/optimize/cobyla.py\u001b[0m in \u001b[0;36m_minimize_cobyla\u001b[0;34m(fun, x0, args, constraints, rhobeg, tol, maxiter, disp, catol, **unknown_options)\u001b[0m\n\u001b[1;32m    258\u001b[0m \u001b[0;34m\u001b[0m\u001b[0m\n\u001b[1;32m    259\u001b[0m     \u001b[0minfo\u001b[0m \u001b[0;34m=\u001b[0m \u001b[0mnp\u001b[0m\u001b[0;34m.\u001b[0m\u001b[0mzeros\u001b[0m\u001b[0;34m(\u001b[0m\u001b[0;36m4\u001b[0m\u001b[0;34m,\u001b[0m \u001b[0mnp\u001b[0m\u001b[0;34m.\u001b[0m\u001b[0mfloat64\u001b[0m\u001b[0;34m)\u001b[0m\u001b[0;34m\u001b[0m\u001b[0;34m\u001b[0m\u001b[0m\n\u001b[0;32m--> 260\u001b[0;31m     xopt, info = _cobyla.minimize(calcfc, m=m, x=np.copy(x0), rhobeg=rhobeg,\n\u001b[0m\u001b[1;32m    261\u001b[0m                                   \u001b[0mrhoend\u001b[0m\u001b[0;34m=\u001b[0m\u001b[0mrhoend\u001b[0m\u001b[0;34m,\u001b[0m \u001b[0miprint\u001b[0m\u001b[0;34m=\u001b[0m\u001b[0miprint\u001b[0m\u001b[0;34m,\u001b[0m \u001b[0mmaxfun\u001b[0m\u001b[0;34m=\u001b[0m\u001b[0mmaxfun\u001b[0m\u001b[0;34m,\u001b[0m\u001b[0;34m\u001b[0m\u001b[0;34m\u001b[0m\u001b[0m\n\u001b[1;32m    262\u001b[0m                                   dinfo=info)\n",
            "\u001b[0;32m~/.local/lib/python3.9/site-packages/scipy/optimize/cobyla.py\u001b[0m in \u001b[0;36mcalcfc\u001b[0;34m(x, con)\u001b[0m\n\u001b[1;32m    250\u001b[0m \u001b[0;34m\u001b[0m\u001b[0m\n\u001b[1;32m    251\u001b[0m     \u001b[0;32mdef\u001b[0m \u001b[0mcalcfc\u001b[0m\u001b[0;34m(\u001b[0m\u001b[0mx\u001b[0m\u001b[0;34m,\u001b[0m \u001b[0mcon\u001b[0m\u001b[0;34m)\u001b[0m\u001b[0;34m:\u001b[0m\u001b[0;34m\u001b[0m\u001b[0;34m\u001b[0m\u001b[0m\n\u001b[0;32m--> 252\u001b[0;31m         \u001b[0mf\u001b[0m \u001b[0;34m=\u001b[0m \u001b[0mfun\u001b[0m\u001b[0;34m(\u001b[0m\u001b[0mnp\u001b[0m\u001b[0;34m.\u001b[0m\u001b[0mcopy\u001b[0m\u001b[0;34m(\u001b[0m\u001b[0mx\u001b[0m\u001b[0;34m)\u001b[0m\u001b[0;34m,\u001b[0m \u001b[0;34m*\u001b[0m\u001b[0margs\u001b[0m\u001b[0;34m)\u001b[0m\u001b[0;34m\u001b[0m\u001b[0;34m\u001b[0m\u001b[0m\n\u001b[0m\u001b[1;32m    253\u001b[0m         \u001b[0mi\u001b[0m \u001b[0;34m=\u001b[0m \u001b[0;36m0\u001b[0m\u001b[0;34m\u001b[0m\u001b[0;34m\u001b[0m\u001b[0m\n\u001b[1;32m    254\u001b[0m         \u001b[0;32mfor\u001b[0m \u001b[0msize\u001b[0m\u001b[0;34m,\u001b[0m \u001b[0mc\u001b[0m \u001b[0;32min\u001b[0m \u001b[0mizip\u001b[0m\u001b[0;34m(\u001b[0m\u001b[0mcons_lengths\u001b[0m\u001b[0;34m,\u001b[0m \u001b[0mconstraints\u001b[0m\u001b[0;34m)\u001b[0m\u001b[0;34m:\u001b[0m\u001b[0;34m\u001b[0m\u001b[0;34m\u001b[0m\u001b[0m\n",
            "\u001b[0;32m~/.local/lib/python3.9/site-packages/qiskit/algorithms/eigen_solvers/vqd.py\u001b[0m in \u001b[0;36menergy_evaluation\u001b[0;34m(parameters)\u001b[0m\n\u001b[1;32m    719\u001b[0m             \u001b[0mparam_bindings\u001b[0m \u001b[0;34m=\u001b[0m \u001b[0mdict\u001b[0m\u001b[0;34m(\u001b[0m\u001b[0mzip\u001b[0m\u001b[0;34m(\u001b[0m\u001b[0mansatz_params\u001b[0m\u001b[0;34m,\u001b[0m \u001b[0mparameter_sets\u001b[0m\u001b[0;34m.\u001b[0m\u001b[0mtranspose\u001b[0m\u001b[0;34m(\u001b[0m\u001b[0;34m)\u001b[0m\u001b[0;34m.\u001b[0m\u001b[0mtolist\u001b[0m\u001b[0;34m(\u001b[0m\u001b[0;34m)\u001b[0m\u001b[0;34m)\u001b[0m\u001b[0;34m)\u001b[0m\u001b[0;34m\u001b[0m\u001b[0;34m\u001b[0m\u001b[0m\n\u001b[1;32m    720\u001b[0m \u001b[0;34m\u001b[0m\u001b[0m\n\u001b[0;32m--> 721\u001b[0;31m             \u001b[0msampled_expect_op\u001b[0m \u001b[0;34m=\u001b[0m \u001b[0mself\u001b[0m\u001b[0;34m.\u001b[0m\u001b[0m_circuit_sampler\u001b[0m\u001b[0;34m.\u001b[0m\u001b[0mconvert\u001b[0m\u001b[0;34m(\u001b[0m\u001b[0mexpect_op\u001b[0m\u001b[0;34m,\u001b[0m \u001b[0mparams\u001b[0m\u001b[0;34m=\u001b[0m\u001b[0mparam_bindings\u001b[0m\u001b[0;34m)\u001b[0m\u001b[0;34m\u001b[0m\u001b[0;34m\u001b[0m\u001b[0m\n\u001b[0m\u001b[1;32m    722\u001b[0m             \u001b[0mmeans\u001b[0m \u001b[0;34m=\u001b[0m \u001b[0mnp\u001b[0m\u001b[0;34m.\u001b[0m\u001b[0mreal\u001b[0m\u001b[0;34m(\u001b[0m\u001b[0msampled_expect_op\u001b[0m\u001b[0;34m.\u001b[0m\u001b[0meval\u001b[0m\u001b[0;34m(\u001b[0m\u001b[0;34m)\u001b[0m\u001b[0;34m)\u001b[0m\u001b[0;34m\u001b[0m\u001b[0;34m\u001b[0m\u001b[0m\n\u001b[1;32m    723\u001b[0m \u001b[0;34m\u001b[0m\u001b[0m\n",
            "\u001b[0;32m~/.local/lib/python3.9/site-packages/qiskit/opflow/converters/circuit_sampler.py\u001b[0m in \u001b[0;36mconvert\u001b[0;34m(self, operator, params)\u001b[0m\n\u001b[1;32m    212\u001b[0m         \u001b[0mcircs\u001b[0m \u001b[0;34m=\u001b[0m \u001b[0mlist\u001b[0m\u001b[0;34m(\u001b[0m\u001b[0mself\u001b[0m\u001b[0;34m.\u001b[0m\u001b[0m_circuit_ops_cache\u001b[0m\u001b[0;34m.\u001b[0m\u001b[0mvalues\u001b[0m\u001b[0;34m(\u001b[0m\u001b[0;34m)\u001b[0m\u001b[0;34m)\u001b[0m \u001b[0;32mif\u001b[0m \u001b[0;32mnot\u001b[0m \u001b[0mself\u001b[0m\u001b[0;34m.\u001b[0m\u001b[0m_transpiled_circ_cache\u001b[0m \u001b[0;32melse\u001b[0m \u001b[0;32mNone\u001b[0m\u001b[0;34m\u001b[0m\u001b[0;34m\u001b[0m\u001b[0m\n\u001b[1;32m    213\u001b[0m         \u001b[0mp_b\u001b[0m \u001b[0;34m=\u001b[0m \u001b[0mcast\u001b[0m\u001b[0;34m(\u001b[0m\u001b[0mList\u001b[0m\u001b[0;34m[\u001b[0m\u001b[0mDict\u001b[0m\u001b[0;34m[\u001b[0m\u001b[0mParameter\u001b[0m\u001b[0;34m,\u001b[0m \u001b[0mfloat\u001b[0m\u001b[0;34m]\u001b[0m\u001b[0;34m]\u001b[0m\u001b[0;34m,\u001b[0m \u001b[0mparam_bindings\u001b[0m\u001b[0;34m)\u001b[0m\u001b[0;34m\u001b[0m\u001b[0;34m\u001b[0m\u001b[0m\n\u001b[0;32m--> 214\u001b[0;31m         \u001b[0msampled_statefn_dicts\u001b[0m \u001b[0;34m=\u001b[0m \u001b[0mself\u001b[0m\u001b[0;34m.\u001b[0m\u001b[0msample_circuits\u001b[0m\u001b[0;34m(\u001b[0m\u001b[0mcircuit_sfns\u001b[0m\u001b[0;34m=\u001b[0m\u001b[0mcircs\u001b[0m\u001b[0;34m,\u001b[0m \u001b[0mparam_bindings\u001b[0m\u001b[0;34m=\u001b[0m\u001b[0mp_b\u001b[0m\u001b[0;34m)\u001b[0m\u001b[0;34m\u001b[0m\u001b[0;34m\u001b[0m\u001b[0m\n\u001b[0m\u001b[1;32m    215\u001b[0m \u001b[0;34m\u001b[0m\u001b[0m\n\u001b[1;32m    216\u001b[0m         \u001b[0;32mdef\u001b[0m \u001b[0mreplace_circuits_with_dicts\u001b[0m\u001b[0;34m(\u001b[0m\u001b[0moperator\u001b[0m\u001b[0;34m,\u001b[0m \u001b[0mparam_index\u001b[0m\u001b[0;34m=\u001b[0m\u001b[0;36m0\u001b[0m\u001b[0;34m)\u001b[0m\u001b[0;34m:\u001b[0m\u001b[0;34m\u001b[0m\u001b[0;34m\u001b[0m\u001b[0m\n",
            "\u001b[0;32m~/.local/lib/python3.9/site-packages/qiskit/opflow/converters/circuit_sampler.py\u001b[0m in \u001b[0;36msample_circuits\u001b[0;34m(self, circuit_sfns, param_bindings)\u001b[0m\n\u001b[1;32m    331\u001b[0m             )\n\u001b[1;32m    332\u001b[0m \u001b[0;34m\u001b[0m\u001b[0m\n\u001b[0;32m--> 333\u001b[0;31m         results = self.quantum_instance.execute(\n\u001b[0m\u001b[1;32m    334\u001b[0m             \u001b[0mready_circs\u001b[0m\u001b[0;34m,\u001b[0m \u001b[0mhad_transpiled\u001b[0m\u001b[0;34m=\u001b[0m\u001b[0mself\u001b[0m\u001b[0;34m.\u001b[0m\u001b[0m_transpile_before_bind\u001b[0m\u001b[0;34m\u001b[0m\u001b[0;34m\u001b[0m\u001b[0m\n\u001b[1;32m    335\u001b[0m         )\n",
            "\u001b[0;32m~/.local/lib/python3.9/site-packages/qiskit/utils/quantum_instance.py\u001b[0m in \u001b[0;36mexecute\u001b[0;34m(self, circuits, had_transpiled)\u001b[0m\n\u001b[1;32m    715\u001b[0m \u001b[0;34m\u001b[0m\u001b[0m\n\u001b[1;32m    716\u001b[0m         \u001b[0;32melse\u001b[0m\u001b[0;34m:\u001b[0m\u001b[0;34m\u001b[0m\u001b[0;34m\u001b[0m\u001b[0m\n\u001b[0;32m--> 717\u001b[0;31m             result = run_circuits(\n\u001b[0m\u001b[1;32m    718\u001b[0m                 \u001b[0mcircuits\u001b[0m\u001b[0;34m,\u001b[0m\u001b[0;34m\u001b[0m\u001b[0;34m\u001b[0m\u001b[0m\n\u001b[1;32m    719\u001b[0m                 \u001b[0mself\u001b[0m\u001b[0;34m.\u001b[0m\u001b[0m_backend\u001b[0m\u001b[0;34m,\u001b[0m\u001b[0;34m\u001b[0m\u001b[0;34m\u001b[0m\u001b[0m\n",
            "\u001b[0;32m~/.local/lib/python3.9/site-packages/qiskit/utils/run_circuits.py\u001b[0m in \u001b[0;36mrun_circuits\u001b[0;34m(circuits, backend, qjob_config, backend_options, noise_config, run_config, job_callback, max_job_retries)\u001b[0m\n\u001b[1;32m    281\u001b[0m         \u001b[0mresults\u001b[0m \u001b[0;34m=\u001b[0m \u001b[0;34m[\u001b[0m\u001b[0;34m]\u001b[0m\u001b[0;34m\u001b[0m\u001b[0;34m\u001b[0m\u001b[0m\n\u001b[1;32m    282\u001b[0m         \u001b[0;32mfor\u001b[0m \u001b[0mjob\u001b[0m \u001b[0;32min\u001b[0m \u001b[0mjobs\u001b[0m\u001b[0;34m:\u001b[0m\u001b[0;34m\u001b[0m\u001b[0;34m\u001b[0m\u001b[0m\n\u001b[0;32m--> 283\u001b[0;31m             \u001b[0mresults\u001b[0m\u001b[0;34m.\u001b[0m\u001b[0mappend\u001b[0m\u001b[0;34m(\u001b[0m\u001b[0mjob\u001b[0m\u001b[0;34m.\u001b[0m\u001b[0mresult\u001b[0m\u001b[0;34m(\u001b[0m\u001b[0;34m)\u001b[0m\u001b[0;34m)\u001b[0m\u001b[0;34m\u001b[0m\u001b[0;34m\u001b[0m\u001b[0m\n\u001b[0m\u001b[1;32m    284\u001b[0m \u001b[0;34m\u001b[0m\u001b[0m\n\u001b[1;32m    285\u001b[0m     \u001b[0mresult\u001b[0m \u001b[0;34m=\u001b[0m \u001b[0m_combine_result_objects\u001b[0m\u001b[0;34m(\u001b[0m\u001b[0mresults\u001b[0m\u001b[0;34m)\u001b[0m \u001b[0;32mif\u001b[0m \u001b[0mresults\u001b[0m \u001b[0;32melse\u001b[0m \u001b[0;32mNone\u001b[0m\u001b[0;34m\u001b[0m\u001b[0;34m\u001b[0m\u001b[0m\n",
            "\u001b[0;32m~/.local/lib/python3.9/site-packages/qiskit_aer/jobs/utils.py\u001b[0m in \u001b[0;36m_wrapper\u001b[0;34m(self, *args, **kwargs)\u001b[0m\n\u001b[1;32m     39\u001b[0m         \u001b[0;32mif\u001b[0m \u001b[0mself\u001b[0m\u001b[0;34m.\u001b[0m\u001b[0m_future\u001b[0m \u001b[0;32mis\u001b[0m \u001b[0;32mNone\u001b[0m\u001b[0;34m:\u001b[0m\u001b[0;34m\u001b[0m\u001b[0;34m\u001b[0m\u001b[0m\n\u001b[1;32m     40\u001b[0m             \u001b[0;32mraise\u001b[0m \u001b[0mJobError\u001b[0m\u001b[0;34m(\u001b[0m\u001b[0;34m\"Job not submitted yet!. You have to .submit() first!\"\u001b[0m\u001b[0;34m)\u001b[0m\u001b[0;34m\u001b[0m\u001b[0;34m\u001b[0m\u001b[0m\n\u001b[0;32m---> 41\u001b[0;31m         \u001b[0;32mreturn\u001b[0m \u001b[0mfunc\u001b[0m\u001b[0;34m(\u001b[0m\u001b[0mself\u001b[0m\u001b[0;34m,\u001b[0m \u001b[0;34m*\u001b[0m\u001b[0margs\u001b[0m\u001b[0;34m,\u001b[0m \u001b[0;34m**\u001b[0m\u001b[0mkwargs\u001b[0m\u001b[0;34m)\u001b[0m\u001b[0;34m\u001b[0m\u001b[0;34m\u001b[0m\u001b[0m\n\u001b[0m\u001b[1;32m     42\u001b[0m     \u001b[0;32mreturn\u001b[0m \u001b[0m_wrapper\u001b[0m\u001b[0;34m\u001b[0m\u001b[0;34m\u001b[0m\u001b[0m\n\u001b[1;32m     43\u001b[0m \u001b[0;34m\u001b[0m\u001b[0m\n",
            "\u001b[0;32m~/.local/lib/python3.9/site-packages/qiskit_aer/jobs/aerjob.py\u001b[0m in \u001b[0;36mresult\u001b[0;34m(self, timeout)\u001b[0m\n\u001b[1;32m    104\u001b[0m             \u001b[0mconcurrent\u001b[0m\u001b[0;34m.\u001b[0m\u001b[0mfutures\u001b[0m\u001b[0;34m.\u001b[0m\u001b[0mCancelledError\u001b[0m\u001b[0;34m:\u001b[0m \u001b[0;32mif\u001b[0m \u001b[0mjob\u001b[0m \u001b[0mcancelled\u001b[0m \u001b[0mbefore\u001b[0m \u001b[0mcompleted\u001b[0m\u001b[0;34m.\u001b[0m\u001b[0;34m\u001b[0m\u001b[0;34m\u001b[0m\u001b[0m\n\u001b[1;32m    105\u001b[0m         \"\"\"\n\u001b[0;32m--> 106\u001b[0;31m         \u001b[0;32mreturn\u001b[0m \u001b[0mself\u001b[0m\u001b[0;34m.\u001b[0m\u001b[0m_future\u001b[0m\u001b[0;34m.\u001b[0m\u001b[0mresult\u001b[0m\u001b[0;34m(\u001b[0m\u001b[0mtimeout\u001b[0m\u001b[0;34m=\u001b[0m\u001b[0mtimeout\u001b[0m\u001b[0;34m)\u001b[0m\u001b[0;34m\u001b[0m\u001b[0;34m\u001b[0m\u001b[0m\n\u001b[0m\u001b[1;32m    107\u001b[0m \u001b[0;34m\u001b[0m\u001b[0m\n\u001b[1;32m    108\u001b[0m     \u001b[0;34m@\u001b[0m\u001b[0mrequires_submit\u001b[0m\u001b[0;34m\u001b[0m\u001b[0;34m\u001b[0m\u001b[0m\n",
            "\u001b[0;32m/usr/lib/python3.9/concurrent/futures/_base.py\u001b[0m in \u001b[0;36mresult\u001b[0;34m(self, timeout)\u001b[0m\n\u001b[1;32m    438\u001b[0m                     \u001b[0;32mreturn\u001b[0m \u001b[0mself\u001b[0m\u001b[0;34m.\u001b[0m\u001b[0m__get_result\u001b[0m\u001b[0;34m(\u001b[0m\u001b[0;34m)\u001b[0m\u001b[0;34m\u001b[0m\u001b[0;34m\u001b[0m\u001b[0m\n\u001b[1;32m    439\u001b[0m \u001b[0;34m\u001b[0m\u001b[0m\n\u001b[0;32m--> 440\u001b[0;31m                 \u001b[0mself\u001b[0m\u001b[0;34m.\u001b[0m\u001b[0m_condition\u001b[0m\u001b[0;34m.\u001b[0m\u001b[0mwait\u001b[0m\u001b[0;34m(\u001b[0m\u001b[0mtimeout\u001b[0m\u001b[0;34m)\u001b[0m\u001b[0;34m\u001b[0m\u001b[0;34m\u001b[0m\u001b[0m\n\u001b[0m\u001b[1;32m    441\u001b[0m \u001b[0;34m\u001b[0m\u001b[0m\n\u001b[1;32m    442\u001b[0m                 \u001b[0;32mif\u001b[0m \u001b[0mself\u001b[0m\u001b[0;34m.\u001b[0m\u001b[0m_state\u001b[0m \u001b[0;32min\u001b[0m \u001b[0;34m[\u001b[0m\u001b[0mCANCELLED\u001b[0m\u001b[0;34m,\u001b[0m \u001b[0mCANCELLED_AND_NOTIFIED\u001b[0m\u001b[0;34m]\u001b[0m\u001b[0;34m:\u001b[0m\u001b[0;34m\u001b[0m\u001b[0;34m\u001b[0m\u001b[0m\n",
            "\u001b[0;32m/usr/lib/python3.9/threading.py\u001b[0m in \u001b[0;36mwait\u001b[0;34m(self, timeout)\u001b[0m\n\u001b[1;32m    310\u001b[0m         \u001b[0;32mtry\u001b[0m\u001b[0;34m:\u001b[0m    \u001b[0;31m# restore state no matter what (e.g., KeyboardInterrupt)\u001b[0m\u001b[0;34m\u001b[0m\u001b[0;34m\u001b[0m\u001b[0m\n\u001b[1;32m    311\u001b[0m             \u001b[0;32mif\u001b[0m \u001b[0mtimeout\u001b[0m \u001b[0;32mis\u001b[0m \u001b[0;32mNone\u001b[0m\u001b[0;34m:\u001b[0m\u001b[0;34m\u001b[0m\u001b[0;34m\u001b[0m\u001b[0m\n\u001b[0;32m--> 312\u001b[0;31m                 \u001b[0mwaiter\u001b[0m\u001b[0;34m.\u001b[0m\u001b[0macquire\u001b[0m\u001b[0;34m(\u001b[0m\u001b[0;34m)\u001b[0m\u001b[0;34m\u001b[0m\u001b[0;34m\u001b[0m\u001b[0m\n\u001b[0m\u001b[1;32m    313\u001b[0m                 \u001b[0mgotit\u001b[0m \u001b[0;34m=\u001b[0m \u001b[0;32mTrue\u001b[0m\u001b[0;34m\u001b[0m\u001b[0;34m\u001b[0m\u001b[0m\n\u001b[1;32m    314\u001b[0m             \u001b[0;32melse\u001b[0m\u001b[0;34m:\u001b[0m\u001b[0;34m\u001b[0m\u001b[0;34m\u001b[0m\u001b[0m\n",
            "\u001b[0;31mKeyboardInterrupt\u001b[0m: "
          ]
        }
      ],
      "source": [
        "from qiskit.algorithms import VQD\n",
        "\n",
        "qubit_op, num_particles, num_spin_orbitals, problem, converter=get_qubit_op(dist)\n",
        "\n",
        "var_form = TwoLocal(problem.num_spin_orbitals, rotation_blocks=[\n",
        "                    'rx', 'rz', 'rx'], entanglement_blocks=['cx'], entanglement='linear', reps=1)\n",
        "\n",
        "sampler = Sampler()\n",
        "fidelity = ComputeUncompute(sampler)\n",
        "betas = [33, 33, 33]\n",
        "\n",
        "vqe_solver = VQD(quantum_instance=backend, ansatz=var_form,\n",
        "                    k=2, optimizer=COBYLA(maxiter=100), betas=betas)\n",
        "\n",
        "vqe_result =  vqe_solver.compute_eigenvalues(qubit_op)\n",
        "# print(vqe_result.eigenstates)"
      ]
    },
    {
      "cell_type": "code",
      "execution_count": 58,
      "metadata": {},
      "outputs": [
        {
          "name": "stdout",
          "output_type": "stream",
          "text": [
            "[-0.98902217 -0.43102349]\n",
            "[-1.29422388 -0.84900335]\n"
          ]
        }
      ],
      "source": [
        "result = excited_solver(problem, converter, k=2)\n",
        "print(result.total_energies)\n",
        "print(vqe_result.eigenvalues.real)\n"
      ]
    },
    {
      "cell_type": "code",
      "execution_count": 66,
      "metadata": {},
      "outputs": [
        {
          "data": {
            "text/html": [
              "<pre style=\"word-wrap: normal;white-space: pre;background: #fff0;line-height: 1.1;font-family: &quot;Courier New&quot;,Courier,monospace\">     ┌──────────┐┌──────────┐┌──────────┐     ┌──────────┐┌──────────┐»\n",
              "q_0: ┤ Rx(θ[0]) ├┤ Rz(θ[2]) ├┤ Rx(θ[4]) ├──■──┤ Rx(θ[6]) ├┤ Rz(θ[8]) ├»\n",
              "     ├──────────┤├──────────┤├──────────┤┌─┴─┐├──────────┤├──────────┤»\n",
              "q_1: ┤ Rx(θ[1]) ├┤ Rz(θ[3]) ├┤ Rx(θ[5]) ├┤ X ├┤ Rx(θ[7]) ├┤ Rz(θ[9]) ├»\n",
              "     └──────────┘└──────────┘└──────────┘└───┘└──────────┘└──────────┘»\n",
              "«     ┌───────────┐\n",
              "«q_0: ┤ Rx(θ[10]) ├\n",
              "«     ├───────────┤\n",
              "«q_1: ┤ Rx(θ[11]) ├\n",
              "«     └───────────┘</pre>"
            ],
            "text/plain": [
              "     ┌──────────┐┌──────────┐┌──────────┐     ┌──────────┐┌──────────┐»\n",
              "q_0: ┤ Rx(θ[0]) ├┤ Rz(θ[2]) ├┤ Rx(θ[4]) ├──■──┤ Rx(θ[6]) ├┤ Rz(θ[8]) ├»\n",
              "     ├──────────┤├──────────┤├──────────┤┌─┴─┐├──────────┤├──────────┤»\n",
              "q_1: ┤ Rx(θ[1]) ├┤ Rz(θ[3]) ├┤ Rx(θ[5]) ├┤ X ├┤ Rx(θ[7]) ├┤ Rz(θ[9]) ├»\n",
              "     └──────────┘└──────────┘└──────────┘└───┘└──────────┘└──────────┘»\n",
              "«     ┌───────────┐\n",
              "«q_0: ┤ Rx(θ[10]) ├\n",
              "«     ├───────────┤\n",
              "«q_1: ┤ Rx(θ[11]) ├\n",
              "«     └───────────┘"
            ]
          },
          "execution_count": 66,
          "metadata": {},
          "output_type": "execute_result"
        }
      ],
      "source": [
        "var_form.decompose().draw()"
      ]
    },
    {
      "cell_type": "code",
      "execution_count": 86,
      "metadata": {},
      "outputs": [
        {
          "data": {
            "image/png": "[encoded data removed]",
            "text/plain": [
              "<Figure size 360x360 with 1 Axes>"
            ]
          },
          "execution_count": 86,
          "metadata": {},
          "output_type": "execute_result"
        }
      ],
      "source": [
        "from qiskit import transpile\n",
        "from qiskit.visualization import plot_circuit_layout\n",
        "\n",
        "transpiled_circuit = transpile(\n",
        "    var_form.decompose(), backend, optimization_level=1, initial_layout=[8,9])\n",
        "plot_circuit_layout(transpiled_circuit, backend)\n",
        "# print()\n",
        "# transpiled_circuit.draw()\n"
      ]
    },
    {
      "cell_type": "markdown",
      "metadata": {
        "id": "0Kn1uRy5fKlC"
      },
      "source": [
        "## Bonus: an extra atom\n",
        "\n",
        "If you consider that you have obtained a competitive result for H$_2$, you can tackle the H$_3^+$ molecule. It has the same number of electrons, but you will have to consider more orbitals (which requires more qubits).\n",
        "\n",
        "The three hydrogen atoms form an equilater triangle with bond length $0.986~\\unicode{x212B}$."
      ]
    },
    {
      "cell_type": "code",
      "execution_count": null,
      "metadata": {
        "id": "d3AZw972fMZ_"
      },
      "outputs": [],
      "source": []
    },
    {
      "cell_type": "markdown",
      "metadata": {
        "id": "8KT-Vk91AzTv"
      },
      "source": [
        "_You upload the simulation results to the few functional collectors.\n",
        "With more faith than expectations, you deploy them to clear the core chamber hoping they will collect enough H$_2$ before they fry._\n",
        "\n",
        "_Alea iacta est._\n",
        "\n",
        "_This gives you a brief moment to think about the possible outcomes.\n",
        "It does not look good, and you look into your teamates eyes.\n",
        "You feel pure respect and joy to be in such an amazing unit._\n",
        "\n",
        "_The last collector is down.\n",
        "Your heart stops for a moment, right before you see the temperature starting to drop.\n",
        "You did it!\n",
        "Well, technically you still need to stabilize the core, but the biggest threat has been neutralized.\n",
        "The rest is just a rutinary protocol._\n",
        "\n",
        "_Congratulations!\n",
        "You should all be proud of your hard work during this intense weekend.\n",
        "It surely was an entertaining crisis to handle!_\n",
        "\n",
        "## REFERENCES <a class=\"anchor\" id=\"REF\"></a> [[↑]](#0)\n",
        "\n",
        "[1] Franchini, Fabio. An introduction to integrable techniques for one-dimensional quantum systems. Vol. 940. Cham: Springer International Publishing, 2017. ([url](https://arxiv.org/abs/1609.02100))\n",
        "\n",
        "[2] Kandala, Abhinav, et al. \"Hardware-efficient variational quantum eigensolver for small molecules and quantum magnets.\" Nature 549.7671 (2017): 242-246. ([url](https://arxiv.org/abs/1704.05018))\n",
        "\n",
        "[3] Higgott, Oscar, Daochen Wang, and Stephen Brierley. \"Variational quantum computation of excited states.\" Quantum 3 (2019): 156. ([url](https://quantum-journal.org/papers/q-2019-07-01-156/))"
      ]
    }
  ],
  "metadata": {
    "colab": {
      "provenance": []
    },
    "kernelspec": {
      "display_name": "Python 3",
      "name": "python3"
    },
    "language_info": {
      "codemirror_mode": {
        "name": "ipython",
        "version": 3
      },
      "file_extension": ".py",
      "mimetype": "text/x-python",
      "name": "python",
      "nbconvert_exporter": "python",
      "pygments_lexer": "ipython3",
      "version": "3.9.5"
    }
  },
  "nbformat": 4,
  "nbformat_minor": 0
}
