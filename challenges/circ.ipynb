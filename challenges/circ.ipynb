{
 "cells": [
  {
   "cell_type": "code",
   "execution_count": 26,
   "metadata": {},
   "outputs": [
    {
     "ename": "AttributeError",
     "evalue": "'Operator' object has no attribute 'primitive_strings'",
     "output_type": "error",
     "traceback": [
      "\u001b[1;31m---------------------------------------------------------------------------\u001b[0m",
      "\u001b[1;31mAttributeError\u001b[0m                            Traceback (most recent call last)",
      "Cell \u001b[1;32mIn[26], line 47\u001b[0m\n\u001b[0;32m     44\u001b[0m operatorz \u001b[39m=\u001b[39m Operator(Pauli(\u001b[39m'\u001b[39m\u001b[39mZZIIIIIIIIII\u001b[39m\u001b[39m'\u001b[39m))\u001b[39m+\u001b[39mOperator(Pauli(\u001b[39m'\u001b[39m\u001b[39mIZZIIIIIIIII\u001b[39m\u001b[39m'\u001b[39m))\u001b[39m+\u001b[39mOperator(Pauli(\u001b[39m'\u001b[39m\u001b[39mIIZZIIIIIIII\u001b[39m\u001b[39m'\u001b[39m))\u001b[39m+\u001b[39mOperator(Pauli(\u001b[39m'\u001b[39m\u001b[39mIIIZZIIIIIII\u001b[39m\u001b[39m'\u001b[39m))\u001b[39m+\u001b[39mOperator(Pauli(\u001b[39m'\u001b[39m\u001b[39mIIIIZZIIIIII\u001b[39m\u001b[39m'\u001b[39m))\u001b[39m+\u001b[39mOperator(Pauli(\u001b[39m'\u001b[39m\u001b[39mIIIIIZZIIIII\u001b[39m\u001b[39m'\u001b[39m))\u001b[39m+\u001b[39mOperator(Pauli(\u001b[39m'\u001b[39m\u001b[39mIIIIIIZZIIII\u001b[39m\u001b[39m'\u001b[39m))\u001b[39m+\u001b[39mOperator(Pauli(\u001b[39m'\u001b[39m\u001b[39mIIIIIIIZZIII\u001b[39m\u001b[39m'\u001b[39m))\u001b[39m+\u001b[39mOperator(Pauli(\u001b[39m'\u001b[39m\u001b[39mIIIIIIIIZZII\u001b[39m\u001b[39m'\u001b[39m))\u001b[39m+\u001b[39mOperator(Pauli(\u001b[39m'\u001b[39m\u001b[39mIIIIIIIIIZZI\u001b[39m\u001b[39m'\u001b[39m))\u001b[39m+\u001b[39mOperator(Pauli(\u001b[39m'\u001b[39m\u001b[39mIIIIIIIIIIZZ\u001b[39m\u001b[39m'\u001b[39m))\u001b[39m+\u001b[39mOperator(Pauli(\u001b[39m'\u001b[39m\u001b[39mZIIIIIIIIIIZ\u001b[39m\u001b[39m'\u001b[39m))\n\u001b[0;32m     46\u001b[0m operador\u001b[39m=\u001b[39m\u001b[39m-\u001b[39m\u001b[39m1\u001b[39m\u001b[39m/\u001b[39m\u001b[39m4\u001b[39m\u001b[39m*\u001b[39m(operatorx\u001b[39m+\u001b[39moperatory\u001b[39m+\u001b[39mdelta\u001b[39m*\u001b[39moperatorz)\n\u001b[1;32m---> 47\u001b[0m result1 \u001b[39m=\u001b[39m vqe\u001b[39m.\u001b[39;49mcompute_minimum_eigenvalue(operator \u001b[39m=\u001b[39;49m operador)\n\u001b[0;32m     48\u001b[0m \u001b[39mprint\u001b[39m(result1)\n\u001b[0;32m     49\u001b[0m \u001b[39m# vqe = VQE(ansatz_Heisemberg,optimizer = spsa)\u001b[39;00m\n",
      "File \u001b[1;32mc:\\Users\\carlo\\AppData\\Local\\Programs\\Python\\Python310\\lib\\site-packages\\qiskit\\algorithms\\minimum_eigen_solvers\\vqe.py:535\u001b[0m, in \u001b[0;36mVQE.compute_minimum_eigenvalue\u001b[1;34m(self, operator, aux_operators)\u001b[0m\n\u001b[0;32m    532\u001b[0m     gradient \u001b[39m=\u001b[39m \u001b[39mself\u001b[39m\u001b[39m.\u001b[39m_gradient\n\u001b[0;32m    534\u001b[0m \u001b[39mself\u001b[39m\u001b[39m.\u001b[39m_eval_count \u001b[39m=\u001b[39m \u001b[39m0\u001b[39m\n\u001b[1;32m--> 535\u001b[0m energy_evaluation, expectation \u001b[39m=\u001b[39m \u001b[39mself\u001b[39;49m\u001b[39m.\u001b[39;49mget_energy_evaluation(\n\u001b[0;32m    536\u001b[0m     operator, return_expectation\u001b[39m=\u001b[39;49m\u001b[39mTrue\u001b[39;49;00m\n\u001b[0;32m    537\u001b[0m )\n\u001b[0;32m    539\u001b[0m start_time \u001b[39m=\u001b[39m time()\n\u001b[0;32m    541\u001b[0m \u001b[39mif\u001b[39;00m callable(\u001b[39mself\u001b[39m\u001b[39m.\u001b[39moptimizer):\n",
      "File \u001b[1;32mc:\\Users\\carlo\\AppData\\Local\\Programs\\Python\\Python310\\lib\\site-packages\\qiskit\\algorithms\\minimum_eigen_solvers\\vqe.py:610\u001b[0m, in \u001b[0;36mVQE.get_energy_evaluation\u001b[1;34m(self, operator, return_expectation)\u001b[0m\n\u001b[0;32m    607\u001b[0m     \u001b[39mraise\u001b[39;00m \u001b[39mRuntimeError\u001b[39;00m(\u001b[39m\"\u001b[39m\u001b[39mThe ansatz must be parameterized, but has 0 free parameters.\u001b[39m\u001b[39m\"\u001b[39m)\n\u001b[0;32m    609\u001b[0m ansatz_params \u001b[39m=\u001b[39m \u001b[39mself\u001b[39m\u001b[39m.\u001b[39mansatz\u001b[39m.\u001b[39mparameters\n\u001b[1;32m--> 610\u001b[0m expect_op, expectation \u001b[39m=\u001b[39m \u001b[39mself\u001b[39;49m\u001b[39m.\u001b[39;49mconstruct_expectation(\n\u001b[0;32m    611\u001b[0m     ansatz_params, operator, return_expectation\u001b[39m=\u001b[39;49m\u001b[39mTrue\u001b[39;49;00m\n\u001b[0;32m    612\u001b[0m )\n\u001b[0;32m    614\u001b[0m \u001b[39mdef\u001b[39;00m \u001b[39menergy_evaluation\u001b[39m(parameters):\n\u001b[0;32m    615\u001b[0m     parameter_sets \u001b[39m=\u001b[39m np\u001b[39m.\u001b[39mreshape(parameters, (\u001b[39m-\u001b[39m\u001b[39m1\u001b[39m, num_parameters))\n",
      "File \u001b[1;32mc:\\Users\\carlo\\AppData\\Local\\Programs\\Python\\Python310\\lib\\site-packages\\qiskit\\algorithms\\minimum_eigen_solvers\\vqe.py:430\u001b[0m, in \u001b[0;36mVQE.construct_expectation\u001b[1;34m(self, parameter, operator, return_expectation)\u001b[0m\n\u001b[0;32m    428\u001b[0m \u001b[39m# if expectation was never created, try to create one\u001b[39;00m\n\u001b[0;32m    429\u001b[0m \u001b[39mif\u001b[39;00m \u001b[39mself\u001b[39m\u001b[39m.\u001b[39mexpectation \u001b[39mis\u001b[39;00m \u001b[39mNone\u001b[39;00m:\n\u001b[1;32m--> 430\u001b[0m     expectation \u001b[39m=\u001b[39m ExpectationFactory\u001b[39m.\u001b[39;49mbuild(\n\u001b[0;32m    431\u001b[0m         operator\u001b[39m=\u001b[39;49moperator,\n\u001b[0;32m    432\u001b[0m         backend\u001b[39m=\u001b[39;49m\u001b[39mself\u001b[39;49m\u001b[39m.\u001b[39;49mquantum_instance,\n\u001b[0;32m    433\u001b[0m         include_custom\u001b[39m=\u001b[39;49m\u001b[39mself\u001b[39;49m\u001b[39m.\u001b[39;49m_include_custom,\n\u001b[0;32m    434\u001b[0m     )\n\u001b[0;32m    435\u001b[0m \u001b[39melse\u001b[39;00m:\n\u001b[0;32m    436\u001b[0m     expectation \u001b[39m=\u001b[39m \u001b[39mself\u001b[39m\u001b[39m.\u001b[39mexpectation\n",
      "File \u001b[1;32mc:\\Users\\carlo\\AppData\\Local\\Programs\\Python\\Python310\\lib\\site-packages\\qiskit\\opflow\\expectations\\expectation_factory.py:66\u001b[0m, in \u001b[0;36mExpectationFactory.build\u001b[1;34m(operator, backend, include_custom)\u001b[0m\n\u001b[0;32m     63\u001b[0m backend_to_check \u001b[39m=\u001b[39m backend\u001b[39m.\u001b[39mbackend \u001b[39mif\u001b[39;00m \u001b[39misinstance\u001b[39m(backend, QuantumInstance) \u001b[39melse\u001b[39;00m backend\n\u001b[0;32m     65\u001b[0m \u001b[39m# pylint: disable=cyclic-import\u001b[39;00m\n\u001b[1;32m---> 66\u001b[0m primitives \u001b[39m=\u001b[39m operator\u001b[39m.\u001b[39;49mprimitive_strings()\n\u001b[0;32m     67\u001b[0m \u001b[39mif\u001b[39;00m primitives \u001b[39min\u001b[39;00m ({\u001b[39m\"\u001b[39m\u001b[39mPauli\u001b[39m\u001b[39m\"\u001b[39m}, {\u001b[39m\"\u001b[39m\u001b[39mSparsePauliOp\u001b[39m\u001b[39m\"\u001b[39m}):\n\u001b[0;32m     69\u001b[0m     \u001b[39mif\u001b[39;00m backend_to_check \u001b[39mis\u001b[39;00m \u001b[39mNone\u001b[39;00m:\n\u001b[0;32m     70\u001b[0m         \u001b[39m# If user has Aer but didn't specify a backend, use the Aer fast expectation\u001b[39;00m\n",
      "\u001b[1;31mAttributeError\u001b[0m: 'Operator' object has no attribute 'primitive_strings'"
     ]
    }
   ],
   "source": [
    "import matplotlib.pyplot as plt\n",
    "from qiskit.circuit.library import TwoLocal\n",
    "from qiskit import QuantumCircuit\n",
    "from qiskit.visualization import circuit_drawer\n",
    "from qiskit.primitives import Estimator\n",
    "from qiskit.algorithms.optimizers import SPSA\n",
    "from qiskit.algorithms import VQE\n",
    "from qiskit.algorithms.minimum_eigensolvers import NumPyMinimumEigensolver\n",
    "from qiskit.quantum_info.operators import Operator, Pauli\n",
    "from qiskit import Aer\n",
    "from qiskit.utils import QuantumInstance, algorithm_globals\n",
    "\n",
    "\n",
    "# Define the number of qubits and the type of rotations you want to use\n",
    "num_qubits = 12\n",
    "rotation_blocks = [\"rz\"]\n",
    "entanglement_blocks = 'cz'\n",
    "entanglement = 'circular'\n",
    "#full\n",
    "\n",
    "# Define the number of layers for the ansatz\n",
    "num_layers = 3\n",
    "delta = -2\n",
    "\n",
    "# Create the TwoLocal ansatz circuit\n",
    "ansatz_Heisemberg = TwoLocal(\n",
    "    num_qubits,\n",
    "    rotation_blocks=rotation_blocks,\n",
    "    entanglement_blocks=entanglement_blocks,\n",
    "    entanglement=entanglement,\n",
    "    reps=num_layers,\n",
    "    insert_barriers=True\n",
    ")\n",
    "ansatz_Heisemberg.decompose().draw(\"mpl\")\n",
    "spsa = SPSA(maxiter = 10)\n",
    "#estimador = Estimator()\n",
    "seed = 50\n",
    "algorithm_globals.random_seed = seed\n",
    "qi = QuantumInstance(Aer.get_backend('qasm_simulator'))\n",
    "vqe = VQE(ansatz_Heisemberg,optimizer = spsa, quantum_instance = Aer.get_backend('qasm_simulator'),include_custom=True)\n",
    "\n",
    "operatorx = Operator(Pauli('XXIIIIIIIIII'))+Operator(Pauli('IXXIIIIIIIII'))+Operator(Pauli('IIXXIIIIIIII'))+Operator(Pauli('IIIXXIIIIIII'))+Operator(Pauli('IIIIXXIIIIII'))+Operator(Pauli('IIIIIXXIIIII'))+Operator(Pauli('IIIIIIXXIIII'))+Operator(Pauli('IIIIIIIXXIII'))+Operator(Pauli('IIIIIIIIXXII'))+Operator(Pauli('IIIIIIIIIXXI'))+Operator(Pauli('IIIIIIIIIIXX'))+Operator(Pauli('XIIIIIIIIIIX'))\n",
    "operatory = Operator(Pauli('YYIIIIIIIIII'))+Operator(Pauli('IYYIIIIIIIII'))+Operator(Pauli('IIYYIIIIIIII'))+Operator(Pauli('IIIYYIIIIIII'))+Operator(Pauli('IIIIYYIIIIII'))+Operator(Pauli('IIIIIYYIIIII'))+Operator(Pauli('IIIIIIYYIIII'))+Operator(Pauli('IIIIIIIYYIII'))+Operator(Pauli('IIIIIIIIYYII'))+Operator(Pauli('IIIIIIIIIYYI'))+Operator(Pauli('IIIIIIIIIIYY'))+Operator(Pauli('YIIIIIIIIIIY'))\n",
    "operatorz = Operator(Pauli('ZZIIIIIIIIII'))+Operator(Pauli('IZZIIIIIIIII'))+Operator(Pauli('IIZZIIIIIIII'))+Operator(Pauli('IIIZZIIIIIII'))+Operator(Pauli('IIIIZZIIIIII'))+Operator(Pauli('IIIIIZZIIIII'))+Operator(Pauli('IIIIIIZZIIII'))+Operator(Pauli('IIIIIIIZZIII'))+Operator(Pauli('IIIIIIIIZZII'))+Operator(Pauli('IIIIIIIIIZZI'))+Operator(Pauli('IIIIIIIIIIZZ'))+Operator(Pauli('ZIIIIIIIIIIZ'))\n",
    "\n",
    "operador=-1/4*(operatorx+operatory+delta*operatorz)\n",
    "result1 = vqe.compute_minimum_eigenvalue(operator = operador)\n",
    "print(result1)\n",
    "# vqe = VQE(ansatz_Heisemberg,optimizer = spsa)\n",
    "\n"
   ]
  },
  {
   "cell_type": "code",
   "execution_count": null,
   "metadata": {},
   "outputs": [],
   "source": []
  }
 ],
 "metadata": {
  "kernelspec": {
   "display_name": "Python 3",
   "language": "python",
   "name": "python3"
  },
  "language_info": {
   "codemirror_mode": {
    "name": "ipython",
    "version": 3
   },
   "file_extension": ".py",
   "mimetype": "text/x-python",
   "name": "python",
   "nbconvert_exporter": "python",
   "pygments_lexer": "ipython3",
   "version": "3.10.9"
  },
  "orig_nbformat": 4
 },
 "nbformat": 4,
 "nbformat_minor": 2
}
