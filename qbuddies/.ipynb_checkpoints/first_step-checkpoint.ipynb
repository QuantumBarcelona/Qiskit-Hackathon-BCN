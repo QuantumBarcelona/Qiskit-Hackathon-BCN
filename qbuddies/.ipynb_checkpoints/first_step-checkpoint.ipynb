{
 "cells": [
  {
   "cell_type": "code",
   "execution_count": 1,
   "id": "aa7307d5",
   "metadata": {},
   "outputs": [],
   "source": [
    "import numpy as np\n",
    "import matplotlib.pyplot as plt\n",
    "plt.rcParams.update({'font.size': 16}) # enlarge fonts\n",
    "\n",
    "# Import standard qiskit modules \n",
    "from qiskit import QuantumCircuit, QuantumRegister, Aer, transpile\n",
    "from qiskit.visualization import plot_histogram, plot_state_city\n",
    "from qiskit.opflow import I, X, Y, Z\n",
    "from qiskit.circuit.library import HGate, SGate, IGate\n",
    "\n",
    "#For doing exact simulation you can use Statevector (feel free to use something else)\n",
    "from qiskit.quantum_info import Statevector, DensityMatrix, Pauli, Operator\n",
    "import qiskit.quantum_info as qi\n",
    "\n",
    "from numpy import pi"
   ]
  },
  {
   "cell_type": "code",
   "execution_count": 2,
   "id": "81b5cb1d",
   "metadata": {},
   "outputs": [],
   "source": [
    "# helper function to create state vectors easily\n",
    "# indexed from qubit n-1 to qubit 0\n",
    "# i.e. [[1,0], [0,1]] -> |0> on qubit 1, |1> on qubit 0\n",
    "def make_state_vector(vector_list):\n",
    "    ret = normalize(vector_list[0])\n",
    "    for vector in vector_list[1:]:\n",
    "        ret = np.kron(ret, normalize(vector))\n",
    "    return Statevector(ret)\n",
    "\n",
    "def normalize(vector):\n",
    "    if abs(vector[0])**2 + abs(vector[1])**2 == 1:\n",
    "        return vector\n",
    "    else:\n",
    "        mag = np.sqrt(abs(vector[0])**2 + abs(vector[1])**2)\n",
    "        return vector / mag\n",
    "x_pl = [1/np.sqrt(2), 1/np.sqrt(2)]\n",
    "x_mi = [1/np.sqrt(2), -1/np.sqrt(2)]\n",
    "y_pl = [1/np.sqrt(2), 1j/np.sqrt(2)]\n",
    "y_mi = [1/np.sqrt(2), -1j/np.sqrt(2)]\n",
    "z_pl = [1, 0]\n",
    "z_mi = [0, 1]"
   ]
  },
  {
   "cell_type": "markdown",
   "id": "232655fc",
   "metadata": {},
   "source": [
    "# Exact"
   ]
  },
  {
   "cell_type": "code",
   "execution_count": 3,
   "id": "ac1c0249",
   "metadata": {},
   "outputs": [],
   "source": [
    "# hardcoded for this set up: 3 qubit in lower cut\n",
    "state_list = [z_pl, z_mi, x_pl, x_mi, y_pl, y_mi, z_pl, z_mi]\n",
    "\n",
    "c_list = [1/2, 1/2, 1/2, -1/2, 1/2, -1/2, 1/2, -1/2]\n",
    "\n",
    "O_list = [I^X^X, I^X^X, X^X^X, X^X^X, Y^X^X, Y^X^X, Z^X^X, Z^X^X]"
   ]
  },
  {
   "cell_type": "code",
   "execution_count": 4,
   "id": "24c6dcee",
   "metadata": {},
   "outputs": [
    {
     "data": {
      "text/plain": [
       "<qiskit.circuit.instructionset.InstructionSet at 0x20c3c285660>"
      ]
     },
     "execution_count": 4,
     "metadata": {},
     "output_type": "execute_result"
    }
   ],
   "source": [
    "# circuit with no cut\n",
    "qc_no_cut = QuantumCircuit(5)\n",
    "\n",
    "# subcircuits with one cut\n",
    "qc_upper = QuantumCircuit(3)\n",
    "qc_lower = QuantumCircuit(3)\n",
    "\n",
    "qc_no_cut.h([0, 1, 2, 3, 4])\n",
    "qc_no_cut.cnot(0, 4)\n",
    "qc_no_cut.rx(pi/2, [1, 4])\n",
    "qc_no_cut.cnot(0, 3)\n",
    "qc_no_cut.rx(pi/5, 3)\n",
    "qc_no_cut.cnot(3, 1)\n",
    "qc_no_cut.cnot(2, 3)\n",
    "qc_no_cut.rx(pi/2, [0, 1, 2])\n",
    "\n",
    "# decompose original circuit into \"upper\" and \"lower\" subcircuits\n",
    "qc_upper.h([0, 1, 2])\n",
    "qc_upper.cnot(0, 1)\n",
    "qc_upper.rx(pi/2, 1)\n",
    "qc_upper.cnot(0, 2)\n",
    "qc_upper.rx(pi/2, 0)\n",
    "\n",
    "qc_lower.h([1, 2])\n",
    "qc_lower.rx(pi/5, 0)\n",
    "qc_lower.rx(pi/2, 1)\n",
    "qc_lower.cnot(0, 1)\n",
    "qc_lower.rx(pi/2, 1)\n",
    "qc_lower.cnot(2, 0)\n",
    "qc_lower.rx(pi/2, 2)"
   ]
  },
  {
   "cell_type": "code",
   "execution_count": 5,
   "id": "4137fb85",
   "metadata": {},
   "outputs": [
    {
     "data": {
      "image/png": "[encoded data removed]",
      "text/plain": [
       "<Figure size 568.197x325.08 with 1 Axes>"
      ]
     },
     "execution_count": 5,
     "metadata": {},
     "output_type": "execute_result"
    }
   ],
   "source": [
    "qc_no_cut.draw(\"mpl\")"
   ]
  },
  {
   "cell_type": "code",
   "execution_count": 6,
   "id": "95f23641",
   "metadata": {},
   "outputs": [
    {
     "data": {
      "image/png": "[encoded data removed]",
      "text/plain": [
       "<Figure size 387.597x204.68 with 1 Axes>"
      ]
     },
     "execution_count": 6,
     "metadata": {},
     "output_type": "execute_result"
    }
   ],
   "source": [
    "qc_upper.draw(\"mpl\")"
   ]
  },
  {
   "cell_type": "code",
   "execution_count": 7,
   "id": "cdea563b",
   "metadata": {
    "scrolled": true
   },
   "outputs": [
    {
     "data": {
      "image/png": "[encoded data removed]",
      "text/plain": [
       "<Figure size 447.797x204.68 with 1 Axes>"
      ]
     },
     "execution_count": 7,
     "metadata": {},
     "output_type": "execute_result"
    }
   ],
   "source": [
    "qc_lower.draw(\"mpl\")"
   ]
  },
  {
   "cell_type": "code",
   "execution_count": 8,
   "id": "b32e5667",
   "metadata": {},
   "outputs": [],
   "source": [
    "def one_cut(qc_upper, qc_lower, qc_no_cut, init_states):\n",
    "    # hardcoded for 5 qubit, evaluating <X^5>\n",
    "    qubit_states_upper = np.array([init_states[1], init_states[0], init_states[4]], dtype=np.complex128)\n",
    "    qubit_states_lower = np.array([init_states[2], init_states[3], init_states[1]], dtype=np.complex128)\n",
    "\n",
    "    state_no_cut = make_state_vector(init_states)\n",
    "    exp_no_cut = state_no_cut.evolve(qc_no_cut).expectation_value(X^X^X^X^X)\n",
    "\n",
    "    state_upper = make_state_vector(qubit_states_upper).evolve(qc_upper)\n",
    "    exp_cut = 0\n",
    "    for i in range(8):\n",
    "        qubit_states_lower_i = qubit_states_lower\n",
    "        qubit_states_lower_i[-1] = state_list[i]\n",
    "        \n",
    "        state_lower_i = make_state_vector(qubit_states_lower_i).evolve(qc_lower)\n",
    "        exp_cut += c_list[i] * state_upper.expectation_value(O_list[i]) * state_lower_i.expectation_value(X^X^X)\n",
    "        \n",
    "    return exp_no_cut.real, exp_cut.real"
   ]
  },
  {
   "cell_type": "code",
   "execution_count": 9,
   "id": "017784cc",
   "metadata": {},
   "outputs": [
    {
     "name": "stdout",
     "output_type": "stream",
     "text": [
      "<X^5> with no cut: 0.9999999999999998\n",
      "<X^5> with one cut: 0.9999999999999998\n"
     ]
    }
   ],
   "source": [
    "exp_no_cut, exp_cut = one_cut(qc_upper, qc_lower, qc_no_cut, [z_pl, z_pl, z_pl, z_pl, z_pl])\n",
    "print(\"<X^5> with no cut:\", exp_no_cut)\n",
    "print(\"<X^5> with one cut:\", exp_cut)"
   ]
  },
  {
   "cell_type": "markdown",
   "id": "e6fcbfed",
   "metadata": {},
   "source": [
    "- The circuit acts trivially to zero initial state. (after H gates, we have +x state for all qubits which are not affected by CNOT or rotation along x-axis) To verify the cut works in general, we test the expectation values for random initial state and see if values with and without the cut agree with each other."
   ]
  },
  {
   "cell_type": "code",
   "execution_count": 10,
   "id": "587e0f9d",
   "metadata": {},
   "outputs": [],
   "source": [
    "def one_cut_random_test(qc_upper, qc_lower, qc_no_cut, shots = 100):\n",
    "    exp_no_cut_list = list()\n",
    "    exp_cut_list = list()\n",
    "    \n",
    "    for shot in range(shots):\n",
    "        real_parts = np.random.uniform(low = -1, high = 1, size = (5,2))\n",
    "        imag_parts = np.random.uniform(low = -1, high = 1, size = (5,2))\n",
    "        qubit_states = real_parts + 1j * imag_parts\n",
    "        \n",
    "        exp_no_cut, exp_cut = one_cut(qc_upper, qc_lower, qc_no_cut, qubit_states)\n",
    "        \n",
    "        exp_no_cut_list.append(exp_no_cut)\n",
    "        exp_cut_list.append(exp_cut)\n",
    "        \n",
    "    return exp_no_cut_list, exp_cut_list"
   ]
  },
  {
   "cell_type": "code",
   "execution_count": 11,
   "id": "5ca34a90",
   "metadata": {},
   "outputs": [
    {
     "data": {
      "text/plain": [
       "Text(0, 0.5, '<$X^{\\\\otimes5}$>')"
      ]
     },
     "execution_count": 11,
     "metadata": {},
     "output_type": "execute_result"
    },
    {
     "data": {
      "image/png": "[encoded data removed]",
      "text/plain": [
       "<Figure size 432x288 with 1 Axes>"
      ]
     },
     "metadata": {
      "needs_background": "light"
     },
     "output_type": "display_data"
    }
   ],
   "source": [
    "exp_no_cut_list, exp_cut_list = one_cut_random_test(qc_upper, qc_lower, qc_no_cut)\n",
    "\n",
    "trials = range(1,101)\n",
    "plt.scatter(trials, exp_no_cut_list, marker=\"s\", label = \"no cut\")\n",
    "plt.scatter(trials, exp_cut_list, marker=\"x\", label = \"cut\")\n",
    "plt.legend()\n",
    "plt.xlabel(\"trial\")\n",
    "plt.ylabel(r\"<$X^{\\otimes5}$>\")"
   ]
  },
  {
   "cell_type": "markdown",
   "id": "58bd3c8c",
   "metadata": {},
   "source": [
    "# Simulation"
   ]
  },
  {
   "cell_type": "code",
   "execution_count": 18,
   "id": "831a59c9",
   "metadata": {},
   "outputs": [
    {
     "data": {
      "image/png": "[encoded data removed]",
      "text/plain": [
       "<Figure size 504x360 with 1 Axes>"
      ]
     },
     "execution_count": 18,
     "metadata": {},
     "output_type": "execute_result"
    }
   ],
   "source": [
    "simulator = Aer.get_backend('aer_simulator')\n",
    "\n",
    "qubit_states = [z_pl, z_pl, z_pl, z_pl, z_pl]\n",
    "qc_no_cut_hw = QuantumCircuit(5)\n",
    "for i in range(5):\n",
    "    qc_no_cut_hw.initialize(make_state_vector(qubit_states))\n",
    "qc_no_cut_hw.compose(qc_no_cut, inplace=True)\n",
    "qc_no_cut_hw.h([0, 1, 2, 3, 4])\n",
    "qc_no_cut_hw.measure_all()\n",
    "qc_no_cut_hw.draw(\"mpl\")\n",
    "\n",
    "qc_no_cut_hw = transpile(qc_no_cut_hw, simulator)\n",
    "result = simulator.run(qc_no_cut_hw, shots=100000).result()\n",
    "counts = result.get_counts(qc_no_cut_hw)\n",
    "\n",
    "plot_histogram(counts)"
   ]
  },
  {
   "cell_type": "markdown",
   "id": "84ceeaa8",
   "metadata": {},
   "source": [
    "- We expect the qubits to be all in +x states."
   ]
  },
  {
   "cell_type": "code",
   "execution_count": 19,
   "id": "2c021138",
   "metadata": {},
   "outputs": [
    {
     "data": {
      "image/png": "[encoded data removed]",
      "text/plain": [
       "<Figure size 504x360 with 1 Axes>"
      ]
     },
     "execution_count": 19,
     "metadata": {},
     "output_type": "execute_result"
    }
   ],
   "source": [
    "simulator = Aer.get_backend('aer_simulator')\n",
    "qc_no_cut_hw = QuantumCircuit(5)\n",
    "qc_no_cut_hw.initialize(make_state_vector(qubit_states))\n",
    "qc_no_cut_hw.compose(qc_no_cut, inplace=True)\n",
    "qc_no_cut_hw.h(list(range(5)))\n",
    "qc_no_cut_hw.measure_all()\n",
    "qc_no_cut_hw.draw(\"mpl\")\n",
    "\n",
    "qc_no_cut_hw = transpile(qc_no_cut_hw, simulator)\n",
    "result = simulator.run(qc_no_cut_hw, shots=10000).result()\n",
    "counts = result.get_counts(qc_no_cut_hw)\n",
    "\n",
    "plot_histogram(counts)"
   ]
  },
  {
   "cell_type": "markdown",
   "id": "e8e72a28",
   "metadata": {},
   "source": [
    "- Measuring in x-basis we explicitly confirm that the qubits are all in +x state at the output, so <X^5> would be simply +1."
   ]
  },
  {
   "cell_type": "code",
   "execution_count": 20,
   "id": "52f471f1",
   "metadata": {},
   "outputs": [],
   "source": [
    "state_labels = [\"0\", \"1\", \"+\", \"-\", \"l\", \"r\", \"0\", \"1\"]\n",
    "basis_list = [\"Z\", \"Z\", \"X\", \"X\", \"Y\", \"Y\", \"Z\", \"Z\"]\n",
    "\n",
    "upper_count_list = list()\n",
    "lower_count_list = list()\n",
    "\n",
    "qubit_states_upper = np.array([qubit_states[1], qubit_states[0], qubit_states[4]], dtype=np.complex128)\n",
    "qubit_states_lower = np.array([qubit_states[2], qubit_states[3], qubit_states[1]], dtype=np.complex128)\n",
    "\n",
    "for i in range(8):\n",
    "    qc_upper_hw = QuantumCircuit(3)\n",
    "    qc_lower_hw = QuantumCircuit(3)\n",
    "    \n",
    "    qc_upper_hw.initialize(make_state_vector(qubit_states_upper))\n",
    "    qubit_states_lower_i = qubit_states_lower\n",
    "    qubit_states_lower_i[-1] = state_list[i]\n",
    "    qc_lower_hw.initialize(make_state_vector(qubit_states_lower_i))\n",
    "    \n",
    "    qc_lower_hw.compose(qc_lower, inplace=True)\n",
    "    qc_upper_hw.compose(qc_upper, inplace=True)\n",
    "    \n",
    "    qc_upper_hw.h([0, 1])\n",
    "    \n",
    "    if basis_list[i] == \"X\":\n",
    "        qc_upper_hw.h(2)\n",
    "    elif basis_list[i] == \"Y\":\n",
    "        qc_upper_hw.h(2)\n",
    "        qc_upper_hw.sdg(2)\n",
    "        qc_upper_hw.h(2)\n",
    "    else:\n",
    "        pass\n",
    "    \n",
    "    qc_lower_hw.h([0, 1, 2])\n",
    "    \n",
    "    qc_upper_hw.measure_all()\n",
    "    qc_lower_hw.measure_all()\n",
    "\n",
    "    qc_upper_hw = transpile(qc_upper_hw, simulator)\n",
    "    qc_lower_hw = transpile(qc_lower_hw, simulator)\n",
    "\n",
    "    result_upper = simulator.run(qc_upper_hw, shots=10000).result()\n",
    "    result_lower = simulator.run(qc_lower_hw, shots=10000).result()\n",
    "    \n",
    "    upper_count_list.append(result_upper.get_counts(qc_upper_hw))\n",
    "    lower_count_list.append(result_lower.get_counts(qc_lower_hw))"
   ]
  },
  {
   "cell_type": "code",
   "execution_count": 21,
   "id": "743569f1",
   "metadata": {},
   "outputs": [],
   "source": [
    "exp_upper_list = list()\n",
    "exp_lower_list = list()\n",
    "\n",
    "def get_count(count, key):\n",
    "    try:\n",
    "        return count[key]\n",
    "    except:\n",
    "        return 0\n",
    "\n",
    "exp_upper_list.append((get_count(upper_count_list[0], \"000\") - \\\n",
    "                       get_count(upper_count_list[0], \"001\") - \\\n",
    "                       get_count(upper_count_list[0], \"010\") + \\\n",
    "                       get_count(upper_count_list[0], \"011\") + \\\n",
    "                       get_count(upper_count_list[0], \"100\") - \\\n",
    "                       get_count(upper_count_list[0], \"101\") - \\\n",
    "                       get_count(upper_count_list[0], \"110\") + \\\n",
    "                       get_count(upper_count_list[0], \"111\")) / 10000)\n",
    "exp_upper_list.append(exp_upper_list[-1])\n",
    "for i in range(2, 8, 2):\n",
    "    exp_upper_list.append((get_count(upper_count_list[i], \"000\") - \\\n",
    "                           get_count(upper_count_list[i], \"001\") - \\\n",
    "                           get_count(upper_count_list[i], \"010\") + \\\n",
    "                           get_count(upper_count_list[i], \"011\") - \\\n",
    "                           get_count(upper_count_list[i], \"100\") + \\\n",
    "                           get_count(upper_count_list[i], \"101\") + \\\n",
    "                           get_count(upper_count_list[i], \"110\") - \\\n",
    "                           get_count(upper_count_list[i], \"111\")) / 10000)\n",
    "    exp_upper_list.append(exp_upper_list[-1])\n",
    "for i in range(8):\n",
    "    exp_lower_list.append((get_count(lower_count_list[i], \"000\") - \\\n",
    "                           get_count(lower_count_list[i], \"001\") - \\\n",
    "                           get_count(lower_count_list[i], \"010\") + \\\n",
    "                           get_count(lower_count_list[i], \"011\") - \\\n",
    "                           get_count(lower_count_list[i], \"100\") + \\\n",
    "                           get_count(lower_count_list[i], \"101\") + \\\n",
    "                           get_count(lower_count_list[i], \"110\") - \\\n",
    "                           get_count(lower_count_list[i], \"111\")) / 10000)"
   ]
  },
  {
   "cell_type": "code",
   "execution_count": 22,
   "id": "2e4b2446",
   "metadata": {},
   "outputs": [
    {
     "name": "stdout",
     "output_type": "stream",
     "text": [
      "1.0\n"
     ]
    }
   ],
   "source": [
    "exp_cut = 0\n",
    "for i in range(8):\n",
    "    exp_cut += c_list[i] * exp_upper_list[i] * exp_lower_list[i]\n",
    "print(exp_cut)"
   ]
  },
  {
   "cell_type": "code",
   "execution_count": null,
   "id": "ba8adf68",
   "metadata": {},
   "outputs": [],
   "source": []
  }
 ],
 "metadata": {
  "kernelspec": {
   "display_name": "Python 3 (ipykernel)",
   "language": "python",
   "name": "python3"
  },
  "language_info": {
   "codemirror_mode": {
    "name": "ipython",
    "version": 3
   },
   "file_extension": ".py",
   "mimetype": "text/x-python",
   "name": "python",
   "nbconvert_exporter": "python",
   "pygments_lexer": "ipython3",
   "version": "3.10.5"
  }
 },
 "nbformat": 4,
 "nbformat_minor": 5
}
