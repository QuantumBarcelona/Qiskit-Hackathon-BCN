{
 "cells": [
  {
   "attachments": {},
   "cell_type": "markdown",
   "id": "b317dd8e",
   "metadata": {},
   "source": [
    "Inside this Notebook you can find useful information about how to connect to the platform and how to use it."
   ]
  },
  {
   "cell_type": "code",
   "execution_count": null,
   "id": "dafc95e2-3e3a-4b80-b477-8b3d47636b13",
   "metadata": {
    "slideshow": {
     "slide_type": "-"
    },
    "tags": []
   },
   "outputs": [],
   "source": [
    "from typing import List, Optional\n",
    "\n",
    "from qiskit import transpile, QuantumCircuit, QuantumRegister, ClassicalRegister\n",
    "from qiskit.result import marginal_counts\n",
    "\n",
    "import warnings\n",
    "warnings.filterwarnings(\"ignore\")\n",
    "\n",
    "import math\n",
    "pi=math.pi"
   ]
  },
  {
   "cell_type": "code",
   "execution_count": null,
   "id": "6c724be4-1a4b-4377-9609-15d83c7f8264",
   "metadata": {
    "slideshow": {
     "slide_type": "-"
    },
    "tags": []
   },
   "outputs": [],
   "source": [
    "from qiskit_ibm_provider import IBMProvider\n",
    "\n",
    "provider = IBMProvider()\n",
    "\n",
    "\n",
    "hub = \"ibm-q-community\"\n",
    "group = \"digiq-icfo-hack\"\n",
    "project = \"main\"\n",
    "\n",
    "backend_name = \"ibmq_jakarta\" # 7 qubits\n",
    "#backend_name = \"ibmq_guadalupe\t\" # 16 qubits\n",
    "\n",
    "backend = provider.get_backend(backend_name, instance=f\"{hub}/{group}/{project}\")\n",
    "\n",
    "shots: int = 1024 # Number of shots to run each circuit for\n",
    "\n",
    "print(len(backend.properties().qubits))"
   ]
  },
  {
   "cell_type": "code",
   "execution_count": null,
   "id": "9ae375c8-3e5f-48cc-92d6-48a0d399462f",
   "metadata": {
    "slideshow": {
     "slide_type": "-"
    },
    "tags": []
   },
   "outputs": [],
   "source": [
    "\n",
    "from qiskit import transpile\n",
    "\n",
    "\n",
    "\n",
    "initial_layout=[0,1,2,3,4] # optional\n",
    "\n",
    "qc_transpiled = transpile(your_circuit, backend, initial_layout=initial_layout)\n",
    "\n",
    "\n",
    "job = backend.run(qc_transpiled, shots=1024, job_tags=[\"team_name\", \"bcn_hackathon\"])\n",
    "\n",
    "counts = job.result().get_counts()\n",
    "\n",
    "\n",
    "\n"
   ]
  }
 ],
 "metadata": {
  "kernelspec": {
   "display_name": "Python 3 (ipykernel)",
   "language": "python",
   "name": "python3"
  },
  "language_info": {
   "codemirror_mode": {
    "name": "ipython",
    "version": 3
   },
   "file_extension": ".py",
   "mimetype": "text/x-python",
   "name": "python",
   "nbconvert_exporter": "python",
   "pygments_lexer": "ipython3",
   "version": "3.10.8"
  },
  "widgets": {
   "application/vnd.jupyter.widget-state+json": {
    "state": {},
    "version_major": 2,
    "version_minor": 0
   }
  }
 },
 "nbformat": 4,
 "nbformat_minor": 5
}
