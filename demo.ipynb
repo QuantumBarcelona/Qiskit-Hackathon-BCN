{
 "cells": [
  {
   "cell_type": "code",
   "execution_count": 2,
   "metadata": {},
   "outputs": [
    {
     "ename": "AttributeError",
     "evalue": "'Operator' object has no attribute 'draw'",
     "output_type": "error",
     "traceback": [
      "\u001b[0;31m---------------------------------------------------------------------------\u001b[0m",
      "\u001b[0;31mAttributeError\u001b[0m                            Traceback (most recent call last)",
      "Cell \u001b[0;32mIn[2], line 21\u001b[0m\n\u001b[1;32m     19\u001b[0m \u001b[39m# Set up the VQE algorithm\u001b[39;00m\n\u001b[1;32m     20\u001b[0m optimizer \u001b[39m=\u001b[39m COBYLA(maxiter\u001b[39m=\u001b[39m\u001b[39m100\u001b[39m)\n\u001b[0;32m---> 21\u001b[0m vqe \u001b[39m=\u001b[39m VQE(operator, ansatz, optimizer)\n\u001b[1;32m     23\u001b[0m \u001b[39m# Run the VQE algorithm\u001b[39;00m\n\u001b[1;32m     24\u001b[0m backend \u001b[39m=\u001b[39m Aer\u001b[39m.\u001b[39mget_backend(\u001b[39m'\u001b[39m\u001b[39mstatevector_simulator\u001b[39m\u001b[39m'\u001b[39m)\n",
      "File \u001b[0;32m~/miniconda3/envs/qiskit-hackathon/lib/python3.11/site-packages/qiskit/utils/deprecation.py:51\u001b[0m, in \u001b[0;36mdeprecate_function.<locals>.decorator.<locals>.wrapper\u001b[0;34m(*args, **kwargs)\u001b[0m\n\u001b[1;32m     48\u001b[0m \u001b[39m@functools\u001b[39m\u001b[39m.\u001b[39mwraps(func)\n\u001b[1;32m     49\u001b[0m \u001b[39mdef\u001b[39;00m \u001b[39mwrapper\u001b[39m(\u001b[39m*\u001b[39margs, \u001b[39m*\u001b[39m\u001b[39m*\u001b[39mkwargs):\n\u001b[1;32m     50\u001b[0m     warnings\u001b[39m.\u001b[39mwarn(msg, category\u001b[39m=\u001b[39mcategory, stacklevel\u001b[39m=\u001b[39mstacklevel)\n\u001b[0;32m---> 51\u001b[0m     \u001b[39mreturn\u001b[39;00m func(\u001b[39m*\u001b[39;49margs, \u001b[39m*\u001b[39;49m\u001b[39m*\u001b[39;49mkwargs)\n",
      "File \u001b[0;32m~/miniconda3/envs/qiskit-hackathon/lib/python3.11/site-packages/qiskit/algorithms/minimum_eigen_solvers/vqe.py:218\u001b[0m, in \u001b[0;36mVQE.__init__\u001b[0;34m(self, ansatz, optimizer, initial_point, gradient, expectation, include_custom, max_evals_grouped, callback, quantum_instance)\u001b[0m\n\u001b[1;32m    215\u001b[0m \u001b[39mself\u001b[39m\u001b[39m.\u001b[39m_callback \u001b[39m=\u001b[39m \u001b[39mNone\u001b[39;00m\n\u001b[1;32m    216\u001b[0m \u001b[39mself\u001b[39m\u001b[39m.\u001b[39mcallback \u001b[39m=\u001b[39m callback\n\u001b[0;32m--> 218\u001b[0m logger\u001b[39m.\u001b[39minfo(\u001b[39mself\u001b[39;49m\u001b[39m.\u001b[39;49mprint_settings())\n\u001b[1;32m    220\u001b[0m \u001b[39m# TODO remove this once the stateful methods are deleted\u001b[39;00m\n\u001b[1;32m    221\u001b[0m \u001b[39mself\u001b[39m\u001b[39m.\u001b[39m_ret \u001b[39m=\u001b[39m \u001b[39mNone\u001b[39;00m\n",
      "File \u001b[0;32m~/miniconda3/envs/qiskit-hackathon/lib/python3.11/site-packages/qiskit/algorithms/minimum_eigen_solvers/vqe.py:386\u001b[0m, in \u001b[0;36mVQE.print_settings\u001b[0;34m(self)\u001b[0m\n\u001b[1;32m    384\u001b[0m ret \u001b[39m+\u001b[39m\u001b[39m=\u001b[39m \u001b[39m\"\u001b[39m\u001b[39m===============================================================\u001b[39m\u001b[39m\\n\u001b[39;00m\u001b[39m\"\u001b[39m\n\u001b[1;32m    385\u001b[0m \u001b[39mif\u001b[39;00m \u001b[39mself\u001b[39m\u001b[39m.\u001b[39mansatz \u001b[39mis\u001b[39;00m \u001b[39mnot\u001b[39;00m \u001b[39mNone\u001b[39;00m:\n\u001b[0;32m--> 386\u001b[0m     ret \u001b[39m+\u001b[39m\u001b[39m=\u001b[39m \u001b[39m\"\u001b[39m\u001b[39m{}\u001b[39;00m\u001b[39m\"\u001b[39m\u001b[39m.\u001b[39mformat(\u001b[39mself\u001b[39;49m\u001b[39m.\u001b[39;49mansatz\u001b[39m.\u001b[39;49mdraw(output\u001b[39m=\u001b[39m\u001b[39m\"\u001b[39m\u001b[39mtext\u001b[39m\u001b[39m\"\u001b[39m))\n\u001b[1;32m    387\u001b[0m \u001b[39melse\u001b[39;00m:\n\u001b[1;32m    388\u001b[0m     ret \u001b[39m+\u001b[39m\u001b[39m=\u001b[39m \u001b[39m\"\u001b[39m\u001b[39mansatz has not been set\u001b[39m\u001b[39m\"\u001b[39m\n",
      "\u001b[0;31mAttributeError\u001b[0m: 'Operator' object has no attribute 'draw'"
     ]
    }
   ],
   "source": [
    "from qiskit import QuantumCircuit, Aer\n",
    "from qiskit.algorithms.optimizers import COBYLA\n",
    "from qiskit.circuit.library import EfficientSU2\n",
    "from qiskit.algorithms import VQE\n",
    "from qiskit.opflow import X, Y, Z, I\n",
    "from qiskit.opflow import PauliSumOp, PauliOp\n",
    "from qiskit.quantum_info.operators import Operator, Pauli\n",
    "\n",
    "# Create a PauliSumOp object\n",
    "pauli_sum = PauliSumOp.from_list([(\"X\", 0.5), (\"Y\", -0.5), (\"Z\", 0.5)])\n",
    "pauli = pauli_sum.to_matrix()\n",
    "\n",
    "# Convert the PauliSumOp to a PauliOp\n",
    "operator = Operator(pauli)\n",
    "\n",
    "# Choose an ansatz\n",
    "ansatz = EfficientSU2(num_qubits=2, entanglement=\"linear\")\n",
    "\n",
    "# Set up the VQE algorithm\n",
    "optimizer = COBYLA(maxiter=100)\n",
    "vqe = VQE(operator, ansatz, optimizer)\n",
    "\n",
    "# Run the VQE algorithm\n",
    "backend = Aer.get_backend('statevector_simulator')\n",
    "aqua_globals.random_seed = 50\n",
    "result = vqe.run(backend)\n",
    "\n",
    "# Extract the eigenstate\n",
    "state = result['eigenstate']\n",
    "print(state)\n"
   ]
  }
 ],
 "metadata": {
  "kernelspec": {
   "display_name": "qiskit",
   "language": "python",
   "name": "python3"
  },
  "language_info": {
   "codemirror_mode": {
    "name": "ipython",
    "version": 3
   },
   "file_extension": ".py",
   "mimetype": "text/x-python",
   "name": "python",
   "nbconvert_exporter": "python",
   "pygments_lexer": "ipython3",
   "version": "3.11.2"
  },
  "orig_nbformat": 4
 },
 "nbformat": 4,
 "nbformat_minor": 2
}
