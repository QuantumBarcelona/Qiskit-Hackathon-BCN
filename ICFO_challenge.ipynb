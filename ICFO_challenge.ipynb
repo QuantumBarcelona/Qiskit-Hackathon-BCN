{
  "cells": [
    {
      "cell_type": "markdown",
      "metadata": {
        "id": "GWorX0n3gzKz"
      },
      "source": [
        "# ICFO Challenge: QUANTUM SIMULATION WITH QUANTUM COMPUTERS\n",
        "\n",
        "Barcelona, April 1-2, 2023\n",
        "\n",
        "&nbsp;\n",
        "\n",
        "---\n",
        "\n",
        "_Greetings, brave heroes! Welcome to the **Qiskit Hackathon Barcelona**._\n",
        "\n",
        "_Unlike the latest blockbuster on the cinemas right now, the challenges you shall face here are no \"mania\" jokes.\n",
        "The nuclear core in our hidden research facilities is destabilized.\n",
        "Your elite team will venture into the core of our underground advanced lab to deal with this emergency situation (or die trying).\n",
        "We estimate a maximum of 24h before it collapses and the radioactive debris ruin the world's surface.\n",
        "Should you succeed, we'll all be safe and you'll be rewarded with great honour.\n",
        "Should you fail, it'll all be lost!\n",
        "But fear not, as the power of real quantum computers will be at your fingertips, allowing you to run actual lab experiments on remote IBM Q processors.\n",
        "With great teamwork no challenge will remain unbeaten._\n",
        "\n",
        "_The evacuation is nearly complete and most of the big-shots are already heading towards their space shuttles.\n",
        "Yes, this is the dimension of the potential catastrophe. No pressure, though.\n",
        "As you head down the facility, contention gates keep shutting down behind you.\n",
        "At the bottom, you encounter your first challenge: the contention gate leading to the core has already been sealed in what looks like a futile and desperate attempt to contain the disaster._\n",
        "\n",
        "_The breaching expert in the team gets to work.\n",
        "However, bypassing this security gate seems more cumbersome than expected.\n",
        "Just as she seems completely out of options, a wild idea crosses her mind: if you knew the magnetic properties of the security system's board, she would have the perfect tool to alter them and break the gate open._\n",
        "\n",
        "---\n",
        "\n",
        "# CONTENTS <a class=\"anchor\" id=\"0\"></a>\n",
        "\n",
        "* [1. SPINS IN THE GROUND-STATE: THE XXZ HEISENBERG MODEL](#1)\n",
        "* [2. FERMIONS IN EXCITED STATES: THE LITHIUM HYDRATE MOLECULE](#2)\n",
        "* [3. MASTER THE QUANTUM SIMULATION SHENANIGANS](#3)\n",
        "* [REFERENCES](#REF)\n",
        "\n",
        "---\n",
        "\n",
        "# 1. SPINS IN THE GROUND STATE: THE XXZ HEISENBERG MODEL <a class=\"anchor\" id=\"1\"></a> [[↑]](#0)\n",
        "\n",
        "_The quantum physicist in your unit, Seedis, gets to work.\n",
        "He kneels down and opens the heavy backpack he's been carrying.\n",
        "It's an actual quantum computer.\n",
        "\"Let's simulate the hell out of it! What're you lookin' at? Chop chop. There's no time to waste!\"_\n",
        "\n",
        "> In this first task, you will study a spin system, a prototypical problem in condensed matter physics. You will find that spins can manifest different phases and behaviours even when they rest at their ground state.\n",
        "\n",
        "To simulate a quantum system, we need to determine the interactions between the quantum particles that constitute it by defining its Hamiltonian operator.\n",
        "The security system's board contains rings that follow the XXZ Heisenberg model [[Ref.1]](#REF)<a class=\"anchor\" id=\"Ref1\"></a>, given by\n",
        "\n",
        "$$ H_{XXZ} = -\\frac{1}{4}\\sum_{i=1}^N \\sigma_i^x\\sigma_{i+1}^x + \\sigma_i^y\\sigma_{i+1}^y + \\Delta \\, \\sigma_i^z\\sigma_{i+1}^z \\,.$$\n",
        "\n",
        "Here, $N$ is the number of spin-1/2 particles, $\\Delta$ is the anisotropy parameter, and $\\sigma^x_i$, $\\sigma^y_i$, and $\\sigma^z_i$ are Pauli operators, where the subscripts label the qubit they act on.\n",
        "Furthermore, we impose the periodic boundary condition $\\sigma^u_{i+N}=\\sigma^u_{i}$ to make the object rest on a ring shape.\n",
        "Note that only qubits next to each other interact.\n",
        "\n",
        "This model captures a rich range of behaviours throughout its phase diagram.\n",
        "First off, for $\\Delta=1$, the model converges to the isotropic Heisenberg Hamiltonian (XXX), where all the terms have the same coupling strength.\n",
        "As we vary $\\Delta$, the system can be in three phases:\n",
        "\n",
        "- $\\Delta> 1$: the **ferromagnetic** phase, where all spins point in the same direction.\n",
        "- $-1<\\Delta<1$: the **paramagnetic** or critical phase, where the spins are completely disordered.\n",
        "- $\\Delta<-1$: the **anti-ferromagnetic** phase, where neighboring spins are anti-aligned.\n",
        "\n",
        "We consider $N=12$ for all the calculations throughout this task, and vary $\\Delta$ to see different physics.\n",
        "\n",
        "## 1.1 - Ground state energy of the XXZ model\n",
        "\n",
        "Quantum systems can be naturally found in their ground state (GS). \n",
        "Thus, the first step is to learn to prepare GSs with the quantum computer.\n",
        "A prominent approach to do so is through the **Variational Quantum Eigensolver (VQE)** algorithm [[Ref. 2]](#REF)<a class=\"anchor\" id=\"Ref2\"></a>.\n",
        "\n",
        "Interestingly, the energy spectrum of the $H_{XXZ}$ model can be obtained analytically using the _Bethe ansatz_. For $\\Delta>1$, the system is in the _ferromagnetic phase_, in which all the spins in the GS point towards the same direction. This GS energy $\\epsilon_{GS}$ is known to be:\n",
        "\n",
        "$$\\epsilon_{GS}=-N\\frac{\\Delta}{4}\\,.$$"
      ]
    },
    {
      "cell_type": "markdown",
      "metadata": {
        "id": "14OPtZVpp3sR"
      },
      "source": [
        "### Prepare a simple $N$-qubit state to represent a GS wave function in the ferromagnetic phase. Compute its energy taking the expectation value of the Hamiltonian to confirm the theoretical result $\\epsilon_{GS}$ for $\\Delta=4$.\n",
        "\n",
        "> Tip: Qiskit's Heisenberg model implementation already assumes the particles have spin 1/2 and, thus, you do not need to put the 1/4 prefactor in the Hamiltonian definition. Don't forget the sign though!"
      ]
    },
    {
      "cell_type": "code",
      "execution_count": 56,
      "metadata": {},
      "outputs": [],
      "source": [
        "from itertools import repeat\n",
        "from functools import reduce\n",
        "\n",
        "import matplotlib.pyplot as plt\n",
        "import numpy as np\n",
        "\n",
        "from qiskit import QuantumCircuit, BasicAer, Aer\n",
        "from qiskit.opflow import X, Y, Z, I, CircuitStateFn\n",
        "from qiskit.algorithms import VQE\n",
        "from qiskit.algorithms.minimum_eigen_solvers import NumPyMinimumEigensolver\n",
        "from qiskit.algorithms.optimizers import COBYLA, SPSA, SLSQP\n",
        "from qiskit.circuit.library import TwoLocal\n",
        "\n"
      ]
    },
    {
      "cell_type": "code",
      "execution_count": 8,
      "metadata": {
        "id": "lCRlHb4QusQc"
      },
      "outputs": [
        {
          "name": "stdout",
          "output_type": "stream",
          "text": [
            "Expected value - simulation: -12.0\n"
          ]
        }
      ],
      "source": [
        "def heisenberg_model(N, delta):\n",
        "    nI = reduce(lambda a, b: a ^ b, repeat(I, N - 2))\n",
        "    constant = ((X ^ X) + (Y ^ Y) + delta * (Z ^ Z))\n",
        "    \n",
        "    xfinal = X ^ nI ^ X\n",
        "    yfinal = Y ^ nI ^ Y\n",
        "    zfinal = Z ^ nI ^ Z\n",
        "    \n",
        "    H_first = constant ^ nI\n",
        "    H_final = xfinal + yfinal + delta * zfinal \n",
        "    h = H_final + H_first\n",
        "\n",
        "    for i in range(1, N - 1):       \n",
        "        forward  = reduce(lambda a, b: a ^ b, repeat(I, i))\n",
        "        try: \n",
        "            backward = reduce(lambda a, b: a ^ b, repeat(I, N - i - 2))\n",
        "            H_i = forward ^ constant ^ backward\n",
        "        except: \n",
        "            H_i = forward ^ constant\n",
        "        h += H_i\n",
        "    return -.25 * h\n",
        "\n",
        "qc = QuantumCircuit(12)\n",
        "psi = CircuitStateFn(qc)\n",
        "print('Expected value - simulation:', psi.adjoint().compose(heisenberg_model(12, 4)).compose(psi).eval().real)\n"
      ]
    },
    {
      "attachments": {},
      "cell_type": "markdown",
      "metadata": {},
      "source": [
        "#**Answer**: We have used the Opflow class to construct the hamiltonian of the Heisenberg model. We define a function that takes in the number of qubits and the parameter $\\Delta$ to construct the hamiltonian operator. Then, using a quantum circuit, we define a quantum state with all the spins aligned (in the $|0\\rangle$), and then convert it to an operator to compute the expectation value."
      ]
    },
    {
      "cell_type": "markdown",
      "metadata": {
        "id": "JjnnSrRVunsQ"
      },
      "source": [
        "State preparation is not always that straightforward.\n",
        "In the _anti-ferromagmetic phase_ (for $\\Delta<-1$), the GS wave function is more difficult to prepare, as it consists of a non-trivial superposition of the computational basis states.\n",
        "\n",
        "In the VQE algorithm, we use a parameterized circuit to prepare the GS of our Hamiltonian.\n",
        "We start with an initial guess of the circuit parameters and optimize them to minimize the expectation value of the Hamiltonian.\n",
        "This naturally brings us (close) to the GS of the system, as it is, by definition, the state with the lowest energy.\n",
        "\n",
        "Before diving into state preparation with VQE, create a baseline to evaluate the variational results.\n",
        "\n",
        "### Use an exact numerical solver to obtain the GS energy for $\\Delta=-2$"
      ]
    },
    {
      "cell_type": "code",
      "execution_count": 123,
      "metadata": {
        "id": "YC8Yw97eunCD"
      },
      "outputs": [
        {
          "name": "stdout",
          "output_type": "stream",
          "text": [
            "{   'aux_operator_eigenvalues': None,\n",
            "    'eigenstate': VectorStateFn(Statevector([ 8.43059920e-17+5.96420439e-17j,\n",
            "             -1.24185801e-17-1.60191863e-17j,\n",
            "              6.18164677e-19+1.12456487e-17j, ...,\n",
            "              4.49982045e-18+1.41420333e-17j,\n",
            "             -1.24026365e-17-6.00830307e-18j,\n",
            "             -1.09263783e-16+1.26096645e-16j],\n",
            "            dims=(2, 2, 2, 2, 2, 2, 2, 2, 2, 2, 2, 2)), coeff=1.0, is_measurement=False),\n",
            "    'eigenvalue': -7.4601173755108805}\n"
          ]
        }
      ],
      "source": [
        "H = heisenberg_model(12, -2)\n",
        "eigen = NumPyMinimumEigensolver().compute_minimum_eigenvalue(H)\n",
        "print(eigen)\n"
      ]
    },
    {
      "attachments": {},
      "cell_type": "markdown",
      "metadata": {},
      "source": [
        "#**Answer**: Using that the hamiltonian is already an operator, we can implement directly the NumPyMinimumEigensolver. We see that the result is the same as the expected."
      ]
    },
    {
      "cell_type": "markdown",
      "metadata": {
        "id": "b6wgAc8ovNF0"
      },
      "source": [
        "Use the VQE algorithm to prepare the GS of the Hamiltonian for the same value of $\\Delta$.\n",
        "You should try to achieve the closest estimate to the actual GS energy using an **ansatz consisting of three layers of single- and two-qubit gates, where two-qubit gates connect only near neighbor qubits**.\n",
        "Furthermore, among the different possibilities for the optimizers that you can choose from, use the **Simultaneous Perturbation Stochastic Approximation ([SPSA](https://qiskit.org/documentation/stubs/qiskit.algorithms.optimizers.SPSA.html)) optimizer**.\n",
        "\n",
        "### Use the VQE algorithm to estimate the GS energy for $\\Delta=-2$"
      ]
    },
    {
      "cell_type": "code",
      "execution_count": 125,
      "metadata": {
        "id": "3rn7-iHHoGjw"
      },
      "outputs": [
        {
          "name": "stdout",
          "output_type": "stream",
          "text": [
            "{   'aux_operator_eigenvalues': None,\n",
            "    'cost_function_evals': 400,\n",
            "    'eigenstate': array([-3.46576135e-06-3.48720181e-06j,  1.13823719e-04-5.62015864e-05j,\n",
            "       -1.37116281e-05+9.80377740e-05j, ...,\n",
            "       -5.67334286e-05+7.52406863e-05j, -3.77297343e-04-8.18216506e-05j,\n",
            "       -1.51126920e-04-6.08538611e-07j]),\n",
            "    'eigenvalue': (-5.1874055433961574+0j),\n",
            "    'optimal_circuit': None,\n",
            "    'optimal_parameters': {   ParameterVectorElement(θ[0]): -4.623887751833631,\n",
            "                              ParameterVectorElement(θ[30]): 5.28239526212301,\n",
            "                              ParameterVectorElement(θ[29]): -0.08285537053566594,\n",
            "                              ParameterVectorElement(θ[27]): -2.682026591332477,\n",
            "                              ParameterVectorElement(θ[31]): 5.9443433463887,\n",
            "                              ParameterVectorElement(θ[28]): -0.5151593327117536,\n",
            "                              ParameterVectorElement(θ[23]): 4.629847131464202,\n",
            "                              ParameterVectorElement(θ[22]): -3.6261702882920437,\n",
            "                              ParameterVectorElement(θ[25]): -1.1748618904845136,\n",
            "                              ParameterVectorElement(θ[24]): -3.268870385843617,\n",
            "                              ParameterVectorElement(θ[51]): 8.797307963567674,\n",
            "                              ParameterVectorElement(θ[46]): 6.147070663554492,\n",
            "                              ParameterVectorElement(θ[43]): 4.947839335216774,\n",
            "                              ParameterVectorElement(θ[32]): -5.541152723218441,\n",
            "                              ParameterVectorElement(θ[41]): -5.227058802431892,\n",
            "                              ParameterVectorElement(θ[53]): 4.972141124631558,\n",
            "                              ParameterVectorElement(θ[37]): -0.45369394255369516,\n",
            "                              ParameterVectorElement(θ[48]): 4.636088168309919,\n",
            "                              ParameterVectorElement(θ[50]): 0.2735099951477104,\n",
            "                              ParameterVectorElement(θ[35]): 0.2293330116165485,\n",
            "                              ParameterVectorElement(θ[40]): 5.6688408828384125,\n",
            "                              ParameterVectorElement(θ[56]): 4.186480434424589,\n",
            "                              ParameterVectorElement(θ[52]): -0.4156801151691442,\n",
            "                              ParameterVectorElement(θ[38]): 1.0168940955496184,\n",
            "                              ParameterVectorElement(θ[34]): 3.213879802276411,\n",
            "                              ParameterVectorElement(θ[54]): -4.974005670702547,\n",
            "                              ParameterVectorElement(θ[39]): 0.7220421945419615,\n",
            "                              ParameterVectorElement(θ[33]): -3.0477219139290863,\n",
            "                              ParameterVectorElement(θ[45]): 3.8986402844745607,\n",
            "                              ParameterVectorElement(θ[57]): -1.0532723815465135,\n",
            "                              ParameterVectorElement(θ[49]): -6.787666088938317,\n",
            "                              ParameterVectorElement(θ[44]): 1.7568839784577572,\n",
            "                              ParameterVectorElement(θ[47]): 0.9320083000989196,\n",
            "                              ParameterVectorElement(θ[36]): 3.944917532862897,\n",
            "                              ParameterVectorElement(θ[58]): 3.851145879977696,\n",
            "                              ParameterVectorElement(θ[42]): 5.393312762813793,\n",
            "                              ParameterVectorElement(θ[55]): 2.377778484873418,\n",
            "                              ParameterVectorElement(θ[26]): -0.1313682268623153,\n",
            "                              ParameterVectorElement(θ[3]): 0.5821445880584615,\n",
            "                              ParameterVectorElement(θ[75]): -8.648177539466626,\n",
            "                              ParameterVectorElement(θ[74]): 2.7412221888339463,\n",
            "                              ParameterVectorElement(θ[76]): 6.1814705725553365,\n",
            "                              ParameterVectorElement(θ[72]): 3.348852135970599,\n",
            "                              ParameterVectorElement(θ[66]): 9.080286516064733,\n",
            "                              ParameterVectorElement(θ[67]): 2.3524248991605807,\n",
            "                              ParameterVectorElement(θ[73]): 4.803009305078205,\n",
            "                              ParameterVectorElement(θ[61]): -7.312950768057333,\n",
            "                              ParameterVectorElement(θ[69]): -1.5146178896721185,\n",
            "                              ParameterVectorElement(θ[60]): -1.411039904941183,\n",
            "                              ParameterVectorElement(θ[78]): -1.8928332236658405,\n",
            "                              ParameterVectorElement(θ[68]): -0.53194443891852,\n",
            "                              ParameterVectorElement(θ[63]): -3.5483850661618934,\n",
            "                              ParameterVectorElement(θ[65]): 7.853610371048917,\n",
            "                              ParameterVectorElement(θ[71]): -0.2176984396678456,\n",
            "                              ParameterVectorElement(θ[77]): -2.037921332595766,\n",
            "                              ParameterVectorElement(θ[64]): -0.8039918493297835,\n",
            "                              ParameterVectorElement(θ[62]): -0.3028547675577738,\n",
            "                              ParameterVectorElement(θ[79]): 3.782174010894442,\n",
            "                              ParameterVectorElement(θ[7]): 0.042283016889800726,\n",
            "                              ParameterVectorElement(θ[9]): -4.035499721600896,\n",
            "                              ParameterVectorElement(θ[4]): 5.834672602323644,\n",
            "                              ParameterVectorElement(θ[6]): 1.7713672558513673,\n",
            "                              ParameterVectorElement(θ[8]): -4.118499463009033,\n",
            "                              ParameterVectorElement(θ[12]): 2.378216702952277,\n",
            "                              ParameterVectorElement(θ[10]): 2.299028996904595,\n",
            "                              ParameterVectorElement(θ[5]): -1.424954883252461,\n",
            "                              ParameterVectorElement(θ[11]): 6.1216308321009185,\n",
            "                              ParameterVectorElement(θ[17]): 1.1737476411558485,\n",
            "                              ParameterVectorElement(θ[13]): 4.570367764419825,\n",
            "                              ParameterVectorElement(θ[70]): 7.622371451417798,\n",
            "                              ParameterVectorElement(θ[18]): 1.126803862317923,\n",
            "                              ParameterVectorElement(θ[15]): 6.029438026770539,\n",
            "                              ParameterVectorElement(θ[14]): 5.9470259643676355,\n",
            "                              ParameterVectorElement(θ[16]): 4.036947833949861,\n",
            "                              ParameterVectorElement(θ[1]): 4.497225397457853,\n",
            "                              ParameterVectorElement(θ[2]): 3.2472704076187746,\n",
            "                              ParameterVectorElement(θ[89]): 1.324107358046906,\n",
            "                              ParameterVectorElement(θ[85]): -5.436909362893435,\n",
            "                              ParameterVectorElement(θ[82]): -2.818476868350457,\n",
            "                              ParameterVectorElement(θ[91]): 1.7560768691692594,\n",
            "                              ParameterVectorElement(θ[84]): -1.7604533245736653,\n",
            "                              ParameterVectorElement(θ[80]): 1.8053669408050395,\n",
            "                              ParameterVectorElement(θ[83]): 2.3750881937320516,\n",
            "                              ParameterVectorElement(θ[88]): 2.32322235308622,\n",
            "                              ParameterVectorElement(θ[86]): 4.334721260815111,\n",
            "                              ParameterVectorElement(θ[87]): 5.362790707925741,\n",
            "                              ParameterVectorElement(θ[95]): 0.3251303010768894,\n",
            "                              ParameterVectorElement(θ[94]): -0.6032908787101883,\n",
            "                              ParameterVectorElement(θ[81]): 3.209812262669211,\n",
            "                              ParameterVectorElement(θ[93]): 1.4832554012993033,\n",
            "                              ParameterVectorElement(θ[90]): -3.986817666926504,\n",
            "                              ParameterVectorElement(θ[92]): -6.775471149504448,\n",
            "                              ParameterVectorElement(θ[19]): 3.4970689053331787,\n",
            "                              ParameterVectorElement(θ[21]): 6.148388927464777,\n",
            "                              ParameterVectorElement(θ[20]): 3.9047819389462055,\n",
            "                              ParameterVectorElement(θ[59]): 0.9679154642945508},\n",
            "    'optimal_point': array([-4.62388775,  4.4972254 ,  3.24727041,  0.58214459,  5.8346726 ,\n",
            "       -1.42495488,  1.77136726,  0.04228302, -4.11849946, -4.03549972,\n",
            "        2.299029  ,  6.12163083,  2.3782167 ,  4.57036776,  5.94702596,\n",
            "        6.02943803,  4.03694783,  1.17374764,  1.12680386,  3.49706891,\n",
            "        3.90478194,  6.14838893, -3.62617029,  4.62984713, -3.26887039,\n",
            "       -1.17486189, -0.13136823, -2.68202659, -0.51515933, -0.08285537,\n",
            "        5.28239526,  5.94434335, -5.54115272, -3.04772191,  3.2138798 ,\n",
            "        0.22933301,  3.94491753, -0.45369394,  1.0168941 ,  0.72204219,\n",
            "        5.66884088, -5.2270588 ,  5.39331276,  4.94783934,  1.75688398,\n",
            "        3.89864028,  6.14707066,  0.9320083 ,  4.63608817, -6.78766609,\n",
            "        0.27351   ,  8.79730796, -0.41568012,  4.97214112, -4.97400567,\n",
            "        2.37777848,  4.18648043, -1.05327238,  3.85114588,  0.96791546,\n",
            "       -1.4110399 , -7.31295077, -0.30285477, -3.54838507, -0.80399185,\n",
            "        7.85361037,  9.08028652,  2.3524249 , -0.53194444, -1.51461789,\n",
            "        7.62237145, -0.21769844,  3.34885214,  4.80300931,  2.74122219,\n",
            "       -8.64817754,  6.18147057, -2.03792133, -1.89283322,  3.78217401,\n",
            "        1.80536694,  3.20981226, -2.81847687,  2.37508819, -1.76045332,\n",
            "       -5.43690936,  4.33472126,  5.36279071,  2.32322235,  1.32410736,\n",
            "       -3.98681767,  1.75607687, -6.77547115,  1.4832554 , -0.60329088,\n",
            "        0.3251303 ]),\n",
            "    'optimal_value': -5.1874055433961574,\n",
            "    'optimizer_evals': None,\n",
            "    'optimizer_result': None,\n",
            "    'optimizer_time': 106.37381911277771}\n"
          ]
        }
      ],
      "source": [
        "ansatz = TwoLocal(12, rotation_blocks=['ry','rz'], entanglement_blocks=['cz'], entanglement='circular', reps=3)\n",
        "optimizer = SPSA(maxiter=200)\n",
        "backend = BasicAer.get_backend(\"statevector_simulator\")\n",
        "vqe = VQE(ansatz, optimizer, quantum_instance=backend)\n",
        "\n",
        "vqe_calc = vqe.compute_minimum_eigenvalue(heisenberg_model(12, -2))\n",
        "print(vqe_calc)"
      ]
    },
    {
      "attachments": {},
      "cell_type": "markdown",
      "metadata": {},
      "source": [
        "#**Answer**: The same as above but using the VQE. We see that with this ansatz and optimizer, the obtained value is not compatible with the exact one. So in the next question qe try to look for the best combination of optimizer and ansatz."
      ]
    },
    {
      "attachments": {},
      "cell_type": "markdown",
      "metadata": {
        "id": "l4M8kWNCoFOs"
      },
      "source": [
        "## 1.2 - Ansatz expressibility\n",
        "\n",
        "This method has several aspects that can be tuned, such as the shape of the ansatz or the optimization algorithm to find the parameters. These are important factors in more elaborate quantum simulations.\n",
        "To better understand the role of these parameters, re-implement the method to solve the previous problem ($H_{XXZ}$ with $\\Delta=-2$) and compare the results obtained with with different combinations of ansatze and classical optimizers.\n",
        "\n",
        " - **Ansatz**:\n",
        " \n",
        "   - Alternating single- and two-qubit (controlled-Z) gate layers, with interactions between all qubit pairs in the two-qubit layers;\n",
        "   - Alternating single- and two-qubit (controlled-Z) gate layers, in which two-qubit gates are applied only between neighbouring qubits.\n",
        "\n",
        " - **Optimizers**:\n",
        " \n",
        "   - Simultaneous Perturbation Stochastic Approximation ([SPSA](https://qiskit.org/documentation/stubs/qiskit.algorithms.optimizers.SPSA.html));\n",
        "   - Constrained Optimization By Linear Approximation ([COBYLA](https://qiskit.org/documentation/stubs/qiskit.algorithms.optimizers.COBYLA.html));\n",
        "   - Sequential Least SQuares Programming ([SLSQP](https://qiskit.org/documentation/stubs/qiskit.algorithms.optimizers.SLSQP.html)).\n",
        "\n",
        "For both types of ansatze above, fix only 3 layers of each type of gate. Compare the 6 different combinations of ansatz and optimizer to understand which one performs better both in terms of the accuracy error obtained, and the time and number of steps to converge.\n",
        "\n",
        "### Plot the estimate of the GS energy as a function of the optimization steps for all the combinations of optimizer and ansatz listed above."
      ]
    },
    {
      "cell_type": "code",
      "execution_count": 20,
      "metadata": {
        "id": "VqK8rLKToHpS"
      },
      "outputs": [],
      "source": [
        "def optimizer_comparation(N, ansatz, iterations):\n",
        "  backend       = BasicAer.get_backend(\"statevector_simulator\")\n",
        "  times, eigens = [], []\n",
        "\n",
        "  for it in iterations: \n",
        "    optimizers   = [ COBYLA(it), SPSA(it/3), SLSQP(it/150)                                                        ] \n",
        "    vqe_map      = [ VQE(ansatz, optimizer, quantum_instance=backend)           for optimizer in optimizers ]\n",
        "    results      = [ values.compute_minimum_eigenvalue(heisenberg_model(N, -2)) for values in vqe_map       ]\n",
        "    times.append ( [ info.optimizer_time                                        for info in results         ] ) \n",
        "    eigens.append( [ info.eigenvalue                                            for info in results         ] )\n",
        "  \n",
        "  return  times, eigens"
      ]
    },
    {
      "attachments": {},
      "cell_type": "markdown",
      "metadata": {},
      "source": [
        "This function computes the time of execution and the eigenvalue for a given ansatz and a given list of iterations. We have computed the time between iteartions for each optimizer, and we have concluded that the coefficients that multipliy the iterations in the optimizer arguments, are such that the total execution time is similar for the three of them."
      ]
    },
    {
      "cell_type": "code",
      "execution_count": 21,
      "metadata": {},
      "outputs": [],
      "source": [
        "def draw_comparations(N, iters):\n",
        "    ansatzs    = [ \n",
        "                    TwoLocal(N, rotation_blocks=['rx','rz'], entanglement_blocks=['cz'], entanglement='circular', reps=3), \n",
        "                    TwoLocal(N, rotation_blocks=['rx','rz'], entanglement_blocks=['cz'], entanglement='full',     reps=3)\n",
        "                ] \n",
        "    l = []\n",
        "    for ansatz in ansatzs:             \n",
        "        times, eigens = optimizer_comparation(N, ansatz, iters)\n",
        "        l.append((times, eigens))\n",
        "        a1 = list(zip(*times))\n",
        "        b1 = list(zip(*eigens))\n",
        "        plt.figure()\n",
        "        for i in range(3):\n",
        "            plt.plot(a1[i], np.real(b1[i]))\n",
        "        plt.xscale('log')\n",
        "        plt.show()\n",
        "    return l\n"
      ]
    },
    {
      "cell_type": "code",
      "execution_count": 22,
      "metadata": {},
      "outputs": [
        {
          "data": {
            "image/png": "[encoded data removed]",
            "text/plain": [
              "<Figure size 640x480 with 1 Axes>"
            ]
          },
          "metadata": {},
          "output_type": "display_data"
        },
        {
          "data": {
            "image/png": "[encoded data removed]",
            "text/plain": [
              "<Figure size 640x480 with 1 Axes>"
            ]
          },
          "metadata": {},
          "output_type": "display_data"
        }
      ],
      "source": [
        "l = draw_comparations(12, [50, 100, 250, 500, 700])\n"
      ]
    },
    {
      "attachments": {},
      "cell_type": "markdown",
      "metadata": {},
      "source": [
        "Here we obtain the execution time and the eigenvalue for different iterations, and plotted them. \n",
        "\n",
        "- The first plot, corresponds to the *circular* ansantz. The blue line corrsponds to COBYLA, the orange one to SPSA and the green to SLSQP. \n",
        "- The second plot, corresponds to the *full* ansantz. The blue line corrsponds to COBYLA, the orange one to SPSA and the green to SLSQP. \n",
        "\n",
        "From this plots, we can see that the *circular* ansatz is better, because it converges quickly to the exact solution, and for the optimizers, we saw that the best one is SPSA.\n",
        "\n",
        "However, the convergence is really slow, so we have tried to implement a hybrid optimizer, where we begin with an optimizer that begins to converge quickly (COBYLA) and then we change the optimizer that perfoms better to converge to the exact solution when we get closer (SLSQP). The SPSA optimizer does not work for this because it ignores the initial point that we provide."
      ]
    },
    {
      "cell_type": "code",
      "execution_count": 141,
      "metadata": {},
      "outputs": [
        {
          "data": {
            "image/png": "[encoded data removed]",
            "text/plain": [
              "<Figure size 640x480 with 1 Axes>"
            ]
          },
          "metadata": {},
          "output_type": "display_data"
        }
      ],
      "source": [
        "N = 12\n",
        "counts = []\n",
        "values = []\n",
        "\n",
        "\n",
        "def store_intermediate_result(eval_count, parameters, mean, std):\n",
        "    counts.append(eval_count)\n",
        "    values.append(mean)\n",
        "\n",
        "\n",
        "counts2 = []\n",
        "values2 = []\n",
        "\n",
        "\n",
        "def store_intermediate_result2(eval_count, parameters, mean, std):\n",
        "    counts2.append(eval_count)\n",
        "    values2.append(mean)\n",
        "\n",
        "\n",
        "ansatz    = TwoLocal(N, rotation_blocks=['rx','rz'], entanglement_blocks=['cz'], entanglement='circular', reps=3)\n",
        "optimizer = COBYLA(maxiter=300)\n",
        "backend   = BasicAer.get_backend(\"statevector_simulator\")\n",
        "vqe       = VQE(ansatz, optimizer, quantum_instance=backend, callback=store_intermediate_result)\n",
        "vqe_calc  = vqe.compute_minimum_eigenvalue(heisenberg_model(N, -2))\n",
        "\n",
        "\n",
        "optimizer = SPSA(maxiter=100)\n",
        "vqe       = VQE(ansatz, optimizer, quantum_instance=backend, initial_point=vqe_calc.optimal_point, callback=store_intermediate_result2)\n",
        "vqe_calc  = vqe.compute_minimum_eigenvalue(heisenberg_model(N, -2))\n",
        "\n",
        "plt.figure()\n",
        "plt.plot(counts, np.real(values))\n",
        "plt.plot(np.array(counts2) + 300, np.real(values2))\n",
        "plt.show()"
      ]
    },
    {
      "attachments": {},
      "cell_type": "markdown",
      "metadata": {},
      "source": [
        "COBYLA + SPSA fail"
      ]
    },
    {
      "cell_type": "code",
      "execution_count": 142,
      "metadata": {},
      "outputs": [
        {
          "data": {
            "text/plain": [
              "(-3.452996764810586+0j)"
            ]
          },
          "execution_count": 142,
          "metadata": {},
          "output_type": "execute_result"
        }
      ],
      "source": [
        "vqe_calc.eigenvalue"
      ]
    },
    {
      "attachments": {},
      "cell_type": "markdown",
      "metadata": {},
      "source": [
        "SPSA + SLSQP does work but slowly"
      ]
    },
    {
      "cell_type": "code",
      "execution_count": 115,
      "metadata": {},
      "outputs": [
        {
          "name": "stdout",
          "output_type": "stream",
          "text": [
            "{   'aux_operator_eigenvalues': None,\n",
            "    'cost_function_evals': 2400,\n",
            "    'eigenstate': array([-3.64216948e-06-5.60492916e-06j, -3.27487336e-06+3.52288353e-05j,\n",
            "       -9.18376864e-06-2.48353791e-07j, ...,\n",
            "        4.53619214e-06+1.18358955e-06j, -5.36829882e-06-9.47782169e-06j,\n",
            "       -4.38689319e-06+1.13168072e-06j]),\n",
            "    'eigenvalue': (-6.922810752809984+0j),\n",
            "    'optimal_circuit': None,\n",
            "    'optimal_parameters': {   ParameterVectorElement(θ[87]): -0.9955491382523223,\n",
            "                              ParameterVectorElement(θ[86]): -3.3148452864523423,\n",
            "                              ParameterVectorElement(θ[93]): 3.778132154014622,\n",
            "                              ParameterVectorElement(θ[88]): -2.2265799889928,\n",
            "                              ParameterVectorElement(θ[94]): 5.884805264487366,\n",
            "                              ParameterVectorElement(θ[95]): -1.824999136436865,\n",
            "                              ParameterVectorElement(θ[85]): 4.116205895982255,\n",
            "                              ParameterVectorElement(θ[89]): -0.12708722324920654,\n",
            "                              ParameterVectorElement(θ[91]): -2.1557938947558655,\n",
            "                              ParameterVectorElement(θ[90]): 3.279182913367626,\n",
            "                              ParameterVectorElement(θ[92]): 6.080919085641505,\n",
            "                              ParameterVectorElement(θ[47]): 0.07737360431979944,\n",
            "                              ParameterVectorElement(θ[82]): 3.1982536527122636,\n",
            "                              ParameterVectorElement(θ[84]): 4.9291210029707075,\n",
            "                              ParameterVectorElement(θ[48]): 2.8058044583019996,\n",
            "                              ParameterVectorElement(θ[64]): -5.1078500566877,\n",
            "                              ParameterVectorElement(θ[49]): 3.2132651606516585,\n",
            "                              ParameterVectorElement(θ[52]): -2.9404801126417417,\n",
            "                              ParameterVectorElement(θ[50]): -5.0848550101005765,\n",
            "                              ParameterVectorElement(θ[53]): 3.883201222799076,\n",
            "                              ParameterVectorElement(θ[51]): -6.353374641935958,\n",
            "                              ParameterVectorElement(θ[54]): -1.8313101910689351,\n",
            "                              ParameterVectorElement(θ[55]): 5.817037382362291,\n",
            "                              ParameterVectorElement(θ[81]): 5.813820883342138,\n",
            "                              ParameterVectorElement(θ[74]): 1.4026182166824142,\n",
            "                              ParameterVectorElement(θ[75]): -3.2718512486268208,\n",
            "                              ParameterVectorElement(θ[76]): -9.223869571229335,\n",
            "                              ParameterVectorElement(θ[77]): -0.7218474579935402,\n",
            "                              ParameterVectorElement(θ[78]): 6.4769840179776486,\n",
            "                              ParameterVectorElement(θ[56]): -2.182084946394182,\n",
            "                              ParameterVectorElement(θ[83]): -6.505463891689472,\n",
            "                              ParameterVectorElement(θ[79]): 3.1211767551757448,\n",
            "                              ParameterVectorElement(θ[67]): 4.379014000602639,\n",
            "                              ParameterVectorElement(θ[68]): 2.569425609611914,\n",
            "                              ParameterVectorElement(θ[69]): 6.3610523036557405,\n",
            "                              ParameterVectorElement(θ[70]): -4.2549788453005055,\n",
            "                              ParameterVectorElement(θ[71]): 2.8179725501842925,\n",
            "                              ParameterVectorElement(θ[80]): 1.2508242111085397,\n",
            "                              ParameterVectorElement(θ[57]): 6.323302381577379,\n",
            "                              ParameterVectorElement(θ[72]): 0.3710859334606741,\n",
            "                              ParameterVectorElement(θ[73]): -2.9063265740313207,\n",
            "                              ParameterVectorElement(θ[58]): -4.25878542256089,\n",
            "                              ParameterVectorElement(θ[65]): -3.030572503083476,\n",
            "                              ParameterVectorElement(θ[66]): 3.786582671579924,\n",
            "                              ParameterVectorElement(θ[59]): -5.143003044200028,\n",
            "                              ParameterVectorElement(θ[60]): 2.1794933845747333,\n",
            "                              ParameterVectorElement(θ[61]): 1.4386880184745645,\n",
            "                              ParameterVectorElement(θ[62]): -3.0978682385698453,\n",
            "                              ParameterVectorElement(θ[63]): -6.865677524136317,\n",
            "                              ParameterVectorElement(θ[27]): 0.2938785518422117,\n",
            "                              ParameterVectorElement(θ[28]): -1.545240125872041,\n",
            "                              ParameterVectorElement(θ[30]): 7.561008496038432,\n",
            "                              ParameterVectorElement(θ[29]): -3.2972410080568255,\n",
            "                              ParameterVectorElement(θ[31]): -6.409329575033428,\n",
            "                              ParameterVectorElement(θ[32]): 5.482336192218853,\n",
            "                              ParameterVectorElement(θ[33]): 6.475377612110548,\n",
            "                              ParameterVectorElement(θ[35]): 0.27009743470372194,\n",
            "                              ParameterVectorElement(θ[36]): -0.2949003956032027,\n",
            "                              ParameterVectorElement(θ[34]): -3.0792630635725318,\n",
            "                              ParameterVectorElement(θ[38]): -8.39321803258616,\n",
            "                              ParameterVectorElement(θ[37]): -2.310966069278517,\n",
            "                              ParameterVectorElement(θ[42]): -0.17664152038622707,\n",
            "                              ParameterVectorElement(θ[39]): -3.3250819067335926,\n",
            "                              ParameterVectorElement(θ[43]): 0.36056760285294787,\n",
            "                              ParameterVectorElement(θ[44]): 2.8912926028845924,\n",
            "                              ParameterVectorElement(θ[40]): 2.627633544467233,\n",
            "                              ParameterVectorElement(θ[41]): 8.259989194250993,\n",
            "                              ParameterVectorElement(θ[46]): -4.671070006864041,\n",
            "                              ParameterVectorElement(θ[22]): -1.4842334777125497,\n",
            "                              ParameterVectorElement(θ[45]): 2.2770211016468775,\n",
            "                              ParameterVectorElement(θ[21]): -5.747711646145604,\n",
            "                              ParameterVectorElement(θ[20]): -3.592165051467941,\n",
            "                              ParameterVectorElement(θ[25]): 2.7838383215801126,\n",
            "                              ParameterVectorElement(θ[24]): 0.5151462608641358,\n",
            "                              ParameterVectorElement(θ[26]): 8.609757559860062,\n",
            "                              ParameterVectorElement(θ[23]): 2.9274555473095307,\n",
            "                              ParameterVectorElement(θ[18]): 7.273337556274281,\n",
            "                              ParameterVectorElement(θ[19]): -1.4459380753938222,\n",
            "                              ParameterVectorElement(θ[0]): -6.619884114358002,\n",
            "                              ParameterVectorElement(θ[10]): -1.3518696402803396,\n",
            "                              ParameterVectorElement(θ[9]): 5.697663433108242,\n",
            "                              ParameterVectorElement(θ[7]): 3.4797047133428793,\n",
            "                              ParameterVectorElement(θ[8]): 4.890446074739329,\n",
            "                              ParameterVectorElement(θ[6]): -3.668336216380322,\n",
            "                              ParameterVectorElement(θ[5]): 0.014880985376346231,\n",
            "                              ParameterVectorElement(θ[11]): -1.0356469478038002,\n",
            "                              ParameterVectorElement(θ[4]): 1.6566597470083955,\n",
            "                              ParameterVectorElement(θ[12]): -4.123166943166351,\n",
            "                              ParameterVectorElement(θ[1]): -3.4717572340771006,\n",
            "                              ParameterVectorElement(θ[2]): 0.8741873099915115,\n",
            "                              ParameterVectorElement(θ[17]): -4.766023289719642,\n",
            "                              ParameterVectorElement(θ[3]): 2.9944089927259037,\n",
            "                              ParameterVectorElement(θ[16]): -0.18110355026875333,\n",
            "                              ParameterVectorElement(θ[15]): -0.7912313055270522,\n",
            "                              ParameterVectorElement(θ[14]): 0.3364193756538416,\n",
            "                              ParameterVectorElement(θ[13]): 0.8661411018471729},\n",
            "    'optimal_point': array([-6.61988411, -3.47175723,  0.87418731,  2.99440899,  1.65665975,\n",
            "        0.01488099, -3.66833622,  3.47970471,  4.89044607,  5.69766343,\n",
            "       -1.35186964, -1.03564695, -4.12316694,  0.8661411 ,  0.33641938,\n",
            "       -0.79123131, -0.18110355, -4.76602329,  7.27333756, -1.44593808,\n",
            "       -3.59216505, -5.74771165, -1.48423348,  2.92745555,  0.51514626,\n",
            "        2.78383832,  8.60975756,  0.29387855, -1.54524013, -3.29724101,\n",
            "        7.5610085 , -6.40932958,  5.48233619,  6.47537761, -3.07926306,\n",
            "        0.27009743, -0.2949004 , -2.31096607, -8.39321803, -3.32508191,\n",
            "        2.62763354,  8.25998919, -0.17664152,  0.3605676 ,  2.8912926 ,\n",
            "        2.2770211 , -4.67107001,  0.0773736 ,  2.80580446,  3.21326516,\n",
            "       -5.08485501, -6.35337464, -2.94048011,  3.88320122, -1.83131019,\n",
            "        5.81703738, -2.18208495,  6.32330238, -4.25878542, -5.14300304,\n",
            "        2.17949338,  1.43868802, -3.09786824, -6.86567752, -5.10785006,\n",
            "       -3.0305725 ,  3.78658267,  4.379014  ,  2.56942561,  6.3610523 ,\n",
            "       -4.25497885,  2.81797255,  0.37108593, -2.90632657,  1.40261822,\n",
            "       -3.27185125, -9.22386957, -0.72184746,  6.47698402,  3.12117676,\n",
            "        1.25082421,  5.81382088,  3.19825365, -6.50546389,  4.929121  ,\n",
            "        4.1162059 , -3.31484529, -0.99554914, -2.22657999, -0.12708722,\n",
            "        3.27918291, -2.15579389,  6.08091909,  3.77813215,  5.88480526,\n",
            "       -1.82499914]),\n",
            "    'optimal_value': -6.922810752809984,\n",
            "    'optimizer_evals': None,\n",
            "    'optimizer_result': None,\n",
            "    'optimizer_time': 579.6868450641632}\n"
          ]
        }
      ],
      "source": [
        "N = 12\n",
        "ansatz    = TwoLocal(N, rotation_blocks=['rx','rz'], entanglement_blocks=['cz'], entanglement='circular', reps=3)\n",
        "optimizer = SPSA(maxiter=1200)\n",
        "backend   = BasicAer.get_backend(\"statevector_simulator\")\n",
        "vqe       = VQE(ansatz, optimizer, quantum_instance=backend)\n",
        "vqe_calc  = vqe.compute_minimum_eigenvalue(heisenberg_model(N, -2))\n",
        "\n",
        "print(vqe_calc)\n",
        "parameters = vqe_calc.optimal_point"
      ]
    },
    {
      "cell_type": "code",
      "execution_count": 126,
      "metadata": {},
      "outputs": [],
      "source": [
        "ansatz    = TwoLocal(N, rotation_blocks=['rx','rz'], entanglement_blocks=['cz'], entanglement='circular', reps=3)\n",
        "optimizer = SLSQP(maxiter=10)\n",
        "backend   = BasicAer.get_backend(\"statevector_simulator\")\n",
        "vqe       = VQE(ansatz, optimizer, quantum_instance=backend, initial_point=parameters)\n",
        "vqe_calc  = vqe.compute_minimum_eigenvalue(heisenberg_model(N, -2))"
      ]
    },
    {
      "cell_type": "code",
      "execution_count": 128,
      "metadata": {},
      "outputs": [],
      "source": [
        "final_vqe_calc = vqe_calc"
      ]
    },
    {
      "attachments": {},
      "cell_type": "markdown",
      "metadata": {},
      "source": [
        "At the end, we choose to begin with SPSA until we get to a close value to the exact solution. And then to change to the SLSQP to try to get a little closer. "
      ]
    },
    {
      "cell_type": "markdown",
      "metadata": {
        "id": "scNuLmbQoIre"
      },
      "source": [
        "## 1.3 - Phase diagram\n",
        "\n",
        "As we have introduced above, the full phase diagram of the $H_{XXZ}$ model encompasses a rich range of behaviours:\n",
        "\n",
        "- For $\\Delta>1$, we have a **ferromagnetic** phase.\n",
        "- For $-1<\\Delta<1$, we have a **paramagnetic** phase.\n",
        "- For $\\Delta\\leq-1$, we have an **anti-ferromagnetic** phase.\n",
        "\n",
        "Use the best combination of optimizer and ansatz that you have found before to prepare the GS of the system for different values of $\\Delta$ to reconstruct the phase diagram.\n",
        "Consider, at least, the values of $\\Delta=\\{-2, -1, 0, 1, 2\\}$.\n",
        "These will allow you to probe the properties of the GS in each phase.\n",
        "If you can afford to use more points within the $\\Delta\\in[-2, 2]$ range, go for it!\n",
        "\n",
        "Taking the exact solution as a reference, try to improve the ansatz, e.g., adding more layers, to obtain a better representation of the GS of the system.\n",
        "\n",
        "Once you find the optimal parameters for your best ansatz, use it to compute the expectation value of the **magnetization** of the system along the $z$-axis\n",
        "$$\n",
        "M \\equiv \\frac{1}{2N} \\sum_{i=1}^{N} \\left\\langle \\sigma_{i}^{z} \\right\\rangle\\,,\n",
        "$$\n",
        "the **staggered magnetization**\n",
        "$$\n",
        "M_{st} \\equiv \\frac{1}{2N}\\sum_{i=1}^N (-1)^i\\left\\langle\\sigma_i^z\\right\\rangle\\,,\n",
        "$$\n",
        "as well as the expectation value of the **nearest neighbour correlator**\n",
        "$$\n",
        "C \\equiv \\frac{1}{4N} \\sum_{i=1}^{N}\\left\\langle \\sigma_{i}^{z} \\sigma_{i+1}^{z}  \\right\\rangle\\,.\n",
        "$$\n",
        "Plot these observables as a function of $\\Delta$.\n",
        "You will need to prepare the GS multiple times to estimate these averages from the measurement statistics.\n",
        "\n",
        "### Plot $M$, $M_{st}$ and $C$ as a function of $\\Delta$ and comment on the GS properties you can infer from these observables.\n",
        "> Tip: If you find degenerate GSs, you can compute the expectation values above with only one of them (manually break the symmetry).\n",
        "Alternatively, you can try to energetically favour one of those by adding an external magnetic field in one direction in the Hamiltonian $H_{XXZ} + \\delta\\sigma_0^z$ with small $\\delta$."
      ]
    },
    {
      "cell_type": "code",
      "execution_count": 138,
      "metadata": {
        "id": "0a33gxSpxlzV"
      },
      "outputs": [],
      "source": [
        "def M(N, isMst = False):\n",
        "    \n",
        "    nI = reduce(lambda a, b: a ^ b, repeat(I, N - 1))\n",
        "\n",
        "    M_first = Z ^ nI\n",
        "\n",
        "    if isMst:\n",
        "        M_final = (-1)**(N%2) * nI ^ Z \n",
        "        m = M_final - M_first\n",
        "        \n",
        "        for i in range(1, N - 1): \n",
        "            forward  = (-1)**(i%2 + 1) * reduce(lambda a, b: a ^ b, repeat(I, i))\n",
        "            backward = reduce(lambda a, b: a ^ b, repeat(I, N - i - 1))\n",
        "            m  += forward ^ Z ^ backward\n",
        "        \n",
        "        return (1/(2 * N)) * m\n",
        "    \n",
        "    M_final = nI ^ Z \n",
        "    m = M_final + M_first\n",
        "    for i in range(1, N - 1): \n",
        "            forward  = reduce(lambda a, b: a ^ b, repeat(I, i))\n",
        "            backward = reduce(lambda a, b: a ^ b, repeat(I, N - i - 1))\n",
        "            m  += forward ^ Z ^ backward\n",
        "    \n",
        "    \n",
        "    return  m * .5 / N\n",
        "\n",
        "def C(N): \n",
        "    nI = reduce(lambda a, b: a ^ b, repeat(I, N - 2))\n",
        "    ZZ = Z ^ Z\n",
        "    \n",
        "    H_first = ZZ ^ nI\n",
        "    H_final = Z ^ nI ^ Z\n",
        "    res = H_final + H_first\n",
        "\n",
        "    for i in range(1, N - 1):       \n",
        "        forward  = reduce(lambda a, b: a ^ b, repeat(I, i))\n",
        "        try: \n",
        "            backward = reduce(lambda a, b: a ^ b, repeat(I, N - i - 2))\n",
        "            H_i = forward ^ ZZ ^ backward\n",
        "        except: \n",
        "            H_i = forward ^ ZZ\n",
        "        res += H_i\n",
        "    return .25 * res / N\n"
      ]
    },
    {
      "attachments": {},
      "cell_type": "markdown",
      "metadata": {},
      "source": [
        "#**Answer**: We again use oplfow to contrsuct our operators. We have generalized them for any $N$."
      ]
    },
    {
      "cell_type": "code",
      "execution_count": 140,
      "metadata": {},
      "outputs": [
        {
          "data": {
            "image/png": "[encoded data removed]",
            "text/plain": [
              "<Figure size 640x480 with 1 Axes>"
            ]
          },
          "metadata": {},
          "output_type": "display_data"
        },
        {
          "data": {
            "image/png": "[encoded data removed]",
            "text/plain": [
              "<Figure size 640x480 with 1 Axes>"
            ]
          },
          "metadata": {},
          "output_type": "display_data"
        },
        {
          "data": {
            "image/png": "[encoded data removed]",
            "text/plain": [
              "<Figure size 640x480 with 1 Axes>"
            ]
          },
          "metadata": {},
          "output_type": "display_data"
        }
      ],
      "source": [
        "def plot_phase_diagram(N, optimal):\n",
        "    \n",
        "    m   = M(N)\n",
        "    Msf = M(N, True)\n",
        "    c   = C(N)\n",
        "\n",
        "    ansatz    = TwoLocal(N, rotation_blocks=['rx','rz'], entanglement_blocks=['cz'], entanglement='circular', reps=3)\n",
        "    optimizer = SLSQP(maxiter = 5)\n",
        "    backend   = BasicAer.get_backend(\"statevector_simulator\")\n",
        "    vqe       = VQE(ansatz, optimizer, quantum_instance=backend, initial_point=optimal)\n",
        "\n",
        "    deltas    = [ -2,    -1.5,     -1,      -.5,       0,      .5,       1,      1.5,       2    ]\n",
        "    results   = [ vqe.compute_minimum_eigenvalue(heisenberg_model(N, delta)) for delta in deltas ]\n",
        "\n",
        "    plt.figure()\n",
        "    plt.plot(deltas, [np.real(np.conjugate(res.eigenstate).T @ m.to_matrix()   @ res.eigenstate) for res in results ])\n",
        "    plt.show()\n",
        "    plt.figure()\n",
        "    plt.plot(deltas, [np.real(np.conjugate(res.eigenstate).T @ Msf.to_matrix() @ res.eigenstate) for res in results ])\n",
        "    plt.show()\n",
        "    plt.figure()\n",
        "    plt.plot(deltas, [np.real(np.conjugate(res.eigenstate).T @ c.to_matrix()   @ res.eigenstate) for res in results])\n",
        "    plt.show()\n",
        "\n",
        "plot_phase_diagram(12, final_vqe_calc.optimal_point)\n"
      ]
    },
    {
      "attachments": {},
      "cell_type": "markdown",
      "metadata": {},
      "source": [
        "#**Answer**: Using the ground states obtained via VQE, we have computed the expected value of the three opeartors depending on the parameter $\\Delta$.\n",
        "\n",
        "- In the first figure we can see the magnetization as a function of $\\Delta$. We observe that, for $\\Delta<1$, it remains zero, but the system becomes magnetized as $\\Delta\\geq1$, as the algning interaction in $z$ becomes dominant over $x$ and $y$\n",
        "- In the second one, we can see the staggered magnetization as a function of $\\Delta$. In this case we obsere the opposite: for negative values, it is favorable for neighboring spins to be opposite, but for positive values, they become aligned and the staggered magnetization vanishes.\n",
        "- For the last one, the correlation versus $\\Delta$. The same phenomenon in this case produces a negative correlation for negative values (neighboring spins antialigned), and a positive one for positive $\\Delta$ (neighboring spins aligned)"
      ]
    },
    {
      "cell_type": "code",
      "execution_count": 143,
      "metadata": {},
      "outputs": [],
      "source": [
        "import matplotlib.pyplot as plt\n",
        "import numpy as np\n",
        "from qiskit_nature.second_q.circuit.library import UCCSD\n",
        "#from qiskit_nature.circuit.library import UCCSD\n",
        "from qiskit.circuit.library import EfficientSU2\n",
        "from qiskit.algorithms.optimizers import COBYLA, SPSA, SLSQP\n",
        "from qiskit.opflow import TwoQubitReduction\n",
        "from qiskit import BasicAer, Aer\n",
        "from qiskit.utils import QuantumInstance\n",
        "from qiskit.utils.mitigation import CompleteMeasFitter\n",
        "#from qiskit.providers.aer.noise import NoiseModel\n",
        "\n",
        "from qiskit.algorithms.minimum_eigensolvers import VQE\n",
        "from qiskit.algorithms.eigensolvers import VQD\n",
        "#from qiskit.algorithms import VQE\n",
        "from qiskit.primitives import Estimator\n",
        "from qiskit_nature.second_q.mappers import JordanWignerMapper\n",
        "from qiskit_nature.second_q.mappers import ParityMapper\n",
        "\n",
        "from qiskit_nature.second_q.mappers import QubitConverter\n",
        "from qiskit_nature.second_q.algorithms import NumPyMinimumEigensolverFactory\n",
        "from qiskit_nature.second_q.algorithms import NumPyEigensolverFactory, ExcitedStatesEigensolver\n",
        "from qiskit_nature.second_q.circuit.library import HartreeFock\n",
        "from qiskit.circuit.library import TwoLocal\n",
        "\n",
        "from qiskit.primitives import Sampler, Estimator\n",
        "from qiskit.algorithms.state_fidelities import ComputeUncompute"
      ]
    },
    {
      "cell_type": "code",
      "execution_count": 144,
      "metadata": {},
      "outputs": [],
      "source": [
        "def get_qubit_op(dist):\n",
        "    # Define Molecule\n",
        "    molecule = MoleculeInfo([\"H\", \"Li\"], [(0.0, 0.0, 0.0), (0.0, 0.0, dist)], charge=0, multiplicity=1)\n",
        "\n",
        "    driver = PySCFDriver.from_molecule(molecule, basis=\"sto3g\")\n",
        "\n",
        "    # Get properties\n",
        "    \n",
        "    problem = driver.run()\n",
        "    transformer = FreezeCoreTransformer()\n",
        "    problem = transformer.transform(problem)\n",
        "    \n",
        "    hamiltonian = problem.hamiltonian.second_q_op()\n",
        "\n",
        "    # properties\n",
        "    num_particles = problem.num_particles\n",
        "    num_spatial_orbitals = problem.num_spatial_orbitals\n",
        "    \n",
        "    # Do two qubit reduction\n",
        "    #mapper = JordanWignerMapper()\n",
        "    mapper = ParityMapper()\n",
        "    H_qubit = mapper.map(hamiltonian)\n",
        "    \n",
        "    converter = QubitConverter(mapper,two_qubit_reduction=False)\n",
        "\n",
        "    return H_qubit, num_particles, num_spatial_orbitals, problem, converter"
      ]
    },
    {
      "attachments": {},
      "cell_type": "markdown",
      "metadata": {},
      "source": [
        "The first thing we did it was to define our hamiltonian and mapp it to a qubit system with the 'get_qubit_op()' function. The most challenging part of this section was the converter part, since we didn't realized that we needed to do so for the code to work properly. "
      ]
    },
    {
      "cell_type": "markdown",
      "metadata": {
        "id": "sj7EebTFg3HG"
      },
      "source": [
        "_Having characterized the security system's board material, your breaching expert proceeds to hack it by driving it through the different phases at convenience._\n",
        "\n",
        "_Congratulations, you've overcome the first challenge!_\n",
        "\n",
        "----\n",
        "_The main gate opens and you get a first glimpse of the core's control room.\n",
        "Apparently, they were conducting research on cleaner nuclear energy.\n",
        "A novel purpose, although it's now about to wipe us all clean._\n",
        "\n",
        "_The core is shielded with a shell of lithium hydrate (LiH).\n",
        "However, the nuclear reaction is going wild and it's destabilizing the shell.\n",
        "The radiation coming from the core has heated the LiH and excited its electrons, which interferes with the diagnosis system.\n",
        "If you knew the electronic structure of the material, you could bring the excited electrons down to their low-lying states through stimulated emission._\n",
        "\n",
        "# 2. FERMIONS IN EXCITED STATES: THE LITHIUM HYDRATE MOLECULE  <a class=\"anchor\" id=\"2\"></a> [[↑]](#0)\n",
        "\n",
        "_You're packing the quantum computer, when Seedis starts taking it out again.\n",
        "\"Alright mates, we've got plenty of lasers around.\n",
        "Let's figure out the spectrum of the shell and we can surely point at it some of them to hold it together\"._\n",
        "\n",
        "> Molecular compounds are extremely valuable for our society, as they are central in material sciences and medicine.\n",
        "Here, we study the electronic properties of the LiH ionic conductor.\n",
        "Actually, we use different isotopes of LiH to shield and moderate nuclear reactors, but we take this little licence here :)\n",
        "\n",
        "The goal is to study the electronic structure of the lithium hydrate (LiH) molecule.\n",
        "The energies in the reactor are so high that the molecules are being distorted.\n",
        "Therefore, we wish to know the dependence of the low-lying excited states with the interatomic distance. \n",
        "\n",
        "The particles we consider (electrons) are fermions.\n",
        "These are different in nature from the qubits we have access to.\n",
        "Thus, we need to map the fermionic Hamiltonian to qubits.\n",
        "To give an intuition, we can relate our qubit states, $|0\\rangle$ and $|1\\rangle$, with the occupation of the molecule's electronic orbitals, e.g. we can mark occupied orbitals with a $|1\\rangle$.\n",
        "Here, consider the minimal basis set of spin orbitals STO-3G.\n",
        "\n",
        "When we study these physical systems, we need to take into account that our molecules have a fixed number of electrons that move along the orbitals.\n",
        "This means we can only consider states with a fixed amount of qubits in state $|1\\rangle$, as changing orbitals will replace $|0\\rangle$ by $|1\\rangle$ in the destination and $|1\\rangle$ by $|0\\rangle$ at the origin.\n",
        "For example, Li has three electrons and H has one, meaning that our states must always have four qubits in state $|1\\rangle$.\n",
        "Properly encoding this in our variational ansatze will be essential to find good results.\n",
        "\n",
        "> Tip: to ease the calculations, restrict the active space by freezing the core orbitals. \n",
        "Furthermore, you can exploit the symmetries in the resulting Hamiltonian to reduce the number of qubits.\n",
        "This does not look like a lot, but it'll surely help ;)\n",
        "\n",
        "## 2.1 - Molecular spectra\n",
        "\n",
        "To warm up, find the GS energy of the LiH molecule considering a bond distance of $2~\\unicode{x212B}$.\n",
        "Use a parity map to map the fermionic Hamiltonian to qubits.\n",
        "Compute also the energy of the next two excited states.\n",
        "\n",
        "Find the true values with exact diagonalization and compare them with the results obtained through VQE (the closer, the better!).\n",
        "To obtain the excited states, you can use any extension of the VQE you want, e.g., variational quantum deflation [[Ref.3]](#REF)<a class=\"anchor\" id=\"Ref3\"></a>.\n",
        "\n",
        "Use a suitable optimizer and a particle-preserving ansatz.\n",
        "\n",
        "### Compute the energy of the GS and the two first excited states and compare them with the exact results."
      ]
    },
    {
      "cell_type": "code",
      "execution_count": null,
      "metadata": {
        "id": "dXH_uwoHhPBB"
      },
      "outputs": [],
      "source": [
        "sampler = Sampler()\n",
        "fidelity = ComputeUncompute(sampler)\n",
        "\n",
        "def exact_solver(problem, converter):\n",
        "    solver = NumPyEigensolverFactory(use_default_filter_criterion=True, k=3)\n",
        "    calc = ExcitedStatesEigensolver(converter, solver)\n",
        "    result = calc.solve(problem)\n",
        "    return result\n",
        "\n",
        "backend = BasicAer.get_backend(\"statevector_simulator\")\n",
        "distances = [2.0]\n",
        "optimizer = COBYLA(maxiter=10)\n",
        "\n",
        "dist = distances[0]\n",
        "\n",
        "### \n",
        "(qubit_op, num_particles, num_spatial_orbitals, problem, converter) = get_qubit_op(dist)\n",
        "\n",
        "# Exact solver\n",
        "exact_values = exact_solver(problem,converter)\n",
        "exact_energies = problem.interpret(exact_values).total_energies\n",
        "\n",
        "# VQD\n",
        "init_state = HartreeFock(num_spatial_orbitals, num_particles, converter)\n",
        "var_form = TwoLocal(num_spatial_orbitals, rotation_blocks = ['ry', 'rz'], entanglement_blocks = ['cz'], initial_state = init_state)\n",
        "\n",
        "vqd = VQD(estimator = Estimator(), fidelity = fidelity, ansatz = var_form, optimizer = optimizer, k = 3) \n",
        "vqd_calc = vqd.compute_eigenvalues(operator=qubit_op)\n",
        "vqd_values = vqd_calc.optimal_values\n",
        "vqd_sorted = problem.interpret(vqd_calc).total_energies\n",
        "vqd_energies = [vqd_sorted[i].real for i in range(3)]\n",
        "\n",
        "print('VQD - minimum 3 energies:', vqd_energies[0], vqd_energies[1], vqd_energies[2])\n",
        "print('Exact - minimum energy:', exact_energies[0], exact_energies[1], exact_energies[2])"
      ]
    },
    {
      "attachments": {},
      "cell_type": "markdown",
      "metadata": {},
      "source": [
        "This sections computes the exact and the variational values of the first three energy levels. To compute the exact value we used the NumPyEigensolverFactory and for the variational one we used the VQD algorithm. We created a simple anzants with the RyRz scheme since it was much more faster than UCCSD. "
      ]
    },
    {
      "cell_type": "markdown",
      "metadata": {
        "id": "qyPWUSto7as0"
      },
      "source": [
        "## 2.2 - Spectrum as function of the bond length\n",
        "\n",
        "Compute the the GS and the first two excited states energies as function of the bond length.\n",
        "Consider bond lengths in a range of $0.5~\\unicode{x212B}$ and $2.5~\\unicode{x212B}$ in intervals of $0.25~\\unicode{x212B}$.\n",
        "\n",
        "Compare the exact energies with those obtained through variational methods.\n",
        "\n",
        "### Compute the energy of the GS and the next two excited states as function of the bond length. Can you (roughly) identify a candidate for the equilibrium bond length of the molecule?"
      ]
    },
    {
      "cell_type": "code",
      "execution_count": null,
      "metadata": {
        "id": "IHIUxzQUhQJj"
      },
      "outputs": [],
      "source": [
        "sampler = Sampler()\n",
        "fidelity = ComputeUncompute(sampler)\n",
        "\n",
        "backend = BasicAer.get_backend(\"statevector_simulator\")\n",
        "distances = np.arange(0.5, 2.5, 0.25)\n",
        "optimizer = COBYLA(maxiter=100)\n",
        "\n",
        "lambdas_vqd = []\n",
        "lambdas_exact = []\n",
        "\n",
        "for dist in distances:\n",
        "\n",
        "    ### \n",
        "    (qubit_op, num_particles, num_spatial_orbitals, problem, converter) = get_qubit_op(dist)\n",
        "\n",
        "    # Exact solver\n",
        "    #exact_values = exact_solver(problem,converter)\n",
        "    #exact_energies = problem.interpret(exact_values).total_energies\n",
        "\n",
        "    # VQD\n",
        "    init_state = HartreeFock(num_spatial_orbitals, num_particles, converter)\n",
        "    var_form = TwoLocal(num_spatial_orbitals, rotation_blocks = ['ry', 'rz'], entanglement_blocks = ['cz'], initial_state = init_state)\n",
        "\n",
        "    vqd = VQD(estimator = Estimator(), fidelity = fidelity, ansatz = var_form, optimizer = optimizer, k = 3) \n",
        "    vqd_calc = vqd.compute_eigenvalues(operator=qubit_op)\n",
        "    vqd_values = vqd_calc.optimal_values\n",
        "    vqd_sorted = problem.interpret(vqd_calc).total_energies\n",
        "    vqd_energies = [vqd_sorted[i].real for i in range(3)]\n",
        "\n",
        "    lambdas_vqd.append(vqd_energies)\n",
        "    #lambdas_exact.append(exact_energies)"
      ]
    },
    {
      "attachments": {},
      "cell_type": "markdown",
      "metadata": {},
      "source": [
        "Given the previous sections this was pretty straightforward, we just repeted the process for various distances. "
      ]
    },
    {
      "cell_type": "markdown",
      "metadata": {
        "id": "9A6X1nisD941"
      },
      "source": [
        "## 2.3 - Imperfect devices\n",
        "\n",
        "In the current noisy intermediate-scale quantum (NISQ) devices, the operations are imperfect and the errors accumulate along the execution of the circuit.\n",
        "In particular, two-qubit operations, such as the CNOT, have the highest errors.\n",
        "\n",
        "Here, we consider a more realistic scenario in which we simulate noisy two-qubit gates.\n",
        "Create a noise model considering an error rate of $0.02$ in CNOT operations.\n",
        "See the example code below:\n",
        "\n",
        "```python\n",
        "from qiskit_aer.noise import NoiseModel, depolarizing_error\n",
        "noise_model = NoiseModel()\n",
        "error = depolarizing_error(0.02, 2)\n",
        "noise_model.add_all_qubit_quantum_error(error, ['cx'])\n",
        "```\n",
        "\n",
        "Compute the GS and first excited state energies as function of the bond length with the noisy simulation and compare it with the exact values.\n",
        "\n",
        "Large circuits with many entangling gates will accumulate many errors, damaging the performance.\n",
        "Try different ansatze to find the best trade-off between expressivity and errors (even if they do not preserve the particle number).\n",
        "You can also use other Hamiltonian mappings that may be more convenient for the task.\n",
        "\n",
        "Report the best results you find and briefly describe your findings (what worked best and what did not).\n",
        "\n",
        "### Compute the GS and first excited state energies as function of the bond length in the noisy simulation."
      ]
    },
    {
      "cell_type": "code",
      "execution_count": null,
      "metadata": {
        "id": "BFGnvIHihQMW"
      },
      "outputs": [],
      "source": [
        "from qiskit_aer.noise import NoiseModel, depolarizing_error\n",
        "from qiskit_aer.primitives import Estimator as AerEstimator\n",
        "noise_model = NoiseModel()\n",
        "error = depolarizing_error(0.02, 2)\n",
        "noise_model.add_all_qubit_quantum_error(error, ['cx'])\n",
        "#estimator = Estimator(noise_model)\n",
        "\n",
        "noisy_estimator = AerEstimator(backend_options={\"noise_model\": noise_model})\n",
        "\n",
        "sampler = Sampler()\n",
        "fidelity = ComputeUncompute(sampler)\n",
        "\n",
        "def exact_solver(problem, converter):\n",
        "    solver = NumPyEigensolverFactory(use_default_filter_criterion=True, k=3)\n",
        "    calc = ExcitedStatesEigensolver(converter, solver)\n",
        "    result = calc.solve(problem)\n",
        "    return result\n",
        "\n",
        "backend = BasicAer.get_backend(\"statevector_simulator\")\n",
        "#distances = np.arange(0.5, 2.5, 0.25)\n",
        "distances = [0.5]\n",
        "optimizer = COBYLA(maxiter=10)\n",
        "\n",
        "lambdas_vqd = []\n",
        "lambdas_exact = []\n",
        "\n",
        "for dist in distances:\n",
        "\n",
        "    ### \n",
        "    (qubit_op, num_particles, num_spatial_orbitals, problem, converter) = get_qubit_op(dist)\n",
        "\n",
        "    # Exact solver\n",
        "    #exact_values = exact_solver(problem,converter)\n",
        "    #exact_energies = problem.interpret(exact_values).total_energies\n",
        "\n",
        "    # VQD\n",
        "    init_state = HartreeFock(num_spatial_orbitals, num_particles, converter)\n",
        "    #print(init_state)\n",
        "    var_form = TwoLocal(num_spatial_orbitals, rotation_blocks = ['ry', 'rz'], entanglement_blocks = ['cz'], initial_state = init_state)\n",
        "    #print('var_form\\n', var_form)\n",
        "\n",
        "    vqd = VQD(estimator = noisy_estimator, fidelity = fidelity, ansatz = var_form, optimizer = optimizer, k = 3) \n",
        "    print('vqd\\n', vqd)\n",
        "    vqd_calc = vqd.compute_eigenvalues(operator=qubit_op)\n",
        "    print('vqd_calc\\n', vqd_calc)\n",
        "    vqd_values = vqd_calc.optimal_values\n",
        "    print('vqd_values\\n', vqd_values)\n",
        "    vqd_sorted = problem.interpret(vqd_calc).total_energies\n",
        "    vqd_energies = [vqd_sorted[i].real for i in range(3)]\n",
        "\n",
        "    lambdas_vqd.append(vqd_energies)\n",
        "    #lambdas_exact.append(exact_energies)"
      ]
    },
    {
      "attachments": {},
      "cell_type": "markdown",
      "metadata": {},
      "source": [
        "Lastly, we tried to implement a simulation with real noise, but we couldn't verify that it worked properly due to time. "
      ]
    },
    {
      "attachments": {},
      "cell_type": "markdown",
      "metadata": {},
      "source": [
        "All the plots are uploaded on the github. "
      ]
    },
    {
      "cell_type": "markdown",
      "metadata": {
        "id": "9K0gCJHDhQbK"
      },
      "source": [
        "_Knowing the electronic properties of the shell, you've managed to stabilize it and cool it a bit in the process.\n",
        "This has given you some time to work and find a solution._\n",
        "\n",
        "_We're all slightly less likely to die. Great!_\n",
        "\n",
        "----\n",
        "\n",
        "_With the stabilized shell, you can finally run a scanner and obtain a clear diagnosis of the core.\n",
        "It appears that someone must've momentarily slept on the core moderators, producing a high temperature spike that has caused the LiH from the shell to release hydrogen gas (H$_2$)._\n",
        "\n",
        "_This has ignited a side fusion reaction of the hydrogen, that further raises the temperature, releasing more H$_2$ to the mixture.\n",
        "NOT GOOD!\n",
        "This'll get out of control in a moment.\n",
        "You must deploy the H collectors (if they work) before this gets out of control!_\n",
        "\n",
        "_With the apparent mess, the collector memories have been reset.\n",
        "Given the situation, you feel lucky to even find some functional collectors._ \n",
        "\n",
        "# 3. MASTER THE QUANTUM SIMULATION SHENANIGANS  <a class=\"anchor\" id=\"3\"></a> [[↑]](#0)\n",
        "\n",
        "_Seedis is on a rampage: \"Let's go bois and gals, these collectors won't get fixed by themselves! We just need to load the H$_2$ data to stop the retroalimentation loop.\"_\n",
        "\n",
        "> It's time to test the power of a real quantum computer.\n",
        "In this task you will use an actual quantum computer to find the ground state of the H$_2$ molecule. \n",
        "\n",
        "Using one of the quantum computers from [IBM Quantum](https://quantum-computing.ibm.com/), find the GS energy of the hydrogen molecule H$_2$ for a bond distance of $0.735~\\unicode{x212B}$.\n",
        "Use all the tools at your disposal to obtain the best possible result and try to make the most efficient use of resources through [Qiskit runtime](https://quantum-computing.ibm.com/lab/docs/iql/runtime/).\n",
        "\n",
        "We recommend looking carefully at both runtime (the faster, the more you can experiment) and error sources (self-explanatory!).\n",
        "Here, we provide a few ideas to explore. However, you are not bound to implement any of these, you're completely free to do whatever you want to improve the simulation.\n",
        "\n",
        "Consider:\n",
        "- Looking into the hardware architecture to identify the best qubits to use\n",
        "- Calibrate the qubits with [Qiskit Pulse](https://qiskit.org/textbook/ch-quantum-hardware/calibrating-qubits-pulse.html)\n",
        "- Tailor the ansatz to the hardware\n",
        "- Implement an adaptive algorithm to reduce the ansatz size\n",
        "- Implement error mitigation techniques like [measurement error mitigation](https://qiskit.org/textbook/ch-quantum-hardware/measurement-error-mitigation.html), [randomized compiling](https://qiskit.org/documentation/stable/0.32/stubs/qiskit.ignis.verification.QOTP.html), and [others](https://qiskit.org/documentation/partners/qiskit_ibm_runtime/tutorials/Error-Suppression-and-Error-Mitigation.html)\n",
        "- Parallelize operations and measurements\n",
        "- Explore [dynamic circuit](https://quantum-computing.ibm.com/services/programs/docs/runtime/manage/systems/dynamic-circuits/Introduction-To-Dynamic-Circuits) techniques\n",
        "- Explore more advanced optimization schemes (e.g., [Quantum Natural SPSA](https://qiskit.org/documentation/stubs/qiskit.algorithms.optimizers.QNSPSA.html))"
      ]
    },
    {
      "cell_type": "code",
      "execution_count": null,
      "metadata": {
        "id": "U2y8hsqHoU70"
      },
      "outputs": [],
      "source": []
    },
    {
      "cell_type": "markdown",
      "metadata": {
        "id": "0Kn1uRy5fKlC"
      },
      "source": [
        "## Bonus: an extra atom\n",
        "\n",
        "If you consider that you have obtained a competitive result for H$_2$, you can tackle the H$_3^+$ molecule. It has the same number of electrons, but you will have to consider more orbitals (which requires more qubits).\n",
        "\n",
        "The three hydrogen atoms form an equilater triangle with bond length $0.986~\\unicode{x212B}$."
      ]
    },
    {
      "cell_type": "code",
      "execution_count": null,
      "metadata": {
        "id": "d3AZw972fMZ_"
      },
      "outputs": [],
      "source": []
    },
    {
      "cell_type": "markdown",
      "metadata": {
        "id": "8KT-Vk91AzTv"
      },
      "source": [
        "_You upload the simulation results to the few functional collectors.\n",
        "With more faith than expectations, you deploy them to clear the core chamber hoping they will collect enough H$_2$ before they fry._\n",
        "\n",
        "_Alea iacta est._\n",
        "\n",
        "_This gives you a brief moment to think about the possible outcomes.\n",
        "It does not look good, and you look into your teamates eyes.\n",
        "You feel pure respect and joy to be in such an amazing unit._\n",
        "\n",
        "_The last collector is down.\n",
        "Your heart stops for a moment, right before you see the temperature starting to drop.\n",
        "You did it!\n",
        "Well, technically you still need to stabilize the core, but the biggest threat has been neutralized.\n",
        "The rest is just a rutinary protocol._\n",
        "\n",
        "_Congratulations!\n",
        "You should all be proud of your hard work during this intense weekend.\n",
        "It surely was an entertaining crisis to handle!_\n",
        "\n",
        "## REFERENCES <a class=\"anchor\" id=\"REF\"></a> [[↑]](#0)\n",
        "\n",
        "[1] Franchini, Fabio. An introduction to integrable techniques for one-dimensional quantum systems. Vol. 940. Cham: Springer International Publishing, 2017. ([url](https://arxiv.org/abs/1609.02100))\n",
        "\n",
        "[2] Kandala, Abhinav, et al. \"Hardware-efficient variational quantum eigensolver for small molecules and quantum magnets.\" Nature 549.7671 (2017): 242-246. ([url](https://arxiv.org/abs/1704.05018))\n",
        "\n",
        "[3] Higgott, Oscar, Daochen Wang, and Stephen Brierley. \"Variational quantum computation of excited states.\" Quantum 3 (2019): 156. ([url](https://quantum-journal.org/papers/q-2019-07-01-156/))"
      ]
    }
  ],
  "metadata": {
    "colab": {
      "provenance": []
    },
    "kernelspec": {
      "display_name": "Python 3",
      "language": "python",
      "name": "python3"
    },
    "language_info": {
      "codemirror_mode": {
        "name": "ipython",
        "version": 3
      },
      "file_extension": ".py",
      "mimetype": "text/x-python",
      "name": "python",
      "nbconvert_exporter": "python",
      "pygments_lexer": "ipython3",
      "version": "3.9.13"
    },
    "vscode": {
      "interpreter": {
        "hash": "06c2a64f08643f934fb345591d66661c0b89434c66f3bf1f825703c0dff8a6b0"
      }
    }
  },
  "nbformat": 4,
  "nbformat_minor": 0
}
