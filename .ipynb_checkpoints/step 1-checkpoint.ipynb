{
 "cells": [
  {
   "cell_type": "code",
   "execution_count": 62,
   "id": "96d12cb6",
   "metadata": {},
   "outputs": [
    {
     "name": "stdout",
     "output_type": "stream",
     "text": [
      "Requirement already satisfied: pylatexenc in c:\\users\\gabri\\anaconda3\\envs\\coding\\lib\\site-packages (2.10)Note: you may need to restart the kernel to use updated packages.\n",
      "\n"
     ]
    }
   ],
   "source": [
    "pip install pylatexenc"
   ]
  },
  {
   "cell_type": "code",
   "execution_count": 63,
   "id": "ad38ff0e",
   "metadata": {
    "scrolled": false
   },
   "outputs": [
    {
     "name": "stdout",
     "output_type": "stream",
     "text": [
      "(0.9999999999999998+0j)\n"
     ]
    },
    {
     "data": {
      "image/png": "[encoded data removed]",
      "text/plain": [
       "<Figure size 568.197x385.28 with 1 Axes>"
      ]
     },
     "execution_count": 63,
     "metadata": {},
     "output_type": "execute_result"
    }
   ],
   "source": [
    "import numpy as np\n",
    "import matplotlib.pyplot as plt\n",
    "plt.rcParams.update({'font.size': 16}) # enlarge fonts\n",
    "\n",
    "\n",
    "# Import standard qiskit modules \n",
    "\n",
    "from qiskit import QuantumCircuit, QuantumRegister, Aer, execute\n",
    "from qiskit.quantum_info.operators import Operator, Pauli\n",
    "from qiskit.opflow import I, X, Y, Z\n",
    "\n",
    "#For doing exact simulation you can use Statevector (feel free to use something else)\n",
    "from qiskit.quantum_info import Statevector, random_statevector\n",
    "\n",
    "\n",
    "circuit = QuantumCircuit(5,5)\n",
    "\n",
    "circuit.h(0)\n",
    "circuit.h(1)\n",
    "circuit.h(2)\n",
    "circuit.h(3)\n",
    "circuit.h(4)\n",
    "\n",
    "circuit.cx(0,4)\n",
    "circuit.rx(np.pi/2,1)\n",
    "circuit.rx(np.pi/2,4)\n",
    "\n",
    "circuit.cx(0,3)\n",
    "\n",
    "circuit.rx(np.pi/2,0)\n",
    "\n",
    "circuit.rx(np.pi/5,3)\n",
    "\n",
    "circuit.cx(3,1)\n",
    "\n",
    "circuit.rx(np.pi/2,1)\n",
    "\n",
    "circuit.cx(2,3)\n",
    "\n",
    "circuit.rx(np.pi/2,2)\n",
    "\n",
    "\n",
    "\n",
    "M = X\n",
    "\n",
    "sv_uncut = Statevector.from_label('00000')\n",
    "\n",
    "state_uncut = sv_uncut.evolve(circuit)\n",
    "\n",
    "exp_M_uncut = state_uncut.expectation_value(M^M^M^M^M)\n",
    "\n",
    "print(exp_M_uncut)\n",
    "\n",
    "circuit.draw(output='mpl')"
   ]
  },
  {
   "cell_type": "code",
   "execution_count": 64,
   "id": "baea9aa0",
   "metadata": {},
   "outputs": [
    {
     "data": {
      "image/png": "[encoded data removed]",
      "text/plain": [
       "<Figure size 387.597x264.88 with 1 Axes>"
      ]
     },
     "execution_count": 64,
     "metadata": {},
     "output_type": "execute_result"
    }
   ],
   "source": [
    "cut_circuit_1 = QuantumCircuit(3,3)\n",
    "\n",
    "cut_circuit_1.h(0)\n",
    "cut_circuit_1.h(1)\n",
    "cut_circuit_1.h(2)\n",
    "\n",
    "cut_circuit_1.cx(0,1)\n",
    "\n",
    "cut_circuit_1.rx(np.pi/2,1)\n",
    "cut_circuit_1.cx(0,2)\n",
    "\n",
    "\n",
    "cut_circuit_1.rx(np.pi/2,0)\n",
    "\n",
    "\n",
    "cut_circuit_1.draw(output='mpl')\n",
    "\n"
   ]
  },
  {
   "cell_type": "markdown",
   "id": "ce3140ef",
   "metadata": {},
   "source": [
    "Compute the expectation value for $M = X$ and $O_i$"
   ]
  },
  {
   "cell_type": "code",
   "execution_count": 65,
   "id": "143aa75d",
   "metadata": {
    "scrolled": true
   },
   "outputs": [
    {
     "name": "stdout",
     "output_type": "stream",
     "text": [
      "[(0.9999999999999998+0j), (0.9999999999999998+0j), (0.9999999999999998+0j), (0.9999999999999998+0j), 2.2371143170757382e-17j, 2.2371143170757382e-17j, (-2.2371143170757382e-17+0j), (-2.2371143170757382e-17+0j)]\n"
     ]
    }
   ],
   "source": [
    "cut_circuit_1 = QuantumCircuit(3,3)\n",
    "\n",
    "cut_circuit_1.h(0)\n",
    "cut_circuit_1.h(1)\n",
    "cut_circuit_1.h(2)\n",
    "\n",
    "cut_circuit_1.cx(0,1)\n",
    "\n",
    "cut_circuit_1.rx(np.pi/2,1)\n",
    "cut_circuit_1.cx(0,2)\n",
    "\n",
    "cut_circuit_1.rx(np.pi/2,0)\n",
    "\n",
    "\n",
    "sv = Statevector.from_label('000')\n",
    "\n",
    "state = sv.evolve(cut_circuit_1)\n",
    "c = [1/2, 1/2, 1/2, -1/2, 1/2, -1/2, 1/2, -1/2]\n",
    "O = [I, X, Y, Z]\n",
    "exp_op = []\n",
    "for i in range(len(O)):\n",
    "    exp_op.append(state.expectation_value(O[i]^M^M))\n",
    "    exp_op.append(state.expectation_value(O[i]^M^M))\n",
    "print(exp_op)\n"
   ]
  },
  {
   "cell_type": "markdown",
   "id": "6feeeda7",
   "metadata": {},
   "source": [
    "Now we continue with the second piece of the circuit"
   ]
  },
  {
   "cell_type": "code",
   "execution_count": 66,
   "id": "47b67ddd",
   "metadata": {
    "scrolled": true
   },
   "outputs": [
    {
     "data": {
      "image/png": "[encoded data removed]",
      "text/plain": [
       "<Figure size 387.597x264.88 with 1 Axes>"
      ]
     },
     "execution_count": 66,
     "metadata": {},
     "output_type": "execute_result"
    }
   ],
   "source": [
    "cut_circuit_2 = QuantumCircuit(3,3)\n",
    "\n",
    "\n",
    "cut_circuit_2.rx(np.pi/5,0)\n",
    "cut_circuit_2.h(1)\n",
    "cut_circuit_2.rx(np.pi/2,1)\n",
    "cut_circuit_2.h(2)\n",
    "\n",
    "cut_circuit_2.cx(0,1)\n",
    "\n",
    "cut_circuit_2.cx(2,0)\n",
    "cut_circuit_2.rx(np.pi/2,1)\n",
    "\n",
    "\n",
    "cut_circuit_2.rx(np.pi/2,2)\n",
    "\n",
    "\n",
    "cut_circuit_2.draw(output='mpl')\n",
    "\n"
   ]
  },
  {
   "cell_type": "markdown",
   "id": "6cd33f0a",
   "metadata": {},
   "source": [
    "print the output state when the input is $|0\\rangle$"
   ]
  },
  {
   "cell_type": "code",
   "execution_count": 67,
   "id": "9c8a9ce6",
   "metadata": {
    "scrolled": true
   },
   "outputs": [],
   "source": [
    "sv0 = Statevector.from_label('000')\n",
    "\n",
    "state_0 = sv0.evolve(cut_circuit_2)\n"
   ]
  },
  {
   "cell_type": "markdown",
   "id": "dadb550a",
   "metadata": {},
   "source": [
    "print the output state when the input is $|1\\rangle$"
   ]
  },
  {
   "cell_type": "code",
   "execution_count": 68,
   "id": "0b44d6d4",
   "metadata": {},
   "outputs": [],
   "source": [
    "sv1 = Statevector.from_label('001')\n",
    "\n",
    "state_1 = sv1.evolve(cut_circuit_2)\n"
   ]
  },
  {
   "cell_type": "markdown",
   "id": "4afc3152",
   "metadata": {},
   "source": [
    "print the output state when the input is $|+\\rangle$"
   ]
  },
  {
   "cell_type": "code",
   "execution_count": 69,
   "id": "bdab20d9",
   "metadata": {
    "scrolled": true
   },
   "outputs": [],
   "source": [
    "svplus = Statevector.from_label('00+')\n",
    "\n",
    "state_plus = svplus.evolve(cut_circuit_2)\n"
   ]
  },
  {
   "cell_type": "markdown",
   "id": "b1898e6e",
   "metadata": {},
   "source": [
    "print the output state when the input is $|-\\rangle$"
   ]
  },
  {
   "cell_type": "code",
   "execution_count": 70,
   "id": "e5cb354f",
   "metadata": {},
   "outputs": [],
   "source": [
    "svminus = Statevector.from_label('00-')\n",
    "\n",
    "state_minus = svminus.evolve(cut_circuit_2)\n"
   ]
  },
  {
   "cell_type": "markdown",
   "id": "f0b5550d",
   "metadata": {},
   "source": [
    "print the output state when the input is $|i\\rangle$"
   ]
  },
  {
   "cell_type": "code",
   "execution_count": 71,
   "id": "68a7d658",
   "metadata": {},
   "outputs": [],
   "source": [
    "svi = Statevector.from_label('00r')\n",
    "\n",
    "state_i = svi.evolve(cut_circuit_2)\n"
   ]
  },
  {
   "cell_type": "markdown",
   "id": "396e91bc",
   "metadata": {},
   "source": [
    "print the output state when the input is $|-i\\rangle$"
   ]
  },
  {
   "cell_type": "code",
   "execution_count": 72,
   "id": "29e9bf1a",
   "metadata": {},
   "outputs": [],
   "source": [
    "svnegi = Statevector.from_label('00l')\n",
    "\n",
    "state_negi = svnegi.evolve(cut_circuit_2)\n"
   ]
  },
  {
   "cell_type": "code",
   "execution_count": 73,
   "id": "f8ca3838",
   "metadata": {},
   "outputs": [],
   "source": [
    "states_evolved = [state_0, state_1, state_plus, state_minus, state_i, state_negi, state_0, state_1]"
   ]
  },
  {
   "cell_type": "code",
   "execution_count": 74,
   "id": "8ec5b86a",
   "metadata": {
    "scrolled": false
   },
   "outputs": [
    {
     "name": "stdout",
     "output_type": "stream",
     "text": [
      "[(1.0000000000000002+0j), (1.0000000000000002+0j), (0.9999999999999999+0j), (0.9999999999999999+0j), (0.9999999999999997+0j), (0.9999999999999997+0j), (1.0000000000000002+0j), (1.0000000000000002+0j)]\n"
     ]
    }
   ],
   "source": [
    "exp_operator_M = []\n",
    "for i in range(len(states_evolved)):\n",
    "    exp_operator_M.append(states_evolved[i].expectation_value(M^M^M))\n",
    "\n",
    "\n",
    "print(exp_operator_M)"
   ]
  },
  {
   "cell_type": "code",
   "execution_count": 83,
   "id": "6d22b16b",
   "metadata": {},
   "outputs": [
    {
     "name": "stdout",
     "output_type": "stream",
     "text": [
      "<M> = (1+0j)\n"
     ]
    }
   ],
   "source": [
    "sum_M = []\n",
    "for i in range(len(exp_operator_M)):\n",
    "    sum_M.append(c[i]*exp_op[i]*exp_operator_M[i])\n",
    "exp_M = sum(sum_M)\n",
    "print('<M> =', exp_M)\n"
   ]
  },
  {
   "cell_type": "code",
   "execution_count": null,
   "id": "b7440592",
   "metadata": {},
   "outputs": [],
   "source": []
  },
  {
   "cell_type": "code",
   "execution_count": null,
   "id": "1a5931cd",
   "metadata": {},
   "outputs": [],
   "source": []
  }
 ],
 "metadata": {
  "kernelspec": {
   "display_name": "Python 3 (ipykernel)",
   "language": "python",
   "name": "python3"
  },
  "language_info": {
   "codemirror_mode": {
    "name": "ipython",
    "version": 3
   },
   "file_extension": ".py",
   "mimetype": "text/x-python",
   "name": "python",
   "nbconvert_exporter": "python",
   "pygments_lexer": "ipython3",
   "version": "3.10.5"
  }
 },
 "nbformat": 4,
 "nbformat_minor": 5
}
