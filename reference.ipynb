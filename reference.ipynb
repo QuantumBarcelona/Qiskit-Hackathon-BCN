{
 "cells": [
  {
   "cell_type": "code",
   "execution_count": 1,
   "metadata": {},
   "outputs": [
    {
     "name": "stdout",
     "output_type": "stream",
     "text": [
      "Theoretical price of call option: 6.040088129724239\n"
     ]
    }
   ],
   "source": [
    "import numpy as np\n",
    "from scipy.stats import norm\n",
    "\n",
    "# Define the parameters of the option\n",
    "S0 = 100  # Current price of the underlying asset\n",
    "K = 110  # Strike price of the option\n",
    "T = 1  # Time to expiration (in years)\n",
    "r = 0.05  # Risk-free interest rate\n",
    "sigma = 0.2  # Volatility of the underlying asset\n",
    "\n",
    "# Calculate the d1 and d2 terms\n",
    "d1 = (np.log(S0 / K) + (r + 0.5 * sigma**2) * T) / (sigma * np.sqrt(T))\n",
    "d2 = d1 - sigma * np.sqrt(T)\n",
    "\n",
    "# Calculate the theoretical price of the option\n",
    "N = norm.cdf\n",
    "call_price = S0 * N(d1) - K * np.exp(-r * T) * N(d2)\n",
    "print(\"Theoretical price of call option:\", call_price)"
   ]
  }
 ],
 "metadata": {
  "kernelspec": {
   "display_name": "qiskit",
   "language": "python",
   "name": "python3"
  },
  "language_info": {
   "codemirror_mode": {
    "name": "ipython",
    "version": 3
   },
   "file_extension": ".py",
   "mimetype": "text/x-python",
   "name": "python",
   "nbconvert_exporter": "python",
   "pygments_lexer": "ipython3",
   "version": "3.11.0"
  },
  "orig_nbformat": 4
 },
 "nbformat": 4,
 "nbformat_minor": 2
}
